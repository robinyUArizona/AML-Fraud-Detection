{
 "cells": [
  {
   "cell_type": "markdown",
   "metadata": {},
   "source": [
    "# Anti Money Laundering (AML) Fraud Detection\n",
    "\n",
    "\n",
    "        Life cycle of Machine Learning Project:\n",
    "\n",
    "            1. Understanding the Problem Statement\n",
    "\n",
    "            2. Data Collection\n",
    "\n",
    "            3. Data Checks to perform\n",
    "\n",
    "            4. Exploratory Data Analysis\n",
    "\n",
    "            5. Data Pre-Processing\n",
    "\n",
    "            6. Model Evaluation and Training\n",
    "\n",
    "            7. Choose Best Model\n"
   ]
  },
  {
   "cell_type": "markdown",
   "metadata": {},
   "source": [
    "## 1. Problem Statement\n",
    "\n",
    "Money laundering is a multi-billion dollar issue. Detection of laundering is very difficult. Most automated algorithms have a high false positive rate: legitimate transactions incorrectly flagged as laundering. The converse is also a major problem -- false negatives, i.e. undetected laundering transactions. Naturally, criminals work hard to cover their tracks.\n",
    "\n",
    "Access to real financial transaction data is highly restricted -- for both proprietary and privacy reasons. Even when access is possible, it is problematic to provide a correct tag (laundering or legitimate) to each transaction -- as noted above. This synthetic transaction data from IBM avoids these problems.\n",
    "\n",
    "The data provided here is based on a virtual world inhabited by individuals, companies, and banks."
   ]
  },
  {
   "cell_type": "markdown",
   "metadata": {},
   "source": [
    "## 2. Data Collection\n",
    "- Data source: https://www.kaggle.com/datasets/ealtman2019/ibm-transactions-for-anti-money-laundering-aml/data"
   ]
  },
  {
   "cell_type": "markdown",
   "metadata": {},
   "source": [
    "### 2.1 Import Required Packages"
   ]
  },
  {
   "cell_type": "code",
   "execution_count": 1,
   "metadata": {},
   "outputs": [],
   "source": [
    "# Import libraries\n",
    "import pandas as pd\n",
    "import numpy as np\n",
    "import matplotlib.pyplot as plt\n",
    "import seaborn as sns\n",
    "%matplotlib inline\n",
    "\n",
    "from statsmodels.stats.outliers_influence import variance_inflation_factor\n",
    "from statsmodels.tools.tools import add_constant\n",
    "from scipy.stats import chi2_contingency"
   ]
  },
  {
   "cell_type": "markdown",
   "metadata": {},
   "source": [
    "### 2.2 Import Data"
   ]
  },
  {
   "cell_type": "code",
   "execution_count": 2,
   "metadata": {},
   "outputs": [
    {
     "name": "stdout",
     "output_type": "stream",
     "text": [
      "/Users/robins/Desktop/Robins World/Data Science - Machine Learning Prep/01 - MLOps/AML-Fraud-Detection/notebook\n",
      "/Users/robins/Desktop/Robins World/Data Science - Machine Learning Prep/01 - MLOps/AML-Fraud-Detection/notebook/data\n",
      "/Users/robins/Desktop/Robins World/Data Science - Machine Learning Prep/01 - MLOps/AML-Fraud-Detection/notebook/data/HI-Small_Trans.csv\n"
     ]
    }
   ],
   "source": [
    "import os\n",
    "# Get the current working directory\n",
    "cwd = os.getcwd()\n",
    "print(cwd)\n",
    "\n",
    "# Navigate to the data folder\n",
    "data_folder = os.path.abspath(os.path.join(cwd, \"data\"))\n",
    "print(data_folder)\n",
    "\n",
    "csv_file = os.path.join(data_folder, \"HI-Small_Trans.csv\")\n",
    "print(csv_file)"
   ]
  },
  {
   "cell_type": "code",
   "execution_count": 3,
   "metadata": {},
   "outputs": [
    {
     "name": "stdout",
     "output_type": "stream",
     "text": [
      "Shape of data:  \n",
      " No. of records: 5078345 \n",
      " No. features: 11\n"
     ]
    }
   ],
   "source": [
    "# Load the CSV file into a pandas DataFrame\n",
    "aml_trans_df = pd.read_csv(csv_file)\n",
    "# display(aml_trans_df.head())\n",
    "print(f\"Shape of data:  \\n No. of records: {aml_trans_df.shape[0]} \\n No. features: {aml_trans_df.shape[1]}\")"
   ]
  },
  {
   "cell_type": "code",
   "execution_count": 4,
   "metadata": {},
   "outputs": [
    {
     "name": "stdout",
     "output_type": "stream",
     "text": [
      "Shape of data:  \n",
      " No. of records: 50000 \n",
      " No. features: 11\n"
     ]
    }
   ],
   "source": [
    "# Take small sample of data from the original data\n",
    "aml_trans_sm_df = aml_trans_df.sample(n=50000, random_state=6)\n",
    "print(f\"Shape of data:  \\n No. of records: {aml_trans_sm_df.shape[0]} \\n No. features: {aml_trans_sm_df.shape[1]}\")"
   ]
  },
  {
   "cell_type": "markdown",
   "metadata": {},
   "source": [
    "#### Show Top 5 records"
   ]
  },
  {
   "cell_type": "code",
   "execution_count": 5,
   "metadata": {},
   "outputs": [
    {
     "data": {
      "text/html": [
       "<div>\n",
       "<style scoped>\n",
       "    .dataframe tbody tr th:only-of-type {\n",
       "        vertical-align: middle;\n",
       "    }\n",
       "\n",
       "    .dataframe tbody tr th {\n",
       "        vertical-align: top;\n",
       "    }\n",
       "\n",
       "    .dataframe thead th {\n",
       "        text-align: right;\n",
       "    }\n",
       "</style>\n",
       "<table border=\"1\" class=\"dataframe\">\n",
       "  <thead>\n",
       "    <tr style=\"text-align: right;\">\n",
       "      <th></th>\n",
       "      <th>Timestamp</th>\n",
       "      <th>From Bank</th>\n",
       "      <th>Account</th>\n",
       "      <th>To Bank</th>\n",
       "      <th>Account.1</th>\n",
       "      <th>Amount Received</th>\n",
       "      <th>Receiving Currency</th>\n",
       "      <th>Amount Paid</th>\n",
       "      <th>Payment Currency</th>\n",
       "      <th>Payment Format</th>\n",
       "      <th>Is Laundering</th>\n",
       "    </tr>\n",
       "  </thead>\n",
       "  <tbody>\n",
       "    <tr>\n",
       "      <th>3507139</th>\n",
       "      <td>2022/09/07 12:15</td>\n",
       "      <td>29</td>\n",
       "      <td>80CF063F0</td>\n",
       "      <td>235843</td>\n",
       "      <td>80CFE1EB0</td>\n",
       "      <td>386006.86</td>\n",
       "      <td>Brazil Real</td>\n",
       "      <td>386006.86</td>\n",
       "      <td>Brazil Real</td>\n",
       "      <td>Cheque</td>\n",
       "      <td>0</td>\n",
       "    </tr>\n",
       "    <tr>\n",
       "      <th>2054082</th>\n",
       "      <td>2022/09/03 21:15</td>\n",
       "      <td>70</td>\n",
       "      <td>100428660</td>\n",
       "      <td>22732</td>\n",
       "      <td>80BFEBFF0</td>\n",
       "      <td>8638.95</td>\n",
       "      <td>US Dollar</td>\n",
       "      <td>8638.95</td>\n",
       "      <td>US Dollar</td>\n",
       "      <td>Cheque</td>\n",
       "      <td>0</td>\n",
       "    </tr>\n",
       "    <tr>\n",
       "      <th>4745576</th>\n",
       "      <td>2022/09/09 19:22</td>\n",
       "      <td>338871</td>\n",
       "      <td>8144F97F0</td>\n",
       "      <td>15964</td>\n",
       "      <td>8144FEB20</td>\n",
       "      <td>80.84</td>\n",
       "      <td>Euro</td>\n",
       "      <td>80.84</td>\n",
       "      <td>Euro</td>\n",
       "      <td>Credit Card</td>\n",
       "      <td>0</td>\n",
       "    </tr>\n",
       "    <tr>\n",
       "      <th>1999193</th>\n",
       "      <td>2022/09/03 14:11</td>\n",
       "      <td>70</td>\n",
       "      <td>1004286A8</td>\n",
       "      <td>1502</td>\n",
       "      <td>812191060</td>\n",
       "      <td>46480.59</td>\n",
       "      <td>Euro</td>\n",
       "      <td>46480.59</td>\n",
       "      <td>Euro</td>\n",
       "      <td>Cheque</td>\n",
       "      <td>0</td>\n",
       "    </tr>\n",
       "    <tr>\n",
       "      <th>800550</th>\n",
       "      <td>2022/09/01 14:46</td>\n",
       "      <td>1</td>\n",
       "      <td>803A2CC10</td>\n",
       "      <td>130342</td>\n",
       "      <td>80C982930</td>\n",
       "      <td>118.46</td>\n",
       "      <td>US Dollar</td>\n",
       "      <td>118.46</td>\n",
       "      <td>US Dollar</td>\n",
       "      <td>Cheque</td>\n",
       "      <td>0</td>\n",
       "    </tr>\n",
       "  </tbody>\n",
       "</table>\n",
       "</div>"
      ],
      "text/plain": [
       "                Timestamp  From Bank    Account  To Bank  Account.1  \\\n",
       "3507139  2022/09/07 12:15         29  80CF063F0   235843  80CFE1EB0   \n",
       "2054082  2022/09/03 21:15         70  100428660    22732  80BFEBFF0   \n",
       "4745576  2022/09/09 19:22     338871  8144F97F0    15964  8144FEB20   \n",
       "1999193  2022/09/03 14:11         70  1004286A8     1502  812191060   \n",
       "800550   2022/09/01 14:46          1  803A2CC10   130342  80C982930   \n",
       "\n",
       "         Amount Received Receiving Currency  Amount Paid Payment Currency  \\\n",
       "3507139        386006.86        Brazil Real    386006.86      Brazil Real   \n",
       "2054082          8638.95          US Dollar      8638.95        US Dollar   \n",
       "4745576            80.84               Euro        80.84             Euro   \n",
       "1999193         46480.59               Euro     46480.59             Euro   \n",
       "800550            118.46          US Dollar       118.46        US Dollar   \n",
       "\n",
       "        Payment Format  Is Laundering  \n",
       "3507139         Cheque              0  \n",
       "2054082         Cheque              0  \n",
       "4745576    Credit Card              0  \n",
       "1999193         Cheque              0  \n",
       "800550          Cheque              0  "
      ]
     },
     "execution_count": 5,
     "metadata": {},
     "output_type": "execute_result"
    }
   ],
   "source": [
    "aml_trans_sm_df.head()"
   ]
  },
  {
   "cell_type": "code",
   "execution_count": 6,
   "metadata": {},
   "outputs": [
    {
     "data": {
      "text/plain": [
       "Is Laundering\n",
       "0    49946\n",
       "1       54\n",
       "Name: count, dtype: int64"
      ]
     },
     "execution_count": 6,
     "metadata": {},
     "output_type": "execute_result"
    }
   ],
   "source": [
    "aml_trans_sm_df[\"Is Laundering\"].value_counts()"
   ]
  },
  {
   "cell_type": "code",
   "execution_count": 7,
   "metadata": {},
   "outputs": [
    {
     "data": {
      "text/html": [
       "<div>\n",
       "<style scoped>\n",
       "    .dataframe tbody tr th:only-of-type {\n",
       "        vertical-align: middle;\n",
       "    }\n",
       "\n",
       "    .dataframe tbody tr th {\n",
       "        vertical-align: top;\n",
       "    }\n",
       "\n",
       "    .dataframe thead th {\n",
       "        text-align: right;\n",
       "    }\n",
       "</style>\n",
       "<table border=\"1\" class=\"dataframe\">\n",
       "  <thead>\n",
       "    <tr style=\"text-align: right;\">\n",
       "      <th></th>\n",
       "      <th>Timestamp</th>\n",
       "      <th>From Bank</th>\n",
       "      <th>Account</th>\n",
       "      <th>To Bank</th>\n",
       "      <th>Account.1</th>\n",
       "      <th>Amount Received</th>\n",
       "      <th>Receiving Currency</th>\n",
       "      <th>Amount Paid</th>\n",
       "      <th>Payment Currency</th>\n",
       "      <th>Payment Format</th>\n",
       "      <th>Is Laundering</th>\n",
       "    </tr>\n",
       "  </thead>\n",
       "  <tbody>\n",
       "    <tr>\n",
       "      <th>5018320</th>\n",
       "      <td>2022/09/13 18:11</td>\n",
       "      <td>2824</td>\n",
       "      <td>805DFF260</td>\n",
       "      <td>13083</td>\n",
       "      <td>803CF7A80</td>\n",
       "      <td>10446084.19</td>\n",
       "      <td>Euro</td>\n",
       "      <td>10446084.19</td>\n",
       "      <td>Euro</td>\n",
       "      <td>ACH</td>\n",
       "      <td>1</td>\n",
       "    </tr>\n",
       "    <tr>\n",
       "      <th>2192347</th>\n",
       "      <td>2022/09/04 12:14</td>\n",
       "      <td>214615</td>\n",
       "      <td>80E9CE540</td>\n",
       "      <td>10232</td>\n",
       "      <td>808FADF50</td>\n",
       "      <td>10162.68</td>\n",
       "      <td>US Dollar</td>\n",
       "      <td>10162.68</td>\n",
       "      <td>US Dollar</td>\n",
       "      <td>ACH</td>\n",
       "      <td>1</td>\n",
       "    </tr>\n",
       "    <tr>\n",
       "      <th>2327289</th>\n",
       "      <td>2022/09/05 01:16</td>\n",
       "      <td>26302</td>\n",
       "      <td>809CD43C0</td>\n",
       "      <td>25534</td>\n",
       "      <td>809CD5510</td>\n",
       "      <td>744.53</td>\n",
       "      <td>Canadian Dollar</td>\n",
       "      <td>744.53</td>\n",
       "      <td>Canadian Dollar</td>\n",
       "      <td>ACH</td>\n",
       "      <td>1</td>\n",
       "    </tr>\n",
       "    <tr>\n",
       "      <th>2456084</th>\n",
       "      <td>2022/09/06 12:07</td>\n",
       "      <td>13078</td>\n",
       "      <td>804F0BFF0</td>\n",
       "      <td>16011</td>\n",
       "      <td>807B0DEE0</td>\n",
       "      <td>12168.29</td>\n",
       "      <td>Euro</td>\n",
       "      <td>12168.29</td>\n",
       "      <td>Euro</td>\n",
       "      <td>ACH</td>\n",
       "      <td>1</td>\n",
       "    </tr>\n",
       "    <tr>\n",
       "      <th>3117676</th>\n",
       "      <td>2022/09/07 06:33</td>\n",
       "      <td>1655</td>\n",
       "      <td>8014E2420</td>\n",
       "      <td>22775</td>\n",
       "      <td>80104C350</td>\n",
       "      <td>458.65</td>\n",
       "      <td>Euro</td>\n",
       "      <td>458.65</td>\n",
       "      <td>Euro</td>\n",
       "      <td>ACH</td>\n",
       "      <td>1</td>\n",
       "    </tr>\n",
       "  </tbody>\n",
       "</table>\n",
       "</div>"
      ],
      "text/plain": [
       "                Timestamp  From Bank    Account  To Bank  Account.1  \\\n",
       "5018320  2022/09/13 18:11       2824  805DFF260    13083  803CF7A80   \n",
       "2192347  2022/09/04 12:14     214615  80E9CE540    10232  808FADF50   \n",
       "2327289  2022/09/05 01:16      26302  809CD43C0    25534  809CD5510   \n",
       "2456084  2022/09/06 12:07      13078  804F0BFF0    16011  807B0DEE0   \n",
       "3117676  2022/09/07 06:33       1655  8014E2420    22775  80104C350   \n",
       "\n",
       "         Amount Received Receiving Currency  Amount Paid Payment Currency  \\\n",
       "5018320      10446084.19               Euro  10446084.19             Euro   \n",
       "2192347         10162.68          US Dollar     10162.68        US Dollar   \n",
       "2327289           744.53    Canadian Dollar       744.53  Canadian Dollar   \n",
       "2456084         12168.29               Euro     12168.29             Euro   \n",
       "3117676           458.65               Euro       458.65             Euro   \n",
       "\n",
       "        Payment Format  Is Laundering  \n",
       "5018320            ACH              1  \n",
       "2192347            ACH              1  \n",
       "2327289            ACH              1  \n",
       "2456084            ACH              1  \n",
       "3117676            ACH              1  "
      ]
     },
     "execution_count": 7,
     "metadata": {},
     "output_type": "execute_result"
    }
   ],
   "source": [
    "aml_trans_sm_df[aml_trans_sm_df[\"Is Laundering\"] == 1].head()"
   ]
  },
  {
   "cell_type": "code",
   "execution_count": null,
   "metadata": {},
   "outputs": [],
   "source": []
  },
  {
   "cell_type": "markdown",
   "metadata": {},
   "source": [
    "### 2.2 Dataset Information\n",
    "\n",
    "- `Timestamp` - Year/Month/Day Hour/Minute\n",
    "- `From Bank` - Numeric code for bank where transaction originates\n",
    "- `Account` - Hexadecimal code for account where transaction originates\n",
    "- `To Bank` - Numeric code for bank where transaction ends\n",
    "- `Account.1` - Hexadecimal code for account where transaction ends\n",
    "- `Amount Received` - Monetary amount received in From account (in currency units of the next column)\n",
    "- `Receiving Currency` - Currency such as dollars, euros, etc of From account\n",
    "- `Amount Paid` - Monetary amount paid (in currency units of the next column)\n",
    "- `Payment Currency` - Currency such as dollars, euros, etc of From account\n",
    "- `Payement Format` - How transaction was conducted, e.g. cheque, ACH, wire, credit cards, etc.\n",
    "- `Is Laundering` - Target variable"
   ]
  },
  {
   "cell_type": "markdown",
   "metadata": {},
   "source": [
    "## 3 Data Checks to perform\n",
    "- Check Duplicates\n",
    "- Check Missing Values\n",
    "- Check Data Types\n",
    "- Check the number of unique values of each column\n",
    "- Check Statitics of Data\n",
    "- Check various categories present in the different column"
   ]
  },
  {
   "cell_type": "markdown",
   "metadata": {},
   "source": [
    "### 3.1 Check Duplicates"
   ]
  },
  {
   "cell_type": "code",
   "execution_count": 8,
   "metadata": {},
   "outputs": [
    {
     "data": {
      "text/plain": [
       "np.int64(0)"
      ]
     },
     "execution_count": 8,
     "metadata": {},
     "output_type": "execute_result"
    }
   ],
   "source": [
    "aml_trans_sm_df.duplicated(keep=\"first\").sum()"
   ]
  },
  {
   "cell_type": "markdown",
   "metadata": {},
   "source": [
    "### 3.2 Check Missing values"
   ]
  },
  {
   "cell_type": "code",
   "execution_count": 9,
   "metadata": {},
   "outputs": [
    {
     "data": {
      "text/plain": [
       "Timestamp             0\n",
       "From Bank             0\n",
       "Account               0\n",
       "To Bank               0\n",
       "Account.1             0\n",
       "Amount Received       0\n",
       "Receiving Currency    0\n",
       "Amount Paid           0\n",
       "Payment Currency      0\n",
       "Payment Format        0\n",
       "Is Laundering         0\n",
       "dtype: int64"
      ]
     },
     "execution_count": 9,
     "metadata": {},
     "output_type": "execute_result"
    }
   ],
   "source": [
    "aml_trans_sm_df.isna().sum()"
   ]
  },
  {
   "cell_type": "markdown",
   "metadata": {},
   "source": [
    "#### Rename the column name"
   ]
  },
  {
   "cell_type": "code",
   "execution_count": 10,
   "metadata": {},
   "outputs": [
    {
     "data": {
      "text/plain": [
       "Index(['timestamp', 'from_bank', 'account', 'to_bank', 'account_1',\n",
       "       'amount_received', 'receiving_currency', 'amount_paid',\n",
       "       'payment_currency', 'payment_format', 'is_laundering'],\n",
       "      dtype='object')"
      ]
     },
     "execution_count": 10,
     "metadata": {},
     "output_type": "execute_result"
    }
   ],
   "source": [
    "aml_trans_sm_df.columns = aml_trans_sm_df.columns.str.lower().str.replace(' ', '_').str.replace('.', '_')\n",
    "aml_trans_sm_df.columns "
   ]
  },
  {
   "cell_type": "markdown",
   "metadata": {},
   "source": [
    "### 3.3 Check Data Types"
   ]
  },
  {
   "cell_type": "code",
   "execution_count": 11,
   "metadata": {},
   "outputs": [
    {
     "name": "stdout",
     "output_type": "stream",
     "text": [
      "<class 'pandas.core.frame.DataFrame'>\n",
      "Index: 50000 entries, 3507139 to 3159372\n",
      "Data columns (total 11 columns):\n",
      " #   Column              Non-Null Count  Dtype  \n",
      "---  ------              --------------  -----  \n",
      " 0   timestamp           50000 non-null  object \n",
      " 1   from_bank           50000 non-null  int64  \n",
      " 2   account             50000 non-null  object \n",
      " 3   to_bank             50000 non-null  int64  \n",
      " 4   account_1           50000 non-null  object \n",
      " 5   amount_received     50000 non-null  float64\n",
      " 6   receiving_currency  50000 non-null  object \n",
      " 7   amount_paid         50000 non-null  float64\n",
      " 8   payment_currency    50000 non-null  object \n",
      " 9   payment_format      50000 non-null  object \n",
      " 10  is_laundering       50000 non-null  int64  \n",
      "dtypes: float64(2), int64(3), object(6)\n",
      "memory usage: 4.6+ MB\n"
     ]
    }
   ],
   "source": [
    "aml_trans_sm_df.info()"
   ]
  },
  {
   "cell_type": "markdown",
   "metadata": {},
   "source": [
    "#### 3.3.1 Convert `from_bank` and `to_bank` column data type from numeric to categorgy\n",
    "- Since numeric code for Bank is like name and it is category."
   ]
  },
  {
   "cell_type": "code",
   "execution_count": 12,
   "metadata": {},
   "outputs": [],
   "source": [
    "aml_trans_sm_df[\"from_bank\"] = aml_trans_sm_df[\"from_bank\"].astype(\"object\")\n",
    "aml_trans_sm_df[\"to_bank\"] = aml_trans_sm_df[\"to_bank\"].astype(\"object\")"
   ]
  },
  {
   "cell_type": "markdown",
   "metadata": {},
   "source": [
    "#### 3.3.2 Convert the \"Timestamp\" column to datetime format"
   ]
  },
  {
   "cell_type": "code",
   "execution_count": 13,
   "metadata": {},
   "outputs": [],
   "source": [
    "# Convert the \"Timestamp\" column to datetime format\n",
    "aml_trans_sm_df[\"timestamp\"] = pd.to_datetime(aml_trans_sm_df[\"timestamp\"])"
   ]
  },
  {
   "cell_type": "markdown",
   "metadata": {},
   "source": [
    "###### check data types"
   ]
  },
  {
   "cell_type": "code",
   "execution_count": 14,
   "metadata": {},
   "outputs": [
    {
     "name": "stdout",
     "output_type": "stream",
     "text": [
      "<class 'pandas.core.frame.DataFrame'>\n",
      "Index: 50000 entries, 3507139 to 3159372\n",
      "Data columns (total 11 columns):\n",
      " #   Column              Non-Null Count  Dtype         \n",
      "---  ------              --------------  -----         \n",
      " 0   timestamp           50000 non-null  datetime64[ns]\n",
      " 1   from_bank           50000 non-null  object        \n",
      " 2   account             50000 non-null  object        \n",
      " 3   to_bank             50000 non-null  object        \n",
      " 4   account_1           50000 non-null  object        \n",
      " 5   amount_received     50000 non-null  float64       \n",
      " 6   receiving_currency  50000 non-null  object        \n",
      " 7   amount_paid         50000 non-null  float64       \n",
      " 8   payment_currency    50000 non-null  object        \n",
      " 9   payment_format      50000 non-null  object        \n",
      " 10  is_laundering       50000 non-null  int64         \n",
      "dtypes: datetime64[ns](1), float64(2), int64(1), object(7)\n",
      "memory usage: 4.6+ MB\n"
     ]
    }
   ],
   "source": [
    "aml_trans_sm_df.info()"
   ]
  },
  {
   "cell_type": "markdown",
   "metadata": {},
   "source": [
    "### 3.4 Checking the number of unique values of each column"
   ]
  },
  {
   "cell_type": "code",
   "execution_count": 15,
   "metadata": {},
   "outputs": [
    {
     "data": {
      "text/plain": [
       "timestamp             13022\n",
       "from_bank              3494\n",
       "account               37420\n",
       "to_bank                2161\n",
       "account_1             44258\n",
       "amount_received       44567\n",
       "receiving_currency       15\n",
       "amount_paid           44618\n",
       "payment_currency         15\n",
       "payment_format            7\n",
       "is_laundering             2\n",
       "dtype: int64"
      ]
     },
     "execution_count": 15,
     "metadata": {},
     "output_type": "execute_result"
    }
   ],
   "source": [
    "aml_trans_sm_df.nunique()"
   ]
  },
  {
   "cell_type": "markdown",
   "metadata": {},
   "source": [
    "### 3.5 Check Statistics of the Data set"
   ]
  },
  {
   "cell_type": "code",
   "execution_count": 16,
   "metadata": {},
   "outputs": [
    {
     "data": {
      "text/html": [
       "<div>\n",
       "<style scoped>\n",
       "    .dataframe tbody tr th:only-of-type {\n",
       "        vertical-align: middle;\n",
       "    }\n",
       "\n",
       "    .dataframe tbody tr th {\n",
       "        vertical-align: top;\n",
       "    }\n",
       "\n",
       "    .dataframe thead th {\n",
       "        text-align: right;\n",
       "    }\n",
       "</style>\n",
       "<table border=\"1\" class=\"dataframe\">\n",
       "  <thead>\n",
       "    <tr style=\"text-align: right;\">\n",
       "      <th></th>\n",
       "      <th>count</th>\n",
       "      <th>mean</th>\n",
       "      <th>std</th>\n",
       "      <th>min</th>\n",
       "      <th>25%</th>\n",
       "      <th>50%</th>\n",
       "      <th>75%</th>\n",
       "      <th>max</th>\n",
       "    </tr>\n",
       "  </thead>\n",
       "  <tbody>\n",
       "    <tr>\n",
       "      <th>amount_received</th>\n",
       "      <td>50000.0</td>\n",
       "      <td>1.598001e+07</td>\n",
       "      <td>2.129876e+09</td>\n",
       "      <td>0.000001</td>\n",
       "      <td>183.6175</td>\n",
       "      <td>1387.060</td>\n",
       "      <td>12332.7175</td>\n",
       "      <td>4.536185e+11</td>\n",
       "    </tr>\n",
       "    <tr>\n",
       "      <th>amount_paid</th>\n",
       "      <td>50000.0</td>\n",
       "      <td>1.551440e+07</td>\n",
       "      <td>2.129498e+09</td>\n",
       "      <td>0.000001</td>\n",
       "      <td>184.4375</td>\n",
       "      <td>1391.025</td>\n",
       "      <td>12292.8175</td>\n",
       "      <td>4.536185e+11</td>\n",
       "    </tr>\n",
       "    <tr>\n",
       "      <th>is_laundering</th>\n",
       "      <td>50000.0</td>\n",
       "      <td>1.080000e-03</td>\n",
       "      <td>3.284593e-02</td>\n",
       "      <td>0.000000</td>\n",
       "      <td>0.0000</td>\n",
       "      <td>0.000</td>\n",
       "      <td>0.0000</td>\n",
       "      <td>1.000000e+00</td>\n",
       "    </tr>\n",
       "  </tbody>\n",
       "</table>\n",
       "</div>"
      ],
      "text/plain": [
       "                   count          mean           std       min       25%  \\\n",
       "amount_received  50000.0  1.598001e+07  2.129876e+09  0.000001  183.6175   \n",
       "amount_paid      50000.0  1.551440e+07  2.129498e+09  0.000001  184.4375   \n",
       "is_laundering    50000.0  1.080000e-03  3.284593e-02  0.000000    0.0000   \n",
       "\n",
       "                      50%         75%           max  \n",
       "amount_received  1387.060  12332.7175  4.536185e+11  \n",
       "amount_paid      1391.025  12292.8175  4.536185e+11  \n",
       "is_laundering       0.000      0.0000  1.000000e+00  "
      ]
     },
     "execution_count": 16,
     "metadata": {},
     "output_type": "execute_result"
    }
   ],
   "source": [
    "# Statistics of the Numerical columns\n",
    "aml_trans_sm_df.describe(include=np.number).T"
   ]
  },
  {
   "cell_type": "code",
   "execution_count": 17,
   "metadata": {},
   "outputs": [
    {
     "data": {
      "text/html": [
       "<div>\n",
       "<style scoped>\n",
       "    .dataframe tbody tr th:only-of-type {\n",
       "        vertical-align: middle;\n",
       "    }\n",
       "\n",
       "    .dataframe tbody tr th {\n",
       "        vertical-align: top;\n",
       "    }\n",
       "\n",
       "    .dataframe thead th {\n",
       "        text-align: right;\n",
       "    }\n",
       "</style>\n",
       "<table border=\"1\" class=\"dataframe\">\n",
       "  <thead>\n",
       "    <tr style=\"text-align: right;\">\n",
       "      <th></th>\n",
       "      <th>count</th>\n",
       "      <th>unique</th>\n",
       "      <th>top</th>\n",
       "      <th>freq</th>\n",
       "    </tr>\n",
       "  </thead>\n",
       "  <tbody>\n",
       "    <tr>\n",
       "      <th>from_bank</th>\n",
       "      <td>50000</td>\n",
       "      <td>3494</td>\n",
       "      <td>70</td>\n",
       "      <td>4371</td>\n",
       "    </tr>\n",
       "    <tr>\n",
       "      <th>account</th>\n",
       "      <td>50000</td>\n",
       "      <td>37420</td>\n",
       "      <td>100428660</td>\n",
       "      <td>1633</td>\n",
       "    </tr>\n",
       "    <tr>\n",
       "      <th>to_bank</th>\n",
       "      <td>50000</td>\n",
       "      <td>2161</td>\n",
       "      <td>12</td>\n",
       "      <td>462</td>\n",
       "    </tr>\n",
       "    <tr>\n",
       "      <th>account_1</th>\n",
       "      <td>50000</td>\n",
       "      <td>44258</td>\n",
       "      <td>100428660</td>\n",
       "      <td>18</td>\n",
       "    </tr>\n",
       "    <tr>\n",
       "      <th>receiving_currency</th>\n",
       "      <td>50000</td>\n",
       "      <td>15</td>\n",
       "      <td>US Dollar</td>\n",
       "      <td>18577</td>\n",
       "    </tr>\n",
       "    <tr>\n",
       "      <th>payment_currency</th>\n",
       "      <td>50000</td>\n",
       "      <td>15</td>\n",
       "      <td>US Dollar</td>\n",
       "      <td>18732</td>\n",
       "    </tr>\n",
       "    <tr>\n",
       "      <th>payment_format</th>\n",
       "      <td>50000</td>\n",
       "      <td>7</td>\n",
       "      <td>Cheque</td>\n",
       "      <td>18194</td>\n",
       "    </tr>\n",
       "  </tbody>\n",
       "</table>\n",
       "</div>"
      ],
      "text/plain": [
       "                    count unique        top   freq\n",
       "from_bank           50000   3494         70   4371\n",
       "account             50000  37420  100428660   1633\n",
       "to_bank             50000   2161         12    462\n",
       "account_1           50000  44258  100428660     18\n",
       "receiving_currency  50000     15  US Dollar  18577\n",
       "payment_currency    50000     15  US Dollar  18732\n",
       "payment_format      50000      7     Cheque  18194"
      ]
     },
     "execution_count": 17,
     "metadata": {},
     "output_type": "execute_result"
    }
   ],
   "source": [
    "# Statistics of the Categorical columns\n",
    "aml_trans_sm_df.describe(include=np.object_).T"
   ]
  },
  {
   "cell_type": "code",
   "execution_count": 18,
   "metadata": {},
   "outputs": [
    {
     "data": {
      "text/html": [
       "<div>\n",
       "<style scoped>\n",
       "    .dataframe tbody tr th:only-of-type {\n",
       "        vertical-align: middle;\n",
       "    }\n",
       "\n",
       "    .dataframe tbody tr th {\n",
       "        vertical-align: top;\n",
       "    }\n",
       "\n",
       "    .dataframe thead th {\n",
       "        text-align: right;\n",
       "    }\n",
       "</style>\n",
       "<table border=\"1\" class=\"dataframe\">\n",
       "  <thead>\n",
       "    <tr style=\"text-align: right;\">\n",
       "      <th></th>\n",
       "      <th>timestamp</th>\n",
       "      <th>from_bank</th>\n",
       "      <th>account</th>\n",
       "      <th>to_bank</th>\n",
       "      <th>account_1</th>\n",
       "      <th>amount_received</th>\n",
       "      <th>receiving_currency</th>\n",
       "      <th>amount_paid</th>\n",
       "      <th>payment_currency</th>\n",
       "      <th>payment_format</th>\n",
       "      <th>is_laundering</th>\n",
       "    </tr>\n",
       "  </thead>\n",
       "  <tbody>\n",
       "    <tr>\n",
       "      <th>3507139</th>\n",
       "      <td>2022-09-07 12:15:00</td>\n",
       "      <td>29</td>\n",
       "      <td>80CF063F0</td>\n",
       "      <td>235843</td>\n",
       "      <td>80CFE1EB0</td>\n",
       "      <td>386006.86</td>\n",
       "      <td>Brazil Real</td>\n",
       "      <td>386006.86</td>\n",
       "      <td>Brazil Real</td>\n",
       "      <td>Cheque</td>\n",
       "      <td>0</td>\n",
       "    </tr>\n",
       "    <tr>\n",
       "      <th>2054082</th>\n",
       "      <td>2022-09-03 21:15:00</td>\n",
       "      <td>70</td>\n",
       "      <td>100428660</td>\n",
       "      <td>22732</td>\n",
       "      <td>80BFEBFF0</td>\n",
       "      <td>8638.95</td>\n",
       "      <td>US Dollar</td>\n",
       "      <td>8638.95</td>\n",
       "      <td>US Dollar</td>\n",
       "      <td>Cheque</td>\n",
       "      <td>0</td>\n",
       "    </tr>\n",
       "  </tbody>\n",
       "</table>\n",
       "</div>"
      ],
      "text/plain": [
       "                  timestamp from_bank    account to_bank  account_1  \\\n",
       "3507139 2022-09-07 12:15:00        29  80CF063F0  235843  80CFE1EB0   \n",
       "2054082 2022-09-03 21:15:00        70  100428660   22732  80BFEBFF0   \n",
       "\n",
       "         amount_received receiving_currency  amount_paid payment_currency  \\\n",
       "3507139        386006.86        Brazil Real    386006.86      Brazil Real   \n",
       "2054082          8638.95          US Dollar      8638.95        US Dollar   \n",
       "\n",
       "        payment_format  is_laundering  \n",
       "3507139         Cheque              0  \n",
       "2054082         Cheque              0  "
      ]
     },
     "execution_count": 18,
     "metadata": {},
     "output_type": "execute_result"
    }
   ],
   "source": [
    "aml_trans_sm_df.head(2)"
   ]
  },
  {
   "cell_type": "markdown",
   "metadata": {},
   "source": [
    "## 4. Exploring Data (Visualization)"
   ]
  },
  {
   "cell_type": "code",
   "execution_count": 19,
   "metadata": {},
   "outputs": [
    {
     "name": "stdout",
     "output_type": "stream",
     "text": [
      "Dimension of the data: (50000, 11)\n"
     ]
    }
   ],
   "source": [
    "df = aml_trans_sm_df.copy()\n",
    "print(f\"Dimension of the data: {df.shape}\")"
   ]
  },
  {
   "cell_type": "code",
   "execution_count": 20,
   "metadata": {},
   "outputs": [
    {
     "data": {
      "text/html": [
       "<div>\n",
       "<style scoped>\n",
       "    .dataframe tbody tr th:only-of-type {\n",
       "        vertical-align: middle;\n",
       "    }\n",
       "\n",
       "    .dataframe tbody tr th {\n",
       "        vertical-align: top;\n",
       "    }\n",
       "\n",
       "    .dataframe thead th {\n",
       "        text-align: right;\n",
       "    }\n",
       "</style>\n",
       "<table border=\"1\" class=\"dataframe\">\n",
       "  <thead>\n",
       "    <tr style=\"text-align: right;\">\n",
       "      <th></th>\n",
       "      <th>from_bank</th>\n",
       "      <th>account</th>\n",
       "      <th>to_bank</th>\n",
       "      <th>account_1</th>\n",
       "      <th>amount_received</th>\n",
       "      <th>receiving_currency</th>\n",
       "      <th>amount_paid</th>\n",
       "      <th>payment_currency</th>\n",
       "      <th>payment_format</th>\n",
       "      <th>is_laundering</th>\n",
       "      <th>date</th>\n",
       "      <th>day</th>\n",
       "      <th>time</th>\n",
       "    </tr>\n",
       "  </thead>\n",
       "  <tbody>\n",
       "    <tr>\n",
       "      <th>3507139</th>\n",
       "      <td>29</td>\n",
       "      <td>80CF063F0</td>\n",
       "      <td>235843</td>\n",
       "      <td>80CFE1EB0</td>\n",
       "      <td>386006.86</td>\n",
       "      <td>Brazil Real</td>\n",
       "      <td>386006.86</td>\n",
       "      <td>Brazil Real</td>\n",
       "      <td>Cheque</td>\n",
       "      <td>0</td>\n",
       "      <td>2022-09-07</td>\n",
       "      <td>Wednesday</td>\n",
       "      <td>12:15:00</td>\n",
       "    </tr>\n",
       "    <tr>\n",
       "      <th>2054082</th>\n",
       "      <td>70</td>\n",
       "      <td>100428660</td>\n",
       "      <td>22732</td>\n",
       "      <td>80BFEBFF0</td>\n",
       "      <td>8638.95</td>\n",
       "      <td>US Dollar</td>\n",
       "      <td>8638.95</td>\n",
       "      <td>US Dollar</td>\n",
       "      <td>Cheque</td>\n",
       "      <td>0</td>\n",
       "      <td>2022-09-03</td>\n",
       "      <td>Saturday</td>\n",
       "      <td>21:15:00</td>\n",
       "    </tr>\n",
       "  </tbody>\n",
       "</table>\n",
       "</div>"
      ],
      "text/plain": [
       "        from_bank    account to_bank  account_1  amount_received  \\\n",
       "3507139        29  80CF063F0  235843  80CFE1EB0        386006.86   \n",
       "2054082        70  100428660   22732  80BFEBFF0          8638.95   \n",
       "\n",
       "        receiving_currency  amount_paid payment_currency payment_format  \\\n",
       "3507139        Brazil Real    386006.86      Brazil Real         Cheque   \n",
       "2054082          US Dollar      8638.95        US Dollar         Cheque   \n",
       "\n",
       "         is_laundering        date        day      time  \n",
       "3507139              0  2022-09-07  Wednesday  12:15:00  \n",
       "2054082              0  2022-09-03   Saturday  21:15:00  "
      ]
     },
     "execution_count": 20,
     "metadata": {},
     "output_type": "execute_result"
    }
   ],
   "source": [
    "# Extract date, day, and time from the Timestamp\n",
    "df[\"date\"] = df[\"timestamp\"].dt.date\n",
    "df[\"day\"] = df[\"timestamp\"].dt.day_name()\n",
    "df[\"time\"] = df[\"timestamp\"].dt.time\n",
    "\n",
    "df.drop(columns=[\"timestamp\"], inplace=True)\n",
    "\n",
    "df.head(2)"
   ]
  },
  {
   "cell_type": "code",
   "execution_count": null,
   "metadata": {},
   "outputs": [],
   "source": []
  },
  {
   "cell_type": "markdown",
   "metadata": {},
   "source": [
    "### Basic exploration"
   ]
  },
  {
   "cell_type": "code",
   "execution_count": 21,
   "metadata": {},
   "outputs": [
    {
     "name": "stdout",
     "output_type": "stream",
     "text": [
      "There are 3 Numerical Features: ['amount_received', 'amount_paid', 'is_laundering']\n",
      "There are 10 Categorical Features: ['from_bank', 'account', 'to_bank', 'account_1', 'receiving_currency', 'payment_currency', 'payment_format', 'date', 'day', 'time']\n"
     ]
    }
   ],
   "source": [
    "# Numerical and Categorical columns\n",
    "numeric_features = df.select_dtypes(include=np.number).columns.tolist()\n",
    "categorical_features = df.select_dtypes(include=object).columns.tolist()\n",
    "\n",
    "print(f\"There are {len(numeric_features)} Numerical Features: {numeric_features}\")\n",
    "print(f\"There are {len(categorical_features)} Categorical Features: {categorical_features}\")"
   ]
  },
  {
   "cell_type": "code",
   "execution_count": 22,
   "metadata": {},
   "outputs": [
    {
     "name": "stdout",
     "output_type": "stream",
     "text": [
      "from_bank\n",
      "70        4371\n",
      "12         793\n",
      "10         777\n",
      "1          587\n",
      "15         510\n",
      "          ... \n",
      "310208       1\n",
      "330320       1\n",
      "3452         1\n",
      "354088       1\n",
      "353178       1\n",
      "Name: count, Length: 3494, dtype: int64\n",
      "------------------------------------\n",
      "account\n",
      "100428660    1633\n",
      "1004286A8     966\n",
      "100428978     200\n",
      "1004286F0     188\n",
      "100428810     176\n",
      "             ... \n",
      "80499C410       1\n",
      "808698560       1\n",
      "800DF1710       1\n",
      "80E0E8A50       1\n",
      "804B39FD0       1\n",
      "Name: count, Length: 37420, dtype: int64\n",
      "------------------------------------\n",
      "to_bank\n",
      "12        462\n",
      "10        409\n",
      "15        384\n",
      "220       325\n",
      "1         264\n",
      "         ... \n",
      "338673      1\n",
      "348877      1\n",
      "324856      1\n",
      "36077       1\n",
      "319317      1\n",
      "Name: count, Length: 2161, dtype: int64\n",
      "------------------------------------\n",
      "account_1\n",
      "100428660    18\n",
      "1004286A8     7\n",
      "802348C20     5\n",
      "803962460     5\n",
      "802C1AAC0     5\n",
      "             ..\n",
      "8086B7950     1\n",
      "808142E90     1\n",
      "804EE9800     1\n",
      "809E02110     1\n",
      "804AB4820     1\n",
      "Name: count, Length: 44258, dtype: int64\n",
      "------------------------------------\n",
      "receiving_currency\n",
      "US Dollar            18577\n",
      "Euro                 11488\n",
      "Swiss Franc           2275\n",
      "Yuan                  2098\n",
      "Shekel                1912\n",
      "Rupee                 1882\n",
      "UK Pound              1776\n",
      "Bitcoin               1539\n",
      "Yen                   1511\n",
      "Ruble                 1505\n",
      "Australian Dollar     1386\n",
      "Canadian Dollar       1362\n",
      "Mexican Peso          1075\n",
      "Saudi Riyal            871\n",
      "Brazil Real            743\n",
      "Name: count, dtype: int64\n",
      "------------------------------------\n",
      "payment_currency\n",
      "US Dollar            18732\n",
      "Euro                 11432\n",
      "Swiss Franc           2250\n",
      "Yuan                  2189\n",
      "Shekel                1875\n",
      "Rupee                 1863\n",
      "UK Pound              1779\n",
      "Bitcoin               1518\n",
      "Yen                   1495\n",
      "Ruble                 1479\n",
      "Australian Dollar     1370\n",
      "Canadian Dollar       1352\n",
      "Mexican Peso          1075\n",
      "Saudi Riyal            859\n",
      "Brazil Real            732\n",
      "Name: count, dtype: int64\n",
      "------------------------------------\n",
      "payment_format\n",
      "Cheque          18194\n",
      "Credit Card     12930\n",
      "ACH              6029\n",
      "Cash             4849\n",
      "Reinvestment     4753\n",
      "Wire             1727\n",
      "Bitcoin          1518\n",
      "Name: count, dtype: int64\n",
      "------------------------------------\n",
      "date\n",
      "2022-09-01    11124\n",
      "2022-09-02     7373\n",
      "2022-09-09     6492\n",
      "2022-09-08     4794\n",
      "2022-09-07     4757\n",
      "2022-09-05     4698\n",
      "2022-09-06     4690\n",
      "2022-09-04     2062\n",
      "2022-09-10     2003\n",
      "2022-09-03     1993\n",
      "2022-09-12        5\n",
      "2022-09-11        4\n",
      "2022-09-13        3\n",
      "2022-09-14        2\n",
      "Name: count, dtype: int64\n",
      "------------------------------------\n",
      "day\n",
      "Thursday     15918\n",
      "Friday       13865\n",
      "Wednesday     4759\n",
      "Monday        4703\n",
      "Tuesday       4693\n",
      "Saturday      3996\n",
      "Sunday        2066\n",
      "Name: count, dtype: int64\n",
      "------------------------------------\n",
      "time\n",
      "00:13:00    200\n",
      "00:01:00    194\n",
      "00:19:00    194\n",
      "00:00:00    190\n",
      "00:18:00    190\n",
      "           ... \n",
      "22:35:00     17\n",
      "13:57:00     16\n",
      "16:01:00     16\n",
      "18:30:00     15\n",
      "02:14:00     13\n",
      "Name: count, Length: 1440, dtype: int64\n",
      "------------------------------------\n"
     ]
    }
   ],
   "source": [
    "# Proportion of count data on categorical columns\n",
    "for col in categorical_features:\n",
    "    print(f\"{df[col].value_counts(dropna=False)}\")\n",
    "    print(f\"------------------------------------\")"
   ]
  },
  {
   "cell_type": "markdown",
   "metadata": {},
   "source": [
    "##### Insights\n",
    "- `timestamp` have so many unique values - this will not add importance during model learning"
   ]
  },
  {
   "cell_type": "markdown",
   "metadata": {},
   "source": [
    "### Univariate Analysis\n",
    "- The term univariate analysis refers to the analysis of one variable prefix “uni” means “one.” The purpose of univariate analysis is to understand the distribution of values for a single variable.\n",
    "\n",
    "##### Other type of Analysis are\n",
    "- **Bivariate Analysis**: The analysis of two variables.\n",
    "- **Multivariate Analysis**: The analysis of two or more variables."
   ]
  },
  {
   "cell_type": "markdown",
   "metadata": {},
   "source": [
    "#### Numerical Features"
   ]
  },
  {
   "cell_type": "code",
   "execution_count": 23,
   "metadata": {},
   "outputs": [
    {
     "data": {
      "image/png": "[encoded data removed]",
      "text/plain": [
       "<Figure size 1500x1400 with 3 Axes>"
      ]
     },
     "metadata": {},
     "output_type": "display_data"
    }
   ],
   "source": [
    "# Create a figure with subplots\n",
    "plt.figure(figsize=(15, 14))\n",
    "plt.suptitle(\"Univariate Analysis of Numerical Features\", fontsize=20, fontweight=\"bold\", alpha=0.8, y=1.0)\n",
    "\n",
    "# Loop through each numerical feature and create a KDE plot\n",
    "for i in range(len(numeric_features)):\n",
    "    sns.set_theme(style=\"whitegrid\")\n",
    "    plt.subplot(3, 2, i + 1)  # 3 rows, 2 columns, i+1-th subplot\n",
    "    sns.kdeplot(x=df[numeric_features[i]], color='blue', fill=True)  # Add `fill=True` for better visualization\n",
    "    plt.xlabel(numeric_features[i], fontsize=12)\n",
    "    plt.ylabel(\"Density\", fontsize=12)\n",
    "    plt.title(f\"Distribution of {numeric_features[i]}\", fontsize=14, pad=10)  # Add a title for each subplot\n",
    "\n",
    "# Adjust layout to prevent overlap\n",
    "plt.tight_layout()\n",
    "plt.show() "
   ]
  },
  {
   "cell_type": "code",
   "execution_count": 24,
   "metadata": {},
   "outputs": [
    {
     "data": {
      "text/plain": [
       "<Figure size 640x480 with 0 Axes>"
      ]
     },
     "metadata": {},
     "output_type": "display_data"
    },
    {
     "data": {
      "image/png": "[encoded data removed]",
      "text/plain": [
       "<Figure size 1200x500 with 2 Axes>"
      ]
     },
     "metadata": {},
     "output_type": "display_data"
    }
   ],
   "source": [
    "# Create a figure with subplots\n",
    "# plt.figure(figsize=(15, 14))\n",
    "plt.suptitle(\"Univariate Analysis of Numerical Features\", fontsize=20, fontweight=\"bold\", alpha=0.8, y=1.0)\n",
    "\n",
    "numeric_features_new = ['amount_received', 'amount_paid']\n",
    "\n",
    "# Set theme\n",
    "sns.set_theme(style=\"whitegrid\")\n",
    "\n",
    "# Create figure and subplots\n",
    "fig, axes = plt.subplots(1, 2, figsize=(12, 5))  # 1 row, 2 columns\n",
    "# Loop through numerical features and plot Box Plot\n",
    "for i, feature in enumerate(numeric_features_new):\n",
    "    sns.boxplot(y=df[feature], color='blue', ax=axes[i])\n",
    "    axes[i].set_ylabel(feature, fontsize=12)\n",
    "    axes[i].set_title(f\"Box Plot of {feature}\", fontsize=14, pad=10)\n",
    "\n",
    "plt.tight_layout()\n",
    "plt.show()"
   ]
  },
  {
   "cell_type": "markdown",
   "metadata": {},
   "source": [
    "#### Catgegorical Features"
   ]
  },
  {
   "cell_type": "code",
   "execution_count": 25,
   "metadata": {},
   "outputs": [],
   "source": [
    "\n",
    "# # Create a figure with subplots\n",
    "# plt.figure(figsize=(15, 15))\n",
    "# plt.suptitle(\"Univariate Analysis of Categorical Features\", fontsize=20, fontweight=\"bold\", alpha=0.8, y=1.0)\n",
    "\n",
    "# # Loop through each categorical feature and create a bar plot\n",
    "# for i in range(len(categorical_features)):\n",
    "#     plt.subplot(4, 4, i + 1)  # 4 rows, 4 columns, i+1-th subplot\n",
    "#     sns.set_theme(style=\"whitegrid\")\n",
    "    \n",
    "#     # Get value counts for the categorical feature\n",
    "#     var = df[categorical_features[i]].value_counts()\n",
    "#     print(var)  # Print value counts for reference\n",
    "    \n",
    "#     # Create bar plot with hue and palette\n",
    "#     ax = sns.barplot(x=var.index, y=var.values, hue=var.index, palette=\"viridis\", legend=False)\n",
    "    \n",
    "#     # Add labels and title\n",
    "#     plt.xlabel(categorical_features[i], fontsize=12)\n",
    "#     plt.ylabel(\"Count\", fontsize=12)\n",
    "#     plt.title(f\"Distribution of {categorical_features[i]}\", fontsize=14, pad=10)  # Add a title for each subplot\n",
    "    \n",
    "#     # Rotate x-axis labels if needed\n",
    "#     plt.xticks(rotation=45, ha='right')  # Rotate labels for better readability\n",
    "\n",
    "# # Adjust layout to prevent overlap\n",
    "# plt.tight_layout()\n",
    "# plt.show()\n",
    "\n",
    "    "
   ]
  },
  {
   "cell_type": "markdown",
   "metadata": {},
   "source": [
    "##### Insights\n",
    "- "
   ]
  },
  {
   "cell_type": "markdown",
   "metadata": {},
   "source": [
    "### Multivariate Analysis"
   ]
  },
  {
   "cell_type": "markdown",
   "metadata": {},
   "source": [
    "##### `Day` with Money Laundering"
   ]
  },
  {
   "cell_type": "code",
   "execution_count": 26,
   "metadata": {},
   "outputs": [
    {
     "name": "stdout",
     "output_type": "stream",
     "text": [
      "Fraudulent Transactions by Day:\n",
      " day\n",
      "Sunday       10\n",
      "Wednesday    10\n",
      "Saturday      9\n",
      "Thursday      9\n",
      "Monday        6\n",
      "Tuesday       5\n",
      "Friday        5\n",
      "Name: count, dtype: int64\n",
      "\n",
      "Non-Fraudulent Transactions by Day:\n",
      " day\n",
      "Thursday     15909\n",
      "Friday       13860\n",
      "Wednesday     4749\n",
      "Monday        4697\n",
      "Tuesday       4688\n",
      "Saturday      3987\n",
      "Sunday        2056\n",
      "Name: count, dtype: int64\n"
     ]
    },
    {
     "data": {
      "image/png": "[encoded data removed]",
      "text/plain": [
       "<Figure size 1400x600 with 2 Axes>"
      ]
     },
     "metadata": {},
     "output_type": "display_data"
    }
   ],
   "source": [
    "# # Bar plot\n",
    "# day = df[df[\"is_laundering\"]==1][\"day\"].value_counts()\n",
    "# # print(f\"{day}\")\n",
    "\n",
    "# plt.figure(figsize=(7,4))\n",
    "# sns.set_theme(style=\"whitegrid\")\n",
    "# ax = sns.barplot(x=day.index, y=day.values, hue=day.index, palette=\"viridis\")\n",
    "# plt.title(\"Days with Money Laudering\")\n",
    "# plt.xlabel(\"Day\")\n",
    "# plt.ylabel(\"Count\")\n",
    "# plt.show()\n",
    "\n",
    "# Filter data for fraudulent and non-fraudulent transactions\n",
    "fraud_day = df[df[\"is_laundering\"] == 1][\"day\"].value_counts()\n",
    "non_fraud_day = df[df[\"is_laundering\"] == 0][\"day\"].value_counts()\n",
    "\n",
    "# Print the value counts for reference\n",
    "print(\"Fraudulent Transactions by Day:\\n\", fraud_day)\n",
    "print(\"\\nNon-Fraudulent Transactions by Day:\\n\", non_fraud_day)\n",
    "\n",
    "# Create a single figure with two subplots\n",
    "plt.figure(figsize=(14, 6))  # Adjust figure size for better subplot spacing and readability\n",
    "sns.set_theme(style=\"whitegrid\")\n",
    "\n",
    "# Use gridspec to create subplots with different widths\n",
    "from matplotlib.gridspec import GridSpec\n",
    "gs = GridSpec(1, 2, width_ratios=[1, 1])  # equal width for both graphs.\n",
    "\n",
    "# Subplot 1: Fraudulent Transactions (narrower)\n",
    "plt.subplot(gs[0])  # First subplot\n",
    "ax1 = sns.barplot(x=fraud_day.index, y=fraud_day.values, hue=fraud_day.index, palette=\"viridis\", legend=False)\n",
    "plt.title(\"Days with Money Laundering \", fontsize=16, pad=20)\n",
    "plt.xlabel(\"Day (is_laundering == 1)\", fontsize=13)\n",
    "plt.ylabel(\"Count\", fontsize=13)\n",
    "plt.xticks(rotation=45, ha='right', fontsize=12)  # Rotate x-axis labels for better readability\n",
    "\n",
    "\n",
    "# Subplot 2: Non-Fraudulent Transactions (wider)\n",
    "plt.subplot(gs[1])  # Second subplot\n",
    "ax2 = sns.barplot(x=non_fraud_day.index, y=non_fraud_day.values, hue=non_fraud_day.index, palette=\"viridis\", legend=False)\n",
    "plt.title(\"Days with Non-Money Laundering\", fontsize=16, pad=20)\n",
    "plt.xlabel(\"Day (is_laundering == 0)\", fontsize=13)\n",
    "plt.ylabel(\"Count\", fontsize=13)\n",
    "plt.xticks(rotation=45, ha='right', fontsize=12)  # Rotate x-axis labels for better readability\n",
    "\n",
    "\n",
    "# Adjust layout and display\n",
    "plt.tight_layout()\n",
    "plt.show()"
   ]
  },
  {
   "cell_type": "markdown",
   "metadata": {},
   "source": []
  },
  {
   "cell_type": "markdown",
   "metadata": {},
   "source": [
    "##### `Payment Format` with Money Laundering"
   ]
  },
  {
   "cell_type": "code",
   "execution_count": 27,
   "metadata": {},
   "outputs": [
    {
     "name": "stdout",
     "output_type": "stream",
     "text": [
      "Fraudulent Transactions:\n",
      " payment_format\n",
      "ACH            51\n",
      "Cheque          2\n",
      "Credit Card     1\n",
      "Name: count, dtype: int64\n",
      "\n",
      "Non-Fraudulent Transactions:\n",
      " payment_format\n",
      "Cheque          18192\n",
      "Credit Card     12929\n",
      "ACH              5978\n",
      "Cash             4849\n",
      "Reinvestment     4753\n",
      "Wire             1727\n",
      "Bitcoin          1518\n",
      "Name: count, dtype: int64\n"
     ]
    },
    {
     "data": {
      "image/png": "[encoded data removed]",
      "text/plain": [
       "<Figure size 1000x500 with 2 Axes>"
      ]
     },
     "metadata": {},
     "output_type": "display_data"
    }
   ],
   "source": [
    "import seaborn as sns\n",
    "import matplotlib.pyplot as plt\n",
    "\n",
    "# Filter data for fraudulent and non-fraudulent transactions\n",
    "fraud_payment_format = df[df[\"is_laundering\"] == 1][\"payment_format\"].value_counts()\n",
    "non_fraud_payment_format = df[df[\"is_laundering\"] == 0][\"payment_format\"].value_counts()\n",
    "\n",
    "# Print the value counts for reference\n",
    "print(\"Fraudulent Transactions:\\n\", fraud_payment_format)\n",
    "print(\"\\nNon-Fraudulent Transactions:\\n\", non_fraud_payment_format)\n",
    "\n",
    "# Create a single figure with two subplots of different widths\n",
    "plt.figure(figsize=(10, 5))  # Overall figure size\n",
    "sns.set_theme(style=\"whitegrid\")\n",
    "\n",
    "# Use gridspec to create subplots with different widths\n",
    "from matplotlib.gridspec import GridSpec\n",
    "gs = GridSpec(1, 2, width_ratios=[1, 2])  # Width ratio: 1 for fraud, 2 for non-fraud\n",
    "\n",
    "# Subplot 1: Fraudulent Transactions (narrower)\n",
    "plt.subplot(gs[0])  # First subplot with smaller width\n",
    "ax1 = sns.barplot(x=fraud_payment_format.index, y=fraud_payment_format.values, hue=fraud_payment_format.index, palette=\"viridis\", legend=False)\n",
    "plt.title(\"Payment Format in Money Laundering \", fontsize=16, pad=20)\n",
    "plt.xlabel(\"Payment Format (is_laundering == 1)\", fontsize=12)\n",
    "plt.ylabel(\"Count\", fontsize=12)\n",
    "plt.xticks(rotation=45, ha='right', fontsize=14)\n",
    "\n",
    "# Subplot 2: Non-Fraudulent Transactions (wider)\n",
    "plt.subplot(gs[1])  # Second subplot with larger width\n",
    "ax2 = sns.barplot(x=non_fraud_payment_format.index, y=non_fraud_payment_format.values, hue=non_fraud_payment_format.index, palette=\"viridis\", legend=False)\n",
    "plt.title(\"Payment Format in Non-Money Laundering \", fontsize=16, pad=20)\n",
    "plt.xlabel(\"Payment Format (is_laundering == 0)\", fontsize=12)\n",
    "plt.ylabel(\"Count\", fontsize=12)\n",
    "plt.xticks(rotation=45, ha='right', fontsize=14)# Rotate x-axis labels for better readability\n",
    "\n",
    "# Adjust layout and display\n",
    "plt.tight_layout()\n",
    "plt.show()"
   ]
  },
  {
   "cell_type": "markdown",
   "metadata": {},
   "source": [
    "##### `Bank` with Money Laundering"
   ]
  },
  {
   "cell_type": "code",
   "execution_count": 28,
   "metadata": {},
   "outputs": [
    {
     "name": "stdout",
     "output_type": "stream",
     "text": [
      "Top 5 Banks for Fraudulent Transactions:\n",
      " from_bank\n",
      "70        3\n",
      "1         3\n",
      "4         2\n",
      "2824      1\n",
      "249407    1\n",
      "Name: count, dtype: int64\n",
      "\n",
      "Top 5 Banks for Non-Fraudulent Transactions:\n",
      " from_bank\n",
      "70    4368\n",
      "12     793\n",
      "10     777\n",
      "1      584\n",
      "15     510\n",
      "Name: count, dtype: int64\n"
     ]
    },
    {
     "data": {
      "image/png": "[encoded data removed]",
      "text/plain": [
       "<Figure size 1400x1000 with 4 Axes>"
      ]
     },
     "metadata": {},
     "output_type": "display_data"
    }
   ],
   "source": [
    "import seaborn as sns\n",
    "import matplotlib.pyplot as plt\n",
    "import numpy as np\n",
    "\n",
    "# Filter data for fraudulent and non-fraudulent transactions\n",
    "fraud_from_bank = df[df[\"is_laundering\"] == 1][\"from_bank\"].value_counts().head()\n",
    "non_fraud_from_bank = df[df[\"is_laundering\"] == 0][\"from_bank\"].value_counts().head()\n",
    "\n",
    "# Print the value counts for reference\n",
    "print(\"Top 5 Banks for Fraudulent Transactions:\\n\", fraud_from_bank)\n",
    "print(\"\\nTop 5 Banks for Non-Fraudulent Transactions:\\n\", non_fraud_from_bank)\n",
    "\n",
    "# Set up the figure and subplots\n",
    "plt.figure(figsize=(14, 10))\n",
    "sns.set_theme(style=\"whitegrid\")\n",
    "\n",
    "# Bar Plot for Fraudulent Transactions\n",
    "plt.subplot(2, 2, 1)\n",
    "ax = sns.barplot(x=fraud_from_bank.index, y=fraud_from_bank.values, hue=fraud_from_bank.index, palette=\"viridis\", legend=False)\n",
    "# Adjust bar width (applies to ALL bars in the current plot)\n",
    "# for bar in ax.patches:\n",
    "#     bar.set_width(0.3)\n",
    "plt.title(\"Banks with Money Laundering\", fontsize=18, pad=20)\n",
    "plt.xlabel(\"Numeric code of Bank (is_laundering == 1)\", fontsize=15)\n",
    "plt.ylabel(\"Count\", fontsize=14)\n",
    "plt.xticks(rotation=45, ha='right', fontsize=16)\n",
    "\n",
    "# Bar Plot for Non-Fraudulent Transactions\n",
    "plt.subplot(2, 2, 3)\n",
    "ax = sns.barplot(x=non_fraud_from_bank.index, y=non_fraud_from_bank.values, hue=non_fraud_from_bank.index, palette=\"viridis\", legend=False)\n",
    "# Adjust bar width\n",
    "# Adjust bar width (applies to ALL bars in the current plot)\n",
    "# for bar in ax.patches:\n",
    "#     bar.set_width(0.3)\n",
    "plt.title(\"Banks with Non-Money Laundering\", fontsize=18, pad=20)\n",
    "plt.xlabel(\"Numeric code of Bank (is_laundering == 0)\", fontsize=15)\n",
    "plt.ylabel(\"Count\", fontsize=14)\n",
    "plt.xticks(rotation=45, ha='right', fontsize=16)\n",
    "\n",
    "# Donut Plot for Fraudulent Transactions\n",
    "plt.subplot(2, 2, 2)\n",
    "plt.pie(fraud_from_bank.values, \n",
    "        labels=fraud_from_bank.index, \n",
    "        autopct='%1.1f%%', \n",
    "        colors=sns.color_palette(\"viridis\"), \n",
    "        startangle=90, \n",
    "        wedgeprops=dict(width=0.4),\n",
    "        textprops={'fontsize': 16} )\n",
    "plt.title(\"% of Money Laundering (is_laundering == 1)\", fontsize=18, pad=20)\n",
    "\n",
    "# Donut Plot for Non-Fraudulent Transactions\n",
    "plt.subplot(2, 2, 4)\n",
    "plt.pie(non_fraud_from_bank.values, \n",
    "        labels=non_fraud_from_bank.index, \n",
    "        autopct='%1.1f%%', \n",
    "        colors=sns.color_palette(\"viridis\"), \n",
    "        startangle=90, \n",
    "        wedgeprops=dict(width=0.4),\n",
    "        textprops={'fontsize': 16} )\n",
    "plt.title(\"% Non-Money Laundering (is_laundering == 0)\", fontsize=18, pad=20)\n",
    "\n",
    "# Adjust layout and display\n",
    "plt.tight_layout()\n",
    "plt.show()"
   ]
  },
  {
   "cell_type": "code",
   "execution_count": null,
   "metadata": {},
   "outputs": [],
   "source": []
  },
  {
   "cell_type": "markdown",
   "metadata": {},
   "source": [
    "The **ACH payment format** is more susceptible to money laundering than methods like checks, credit cards, or Bitcoin due to:\n",
    "\n",
    "1. **High Volume & Low Scrutiny**: Massive transaction volumes make monitoring difficult.\n",
    "2. **Ease of Use**: Simple setup and widespread use allow criminals to blend in.\n",
    "3. **Delayed Detection**: Batch processing and reversibility slow fraud detection.\n",
    "4. **Lack of Real-Time Monitoring**: Transactions aren’t tracked as closely as credit cards or Bitcoin.\n",
    "5. **Exploitation of Business Accounts**: Higher limits and fewer restrictions make businesses easy targets.\n",
    "6. **Complex Transaction Chains**: Criminals layer funds through multiple accounts to obscure origins.\n",
    "\n",
    "### Why Others Are Less Vulnerable:\n",
    "- **Checks**: Require manual processing and leave paper trails.\n",
    "- **Credit Cards**: Have real-time fraud detection and chargeback systems.\n",
    "- **Bitcoin**: Blockchain transparency and strict regulations make tracing easier.\n",
    "\n",
    "### Mitigation:\n",
    "- Enhance monitoring, use strong authentication, set transaction limits, and comply with AML/KYC regulations.\n",
    "\n",
    "In short, ACH’s convenience and lower scrutiny make it a prime target for money laundering compared to other methods."
   ]
  },
  {
   "cell_type": "markdown",
   "metadata": {},
   "source": [
    "##### `Payment Currency` used in Money Laundering"
   ]
  },
  {
   "cell_type": "code",
   "execution_count": 29,
   "metadata": {},
   "outputs": [
    {
     "name": "stdout",
     "output_type": "stream",
     "text": [
      "Payment Currency in Fraudulent Transactions:\n",
      " payment_currency\n",
      "US Dollar            26\n",
      "Euro                 11\n",
      "Ruble                 4\n",
      "UK Pound              3\n",
      "Canadian Dollar       2\n",
      "Yuan                  2\n",
      "Swiss Franc           2\n",
      "Australian Dollar     2\n",
      "Yen                   1\n",
      "Saudi Riyal           1\n",
      "Name: count, dtype: int64\n"
     ]
    },
    {
     "data": {
      "image/png": "[encoded data removed]",
      "text/plain": [
       "<Figure size 1000x400 with 2 Axes>"
      ]
     },
     "metadata": {},
     "output_type": "display_data"
    }
   ],
   "source": [
    "# Filter data for fraudulent transactions\n",
    "payment_currency = df[df[\"is_laundering\"] == 1][\"payment_currency\"].value_counts()\n",
    "\n",
    "# Print the value counts for reference\n",
    "print(\"Payment Currency in Fraudulent Transactions:\\n\", payment_currency)\n",
    "\n",
    "# Create a figure with two subplots\n",
    "plt.figure(figsize=(10, 4))\n",
    "\n",
    "# Subplot 1: Bar plot\n",
    "plt.subplot(1, 2, 1)\n",
    "sns.barplot(x=payment_currency.values, y=payment_currency.index, hue=payment_currency.index, palette=\"viridis\", legend=False)\n",
    "plt.title(\"Payment Currency in Money Laundering\", fontsize=13, pad=20)\n",
    "plt.xlabel(\"Count\", fontsize=12)\n",
    "plt.ylabel(\"Payment Currency\", fontsize=12)\n",
    "\n",
    "# Subplot 2: Pie chart (Top 5 currencies)\n",
    "plt.subplot(1, 2, 2)\n",
    "top_5_currency = payment_currency.head()  # Get the top 5 currencies\n",
    "plt.title(\"Top 5 Currencies in Money Laundering\", fontsize=13, pad=20)\n",
    "plt.pie(top_5_currency.values, labels=top_5_currency.index, autopct=\"%1.1f%%\", wedgeprops=dict(width=0.4))\n",
    "\n",
    "# Adjust layout\n",
    "plt.tight_layout()\n",
    "plt.show()"
   ]
  },
  {
   "cell_type": "code",
   "execution_count": null,
   "metadata": {},
   "outputs": [],
   "source": []
  },
  {
   "cell_type": "markdown",
   "metadata": {},
   "source": [
    "#### Check Mutlicollinearity in Numerical features\n"
   ]
  },
  {
   "cell_type": "markdown",
   "metadata": {},
   "source": [
    "- VIF is used to assess the multicollinearity among the independent (predictor) variables\n",
    "- VIF measures how much the variance of a coefficient is inflated due to correlations with other predictors\n",
    "- Most regression models include an intercept term (constant) to account for the baseline value of the dependent variable when all independent variables are zero."
   ]
  },
  {
   "cell_type": "code",
   "execution_count": 30,
   "metadata": {},
   "outputs": [
    {
     "data": {
      "text/html": [
       "<div>\n",
       "<style scoped>\n",
       "    .dataframe tbody tr th:only-of-type {\n",
       "        vertical-align: middle;\n",
       "    }\n",
       "\n",
       "    .dataframe tbody tr th {\n",
       "        vertical-align: top;\n",
       "    }\n",
       "\n",
       "    .dataframe thead th {\n",
       "        text-align: right;\n",
       "    }\n",
       "</style>\n",
       "<table border=\"1\" class=\"dataframe\">\n",
       "  <thead>\n",
       "    <tr style=\"text-align: right;\">\n",
       "      <th></th>\n",
       "      <th>feature</th>\n",
       "      <th>VIF</th>\n",
       "    </tr>\n",
       "  </thead>\n",
       "  <tbody>\n",
       "    <tr>\n",
       "      <th>0</th>\n",
       "      <td>const</td>\n",
       "      <td>1.000189</td>\n",
       "    </tr>\n",
       "    <tr>\n",
       "      <th>1</th>\n",
       "      <td>amount_received</td>\n",
       "      <td>2854.096145</td>\n",
       "    </tr>\n",
       "    <tr>\n",
       "      <th>2</th>\n",
       "      <td>amount_paid</td>\n",
       "      <td>2854.096145</td>\n",
       "    </tr>\n",
       "  </tbody>\n",
       "</table>\n",
       "</div>"
      ],
      "text/plain": [
       "           feature          VIF\n",
       "0            const     1.000189\n",
       "1  amount_received  2854.096145\n",
       "2      amount_paid  2854.096145"
      ]
     },
     "execution_count": 30,
     "metadata": {},
     "output_type": "execute_result"
    }
   ],
   "source": [
    "df_numeric_features = df.select_dtypes(include=[np.number]).drop(columns = [\"is_laundering\"])\n",
    "# Add a constant to the model\n",
    "X = add_constant(df_numeric_features)\n",
    "\n",
    "# Calculate VIF for each feature\n",
    "vif_data = pd.DataFrame()\n",
    "vif_data[\"feature\"] = X.columns\n",
    "vif_data[\"VIF\"] = [variance_inflation_factor(X.values, i) for i in range(X.shape[1])]\n",
    "\n",
    "vif_data"
   ]
  },
  {
   "cell_type": "markdown",
   "metadata": {},
   "source": [
    "##### Insights\n",
    "- VIF = 1: No multicollinearity.\n",
    "- 1 < VIF < 5: Moderate multicollinearity.\n",
    "- VIF > 5: High multicollinearity.\n",
    "\n",
    "- `amount_received` and `amount_paid` are high correlated, therefore one of them need to be droped."
   ]
  },
  {
   "cell_type": "markdown",
   "metadata": {},
   "source": [
    "#### Check Mutlicollinearity in Categorical features\n",
    "- A chi-squared test (also chi-square or χ2 test) is a statistical hypothesis test that is valid to perform when the test statistic is chi-squared distributed under the null hypothesis, specifically Pearson's chi-squared test\n",
    "\n",
    "- A chi-square statistic is one way to show a relationship between two categorical variables.\n",
    "\n",
    "- Here we test correlation of Categorical columns with Target column i.e is_laundering\n",
    "\n",
    "Null Hypothesis ($H_{0}$): The Feature is independent of target column (No-Correlation)\n",
    "\n",
    "Alternative Hypothesis ($H_{1}$): The Feature and target column are not independent (Correlated)"
   ]
  },
  {
   "cell_type": "code",
   "execution_count": 31,
   "metadata": {},
   "outputs": [
    {
     "data": {
      "text/html": [
       "<div>\n",
       "<style scoped>\n",
       "    .dataframe tbody tr th:only-of-type {\n",
       "        vertical-align: middle;\n",
       "    }\n",
       "\n",
       "    .dataframe tbody tr th {\n",
       "        vertical-align: top;\n",
       "    }\n",
       "\n",
       "    .dataframe thead th {\n",
       "        text-align: right;\n",
       "    }\n",
       "</style>\n",
       "<table border=\"1\" class=\"dataframe\">\n",
       "  <thead>\n",
       "    <tr style=\"text-align: right;\">\n",
       "      <th></th>\n",
       "      <th>Column</th>\n",
       "      <th>Hypothesis Result</th>\n",
       "    </tr>\n",
       "  </thead>\n",
       "  <tbody>\n",
       "    <tr>\n",
       "      <th>0</th>\n",
       "      <td>from_bank</td>\n",
       "      <td>Fail to Reject Null Hypothesis - There is no relationship</td>\n",
       "    </tr>\n",
       "    <tr>\n",
       "      <th>1</th>\n",
       "      <td>account</td>\n",
       "      <td>Reject Null Hypothesis - There is a relationship</td>\n",
       "    </tr>\n",
       "    <tr>\n",
       "      <th>2</th>\n",
       "      <td>to_bank</td>\n",
       "      <td>Fail to Reject Null Hypothesis - There is no relationship</td>\n",
       "    </tr>\n",
       "    <tr>\n",
       "      <th>3</th>\n",
       "      <td>account_1</td>\n",
       "      <td>Reject Null Hypothesis - There is a relationship</td>\n",
       "    </tr>\n",
       "    <tr>\n",
       "      <th>4</th>\n",
       "      <td>receiving_currency</td>\n",
       "      <td>Fail to Reject Null Hypothesis - There is no relationship</td>\n",
       "    </tr>\n",
       "    <tr>\n",
       "      <th>5</th>\n",
       "      <td>payment_currency</td>\n",
       "      <td>Fail to Reject Null Hypothesis - There is no relationship</td>\n",
       "    </tr>\n",
       "    <tr>\n",
       "      <th>6</th>\n",
       "      <td>payment_format</td>\n",
       "      <td>Reject Null Hypothesis - There is a relationship</td>\n",
       "    </tr>\n",
       "    <tr>\n",
       "      <th>7</th>\n",
       "      <td>date</td>\n",
       "      <td>Reject Null Hypothesis - There is a relationship</td>\n",
       "    </tr>\n",
       "    <tr>\n",
       "      <th>8</th>\n",
       "      <td>day</td>\n",
       "      <td>Reject Null Hypothesis - There is a relationship</td>\n",
       "    </tr>\n",
       "    <tr>\n",
       "      <th>9</th>\n",
       "      <td>time</td>\n",
       "      <td>Reject Null Hypothesis - There is a relationship</td>\n",
       "    </tr>\n",
       "  </tbody>\n",
       "</table>\n",
       "</div>"
      ],
      "text/plain": [
       "               Column  \\\n",
       "0           from_bank   \n",
       "1             account   \n",
       "2             to_bank   \n",
       "3           account_1   \n",
       "4  receiving_currency   \n",
       "5    payment_currency   \n",
       "6      payment_format   \n",
       "7                date   \n",
       "8                 day   \n",
       "9                time   \n",
       "\n",
       "                                           Hypothesis Result  \n",
       "0  Fail to Reject Null Hypothesis - There is no relationship  \n",
       "1           Reject Null Hypothesis - There is a relationship  \n",
       "2  Fail to Reject Null Hypothesis - There is no relationship  \n",
       "3           Reject Null Hypothesis - There is a relationship  \n",
       "4  Fail to Reject Null Hypothesis - There is no relationship  \n",
       "5  Fail to Reject Null Hypothesis - There is no relationship  \n",
       "6           Reject Null Hypothesis - There is a relationship  \n",
       "7           Reject Null Hypothesis - There is a relationship  \n",
       "8           Reject Null Hypothesis - There is a relationship  \n",
       "9           Reject Null Hypothesis - There is a relationship  "
      ]
     },
     "execution_count": 31,
     "metadata": {},
     "output_type": "execute_result"
    }
   ],
   "source": [
    "chi2_test = []\n",
    "for feature in categorical_features:\n",
    "    if chi2_contingency(pd.crosstab(df['is_laundering'], df[feature]))[1] < 0.05:\n",
    "        chi2_test.append('Reject Null Hypothesis - There is a relationship')\n",
    "    else:\n",
    "        chi2_test.append('Fail to Reject Null Hypothesis - There is no relationship')\n",
    "result = pd.DataFrame(data=[categorical_features, chi2_test]).T\n",
    "result.columns = ['Column', 'Hypothesis Result']\n",
    "\n",
    "# Increase the display width of the \"Hypothesis Result\" column\n",
    "pd.set_option('display.max_colwidth', 100)  # Set the maximum column width to 100 characters\n",
    "\n",
    "result"
   ]
  },
  {
   "cell_type": "markdown",
   "metadata": {},
   "source": [
    "##### Insights\n",
    "- Here `from_bank`, `to_bank`,`receiving_currency` and `payment_curreny` fails to Rejects Null Hypothesis which means it doesn't correlate with target column. These are not important for model building.\n",
    "- Therefore `account`, `account_1`,`payment_format` and `day` are important features for model trainig and predictions"
   ]
  },
  {
   "cell_type": "markdown",
   "metadata": {},
   "source": [
    "#### Distribution Numerical Features by Is Laundering?"
   ]
  },
  {
   "cell_type": "code",
   "execution_count": 32,
   "metadata": {},
   "outputs": [
    {
     "name": "stdout",
     "output_type": "stream",
     "text": [
      "Num of continues features : Index(['amount_received', 'amount_paid'], dtype='object')\n"
     ]
    }
   ],
   "source": [
    "# continues_features=[feature for feature in numeric_features if len(df[feature].unique())>=10]\n",
    "print('Num of continues features :', df_numeric_features.columns)"
   ]
  },
  {
   "cell_type": "code",
   "execution_count": 33,
   "metadata": {},
   "outputs": [
    {
     "data": {
      "image/png": "[encoded data removed]",
      "text/plain": [
       "<Figure size 800x600 with 4 Axes>"
      ]
     },
     "metadata": {},
     "output_type": "display_data"
    }
   ],
   "source": [
    "clr1 = ['#1E90FF', '#DC143C']\n",
    "fig, ax = plt.subplots(2, 2, figsize=(8,6))\n",
    "fig.suptitle('Distribution of Numerical Features By Money Laundering', color='#3C3744',\n",
    "             fontsize=16, fontweight='bold', ha='center')\n",
    "for i, col in enumerate(df_numeric_features.columns):   \n",
    "    sns.boxplot(data=df, x='is_laundering', y=col,  hue='is_laundering', palette=clr1, ax=ax[i,0])\n",
    "    ax[i,0].set_title(f'Boxplot of {col}', fontsize=14)\n",
    "    sns.histplot(data=df, x=col, hue='is_laundering', bins=20, kde=True, multiple='stack', palette=clr1, ax=ax[i,1])\n",
    "    ax[i,1].set_title(f'Histogram of {col}', fontsize=14)\n",
    "fig.tight_layout()\n",
    "fig.subplots_adjust(top=0.90)"
   ]
  },
  {
   "cell_type": "markdown",
   "metadata": {},
   "source": [
    "#### Initial Analysis Report\n",
    "- `timestamp` column can be deleted because there are so many unique values but keep new created `day`column\n",
    "- `account`, `account_1`,`payment_format` and `day` are important features for model trainig and predictions\n",
    "- `amount_received` and `amount_paid` are high correlated, therefore one of them need to be droped.\n"
   ]
  },
  {
   "cell_type": "markdown",
   "metadata": {},
   "source": [
    "### 4.1 Target Variables Analysis"
   ]
  },
  {
   "cell_type": "code",
   "execution_count": 34,
   "metadata": {},
   "outputs": [
    {
     "name": "stdout",
     "output_type": "stream",
     "text": [
      "is_laundering\n",
      "0    49946\n",
      "1       54\n",
      "Name: count, dtype: int64\n"
     ]
    },
    {
     "data": {
      "image/png": "[encoded data removed]",
      "text/plain": [
       "<Figure size 600x400 with 1 Axes>"
      ]
     },
     "metadata": {},
     "output_type": "display_data"
    }
   ],
   "source": [
    "# Exploring the target variable \"Is Laundering\"\n",
    "print(aml_trans_sm_df[\"is_laundering\"].value_counts(dropna=False))\n",
    "\n",
    "# Bar plot\n",
    "plt.figure(figsize=(6,4))\n",
    "sns.set_theme(style=\"whitegrid\")\n",
    "ax = sns.countplot(x=\"is_laundering\", data=aml_trans_sm_df)\n",
    "plt.title(\"Is Laundering\")\n",
    "plt.xlabel(\"Is Laundering?\")\n",
    "plt.show()"
   ]
  },
  {
   "cell_type": "code",
   "execution_count": null,
   "metadata": {},
   "outputs": [],
   "source": []
  },
  {
   "cell_type": "code",
   "execution_count": null,
   "metadata": {},
   "outputs": [],
   "source": []
  },
  {
   "cell_type": "markdown",
   "metadata": {},
   "source": [
    "### Final Report\n",
    "- "
   ]
  },
  {
   "cell_type": "markdown",
   "metadata": {},
   "source": [
    "## 5. Data preprocessing or Feature Engineering"
   ]
  },
  {
   "cell_type": "code",
   "execution_count": 35,
   "metadata": {},
   "outputs": [],
   "source": [
    "from sklearn.pipeline import make_pipeline\n",
    "from sklearn.compose import make_column_transformer\n",
    "from sklearn.impute import SimpleImputer\n",
    "from sklearn.preprocessing import RobustScaler, OneHotEncoder, OrdinalEncoder\n",
    "from category_encoders import TargetEncoder, CountEncoder\n",
    "\n",
    "from sklearn.model_selection import train_test_split"
   ]
  },
  {
   "cell_type": "markdown",
   "metadata": {},
   "source": [
    "#### Train and Test dataset"
   ]
  },
  {
   "cell_type": "code",
   "execution_count": 36,
   "metadata": {},
   "outputs": [
    {
     "data": {
      "text/html": [
       "<div>\n",
       "<style scoped>\n",
       "    .dataframe tbody tr th:only-of-type {\n",
       "        vertical-align: middle;\n",
       "    }\n",
       "\n",
       "    .dataframe tbody tr th {\n",
       "        vertical-align: top;\n",
       "    }\n",
       "\n",
       "    .dataframe thead th {\n",
       "        text-align: right;\n",
       "    }\n",
       "</style>\n",
       "<table border=\"1\" class=\"dataframe\">\n",
       "  <thead>\n",
       "    <tr style=\"text-align: right;\">\n",
       "      <th></th>\n",
       "      <th>from_bank</th>\n",
       "      <th>account</th>\n",
       "      <th>to_bank</th>\n",
       "      <th>account_1</th>\n",
       "      <th>amount_received</th>\n",
       "      <th>receiving_currency</th>\n",
       "      <th>amount_paid</th>\n",
       "      <th>payment_currency</th>\n",
       "      <th>payment_format</th>\n",
       "      <th>is_laundering</th>\n",
       "      <th>date</th>\n",
       "      <th>day</th>\n",
       "      <th>time</th>\n",
       "    </tr>\n",
       "  </thead>\n",
       "  <tbody>\n",
       "    <tr>\n",
       "      <th>1485112</th>\n",
       "      <td>353132</td>\n",
       "      <td>814282F31</td>\n",
       "      <td>255063</td>\n",
       "      <td>814282BC1</td>\n",
       "      <td>0.02664</td>\n",
       "      <td>Bitcoin</td>\n",
       "      <td>0.02664</td>\n",
       "      <td>Bitcoin</td>\n",
       "      <td>Bitcoin</td>\n",
       "      <td>0</td>\n",
       "      <td>2022-09-02</td>\n",
       "      <td>Friday</td>\n",
       "      <td>11:26:00</td>\n",
       "    </tr>\n",
       "    <tr>\n",
       "      <th>1258048</th>\n",
       "      <td>29003</td>\n",
       "      <td>80B58DFD0</td>\n",
       "      <td>123390</td>\n",
       "      <td>80EC2ACA0</td>\n",
       "      <td>91604.31000</td>\n",
       "      <td>US Dollar</td>\n",
       "      <td>91604.31000</td>\n",
       "      <td>US Dollar</td>\n",
       "      <td>ACH</td>\n",
       "      <td>0</td>\n",
       "      <td>2022-09-02</td>\n",
       "      <td>Friday</td>\n",
       "      <td>04:29:00</td>\n",
       "    </tr>\n",
       "  </tbody>\n",
       "</table>\n",
       "</div>"
      ],
      "text/plain": [
       "        from_bank    account to_bank  account_1  amount_received  \\\n",
       "1485112    353132  814282F31  255063  814282BC1          0.02664   \n",
       "1258048     29003  80B58DFD0  123390  80EC2ACA0      91604.31000   \n",
       "\n",
       "        receiving_currency  amount_paid payment_currency payment_format  \\\n",
       "1485112            Bitcoin      0.02664          Bitcoin        Bitcoin   \n",
       "1258048          US Dollar  91604.31000        US Dollar            ACH   \n",
       "\n",
       "         is_laundering        date     day      time  \n",
       "1485112              0  2022-09-02  Friday  11:26:00  \n",
       "1258048              0  2022-09-02  Friday  04:29:00  "
      ]
     },
     "execution_count": 36,
     "metadata": {},
     "output_type": "execute_result"
    }
   ],
   "source": [
    "#### Train and Test dataset split\n",
    "train_df, test_df = train_test_split(df, test_size=0.2, random_state=42)\n",
    "train_df.head(2)"
   ]
  },
  {
   "cell_type": "markdown",
   "metadata": {},
   "source": [
    "####  Independent features and Dependent variable"
   ]
  },
  {
   "cell_type": "code",
   "execution_count": 37,
   "metadata": {},
   "outputs": [],
   "source": [
    "# Dividing into Independent features and Dependent feature\n",
    "target_column_name = \"is_laundering\"\n",
    "# `account`, `account_1`,`payment_format` and `day` - Important\n",
    "# `from_bank`, `to_bank`,`receiving_currency` and `payment_curreny` - Not important\n",
    "drop_columns = [target_column_name, \"date\", \"time\", \"amount_paid\", \"receiving_currency\", \"payment_currency\", \"from_bank\", \"to_bank\"]\n",
    "input_features_train_df = train_df.drop(columns=drop_columns, axis=1)\n",
    "target_feature_train_df = train_df[target_column_name]\n",
    "\n",
    "input_features_test_df = test_df.drop(columns=drop_columns, axis=1)\n",
    "target_feature_test_df = test_df[target_column_name]"
   ]
  },
  {
   "cell_type": "code",
   "execution_count": 38,
   "metadata": {},
   "outputs": [
    {
     "name": "stdout",
     "output_type": "stream",
     "text": [
      "Numerical Features: ['amount_received']\n",
      "Categorical Features: ['account', 'account_1', 'payment_format', 'day']\n"
     ]
    }
   ],
   "source": [
    "numerical_features = input_features_train_df.select_dtypes(include=np.number).columns.tolist()\n",
    "print(f\"Numerical Features: {numerical_features}\")\n",
    "categorical_features = input_features_train_df.select_dtypes(include=object).columns.tolist()\n",
    "print(f\"Categorical Features: {categorical_features}\")"
   ]
  },
  {
   "cell_type": "code",
   "execution_count": 39,
   "metadata": {},
   "outputs": [
    {
     "name": "stdout",
     "output_type": "stream",
     "text": [
      "['account', 'account_1', 'amount_received', 'payment_format', 'day']\n",
      "['account', 'account_1', 'amount_received', 'payment_format', 'day']\n"
     ]
    }
   ],
   "source": [
    "print(input_features_train_df.columns.tolist())\n",
    "print(input_features_test_df.columns.tolist())"
   ]
  },
  {
   "cell_type": "markdown",
   "metadata": {},
   "source": [
    "#### Defining Pipeline"
   ]
  },
  {
   "cell_type": "code",
   "execution_count": 40,
   "metadata": {},
   "outputs": [],
   "source": [
    "\"\"\" \n",
    "    - Preprocessing datasets for modeling\n",
    "    - Imputing, Scaling and encoding  \n",
    "\"\"\"\n",
    "def num_cat_transformer(numerical_features, categorical_features):\n",
    "    # Preprocessing for numerical features:\n",
    "    num_transformer = make_pipeline(\n",
    "        SimpleImputer(strategy='median'),  # Impute missing values with median\n",
    "        RobustScaler()  # Scale numerical features\n",
    "    )\n",
    "    \n",
    "    # Preprocessing for categorical features:\n",
    "    # Frequency Encoding for high cardinality features\n",
    "    freq_encoder = CountEncoder(normalize=True)  # Normalize frequency encoding\n",
    "    # One-Hot Encoding for low cardinality features\n",
    "    one_hot_encoder = OneHotEncoder(handle_unknown='ignore')\n",
    "\n",
    "    # Apply different encodings to different categorical features\n",
    "    cat_transformer = make_column_transformer(\n",
    "        (freq_encoder, ['account', 'account_1']),  # Frequency Encoding for account and account_1\n",
    "        (one_hot_encoder, ['payment_format', 'day']),  # One-Hot Encoding for others\n",
    "        remainder=\"drop\"  # Drop columns not explicitly transformed\n",
    "    )\n",
    "\n",
    "    column_transformer = make_column_transformer(\n",
    "        (num_transformer, numerical_features),  # Apply numerical transformer to numerical features\n",
    "        (cat_transformer, categorical_features),  # Apply categorical transformer to categorical features\n",
    "        remainder=\"drop\"  # Drop columns not explicitly transformed\n",
    "    )\n",
    "    \n",
    "    return column_transformer\n"
   ]
  },
  {
   "cell_type": "markdown",
   "metadata": {},
   "source": [
    "#### Applying the column transformer to both Train and Test"
   ]
  },
  {
   "cell_type": "code",
   "execution_count": 41,
   "metadata": {},
   "outputs": [
    {
     "name": "stdout",
     "output_type": "stream",
     "text": [
      "Encoded and Scaled of the Train dataset:\n"
     ]
    },
    {
     "data": {
      "text/html": [
       "<div>\n",
       "<style scoped>\n",
       "    .dataframe tbody tr th:only-of-type {\n",
       "        vertical-align: middle;\n",
       "    }\n",
       "\n",
       "    .dataframe tbody tr th {\n",
       "        vertical-align: top;\n",
       "    }\n",
       "\n",
       "    .dataframe thead th {\n",
       "        text-align: right;\n",
       "    }\n",
       "</style>\n",
       "<table border=\"1\" class=\"dataframe\">\n",
       "  <thead>\n",
       "    <tr style=\"text-align: right;\">\n",
       "      <th></th>\n",
       "      <th>pipeline__amount_received</th>\n",
       "      <th>columntransformer__countencoder__account</th>\n",
       "      <th>columntransformer__countencoder__account_1</th>\n",
       "      <th>columntransformer__onehotencoder__payment_format_ACH</th>\n",
       "      <th>columntransformer__onehotencoder__payment_format_Bitcoin</th>\n",
       "      <th>columntransformer__onehotencoder__payment_format_Cash</th>\n",
       "      <th>columntransformer__onehotencoder__payment_format_Cheque</th>\n",
       "      <th>columntransformer__onehotencoder__payment_format_Credit Card</th>\n",
       "      <th>columntransformer__onehotencoder__payment_format_Reinvestment</th>\n",
       "      <th>columntransformer__onehotencoder__payment_format_Wire</th>\n",
       "      <th>columntransformer__onehotencoder__day_Friday</th>\n",
       "      <th>columntransformer__onehotencoder__day_Monday</th>\n",
       "      <th>columntransformer__onehotencoder__day_Saturday</th>\n",
       "      <th>columntransformer__onehotencoder__day_Sunday</th>\n",
       "      <th>columntransformer__onehotencoder__day_Thursday</th>\n",
       "      <th>columntransformer__onehotencoder__day_Tuesday</th>\n",
       "      <th>columntransformer__onehotencoder__day_Wednesday</th>\n",
       "    </tr>\n",
       "  </thead>\n",
       "  <tbody>\n",
       "    <tr>\n",
       "      <th>0</th>\n",
       "      <td>-0.113073</td>\n",
       "      <td>0.000025</td>\n",
       "      <td>0.000025</td>\n",
       "      <td>0.0</td>\n",
       "      <td>1.0</td>\n",
       "      <td>0.0</td>\n",
       "      <td>0.0</td>\n",
       "      <td>0.0</td>\n",
       "      <td>0.0</td>\n",
       "      <td>0.0</td>\n",
       "      <td>1.0</td>\n",
       "      <td>0.0</td>\n",
       "      <td>0.0</td>\n",
       "      <td>0.0</td>\n",
       "      <td>0.0</td>\n",
       "      <td>0.0</td>\n",
       "      <td>0.0</td>\n",
       "    </tr>\n",
       "    <tr>\n",
       "      <th>1</th>\n",
       "      <td>7.321705</td>\n",
       "      <td>0.000025</td>\n",
       "      <td>0.000025</td>\n",
       "      <td>1.0</td>\n",
       "      <td>0.0</td>\n",
       "      <td>0.0</td>\n",
       "      <td>0.0</td>\n",
       "      <td>0.0</td>\n",
       "      <td>0.0</td>\n",
       "      <td>0.0</td>\n",
       "      <td>1.0</td>\n",
       "      <td>0.0</td>\n",
       "      <td>0.0</td>\n",
       "      <td>0.0</td>\n",
       "      <td>0.0</td>\n",
       "      <td>0.0</td>\n",
       "      <td>0.0</td>\n",
       "    </tr>\n",
       "    <tr>\n",
       "      <th>2</th>\n",
       "      <td>0.061059</td>\n",
       "      <td>0.000025</td>\n",
       "      <td>0.000025</td>\n",
       "      <td>0.0</td>\n",
       "      <td>0.0</td>\n",
       "      <td>0.0</td>\n",
       "      <td>1.0</td>\n",
       "      <td>0.0</td>\n",
       "      <td>0.0</td>\n",
       "      <td>0.0</td>\n",
       "      <td>0.0</td>\n",
       "      <td>0.0</td>\n",
       "      <td>1.0</td>\n",
       "      <td>0.0</td>\n",
       "      <td>0.0</td>\n",
       "      <td>0.0</td>\n",
       "      <td>0.0</td>\n",
       "    </tr>\n",
       "    <tr>\n",
       "      <th>3</th>\n",
       "      <td>8.689518</td>\n",
       "      <td>0.000025</td>\n",
       "      <td>0.000100</td>\n",
       "      <td>0.0</td>\n",
       "      <td>0.0</td>\n",
       "      <td>0.0</td>\n",
       "      <td>1.0</td>\n",
       "      <td>0.0</td>\n",
       "      <td>0.0</td>\n",
       "      <td>0.0</td>\n",
       "      <td>0.0</td>\n",
       "      <td>0.0</td>\n",
       "      <td>0.0</td>\n",
       "      <td>0.0</td>\n",
       "      <td>0.0</td>\n",
       "      <td>0.0</td>\n",
       "      <td>1.0</td>\n",
       "    </tr>\n",
       "    <tr>\n",
       "      <th>4</th>\n",
       "      <td>0.501891</td>\n",
       "      <td>0.000025</td>\n",
       "      <td>0.000025</td>\n",
       "      <td>0.0</td>\n",
       "      <td>0.0</td>\n",
       "      <td>0.0</td>\n",
       "      <td>0.0</td>\n",
       "      <td>1.0</td>\n",
       "      <td>0.0</td>\n",
       "      <td>0.0</td>\n",
       "      <td>1.0</td>\n",
       "      <td>0.0</td>\n",
       "      <td>0.0</td>\n",
       "      <td>0.0</td>\n",
       "      <td>0.0</td>\n",
       "      <td>0.0</td>\n",
       "      <td>0.0</td>\n",
       "    </tr>\n",
       "  </tbody>\n",
       "</table>\n",
       "</div>"
      ],
      "text/plain": [
       "   pipeline__amount_received  columntransformer__countencoder__account  \\\n",
       "0                  -0.113073                                  0.000025   \n",
       "1                   7.321705                                  0.000025   \n",
       "2                   0.061059                                  0.000025   \n",
       "3                   8.689518                                  0.000025   \n",
       "4                   0.501891                                  0.000025   \n",
       "\n",
       "   columntransformer__countencoder__account_1  \\\n",
       "0                                    0.000025   \n",
       "1                                    0.000025   \n",
       "2                                    0.000025   \n",
       "3                                    0.000100   \n",
       "4                                    0.000025   \n",
       "\n",
       "   columntransformer__onehotencoder__payment_format_ACH  \\\n",
       "0                                                   0.0   \n",
       "1                                                   1.0   \n",
       "2                                                   0.0   \n",
       "3                                                   0.0   \n",
       "4                                                   0.0   \n",
       "\n",
       "   columntransformer__onehotencoder__payment_format_Bitcoin  \\\n",
       "0                                                       1.0   \n",
       "1                                                       0.0   \n",
       "2                                                       0.0   \n",
       "3                                                       0.0   \n",
       "4                                                       0.0   \n",
       "\n",
       "   columntransformer__onehotencoder__payment_format_Cash  \\\n",
       "0                                                    0.0   \n",
       "1                                                    0.0   \n",
       "2                                                    0.0   \n",
       "3                                                    0.0   \n",
       "4                                                    0.0   \n",
       "\n",
       "   columntransformer__onehotencoder__payment_format_Cheque  \\\n",
       "0                                                      0.0   \n",
       "1                                                      0.0   \n",
       "2                                                      1.0   \n",
       "3                                                      1.0   \n",
       "4                                                      0.0   \n",
       "\n",
       "   columntransformer__onehotencoder__payment_format_Credit Card  \\\n",
       "0                                                           0.0   \n",
       "1                                                           0.0   \n",
       "2                                                           0.0   \n",
       "3                                                           0.0   \n",
       "4                                                           1.0   \n",
       "\n",
       "   columntransformer__onehotencoder__payment_format_Reinvestment  \\\n",
       "0                                                            0.0   \n",
       "1                                                            0.0   \n",
       "2                                                            0.0   \n",
       "3                                                            0.0   \n",
       "4                                                            0.0   \n",
       "\n",
       "   columntransformer__onehotencoder__payment_format_Wire  \\\n",
       "0                                                    0.0   \n",
       "1                                                    0.0   \n",
       "2                                                    0.0   \n",
       "3                                                    0.0   \n",
       "4                                                    0.0   \n",
       "\n",
       "   columntransformer__onehotencoder__day_Friday  \\\n",
       "0                                           1.0   \n",
       "1                                           1.0   \n",
       "2                                           0.0   \n",
       "3                                           0.0   \n",
       "4                                           1.0   \n",
       "\n",
       "   columntransformer__onehotencoder__day_Monday  \\\n",
       "0                                           0.0   \n",
       "1                                           0.0   \n",
       "2                                           0.0   \n",
       "3                                           0.0   \n",
       "4                                           0.0   \n",
       "\n",
       "   columntransformer__onehotencoder__day_Saturday  \\\n",
       "0                                             0.0   \n",
       "1                                             0.0   \n",
       "2                                             1.0   \n",
       "3                                             0.0   \n",
       "4                                             0.0   \n",
       "\n",
       "   columntransformer__onehotencoder__day_Sunday  \\\n",
       "0                                           0.0   \n",
       "1                                           0.0   \n",
       "2                                           0.0   \n",
       "3                                           0.0   \n",
       "4                                           0.0   \n",
       "\n",
       "   columntransformer__onehotencoder__day_Thursday  \\\n",
       "0                                             0.0   \n",
       "1                                             0.0   \n",
       "2                                             0.0   \n",
       "3                                             0.0   \n",
       "4                                             0.0   \n",
       "\n",
       "   columntransformer__onehotencoder__day_Tuesday  \\\n",
       "0                                            0.0   \n",
       "1                                            0.0   \n",
       "2                                            0.0   \n",
       "3                                            0.0   \n",
       "4                                            0.0   \n",
       "\n",
       "   columntransformer__onehotencoder__day_Wednesday  \n",
       "0                                              0.0  \n",
       "1                                              0.0  \n",
       "2                                              0.0  \n",
       "3                                              1.0  \n",
       "4                                              0.0  "
      ]
     },
     "metadata": {},
     "output_type": "display_data"
    },
    {
     "name": "stdout",
     "output_type": "stream",
     "text": [
      "Encoded and Scaled of the Test dataset:\n"
     ]
    },
    {
     "data": {
      "text/html": [
       "<div>\n",
       "<style scoped>\n",
       "    .dataframe tbody tr th:only-of-type {\n",
       "        vertical-align: middle;\n",
       "    }\n",
       "\n",
       "    .dataframe tbody tr th {\n",
       "        vertical-align: top;\n",
       "    }\n",
       "\n",
       "    .dataframe thead th {\n",
       "        text-align: right;\n",
       "    }\n",
       "</style>\n",
       "<table border=\"1\" class=\"dataframe\">\n",
       "  <thead>\n",
       "    <tr style=\"text-align: right;\">\n",
       "      <th></th>\n",
       "      <th>pipeline__amount_received</th>\n",
       "      <th>columntransformer__countencoder__account</th>\n",
       "      <th>columntransformer__countencoder__account_1</th>\n",
       "      <th>columntransformer__onehotencoder__payment_format_ACH</th>\n",
       "      <th>columntransformer__onehotencoder__payment_format_Bitcoin</th>\n",
       "      <th>columntransformer__onehotencoder__payment_format_Cash</th>\n",
       "      <th>columntransformer__onehotencoder__payment_format_Cheque</th>\n",
       "      <th>columntransformer__onehotencoder__payment_format_Credit Card</th>\n",
       "      <th>columntransformer__onehotencoder__payment_format_Reinvestment</th>\n",
       "      <th>columntransformer__onehotencoder__payment_format_Wire</th>\n",
       "      <th>columntransformer__onehotencoder__day_Friday</th>\n",
       "      <th>columntransformer__onehotencoder__day_Monday</th>\n",
       "      <th>columntransformer__onehotencoder__day_Saturday</th>\n",
       "      <th>columntransformer__onehotencoder__day_Sunday</th>\n",
       "      <th>columntransformer__onehotencoder__day_Thursday</th>\n",
       "      <th>columntransformer__onehotencoder__day_Tuesday</th>\n",
       "      <th>columntransformer__onehotencoder__day_Wednesday</th>\n",
       "    </tr>\n",
       "  </thead>\n",
       "  <tbody>\n",
       "    <tr>\n",
       "      <th>0</th>\n",
       "      <td>1.227359</td>\n",
       "      <td>0.000000</td>\n",
       "      <td>0.0</td>\n",
       "      <td>1.0</td>\n",
       "      <td>0.0</td>\n",
       "      <td>0.0</td>\n",
       "      <td>0.0</td>\n",
       "      <td>0.0</td>\n",
       "      <td>0.0</td>\n",
       "      <td>0.0</td>\n",
       "      <td>1.0</td>\n",
       "      <td>0.0</td>\n",
       "      <td>0.0</td>\n",
       "      <td>0.0</td>\n",
       "      <td>0.0</td>\n",
       "      <td>0.0</td>\n",
       "      <td>0.0</td>\n",
       "    </tr>\n",
       "    <tr>\n",
       "      <th>1</th>\n",
       "      <td>-0.099347</td>\n",
       "      <td>0.000000</td>\n",
       "      <td>0.0</td>\n",
       "      <td>0.0</td>\n",
       "      <td>0.0</td>\n",
       "      <td>1.0</td>\n",
       "      <td>0.0</td>\n",
       "      <td>0.0</td>\n",
       "      <td>0.0</td>\n",
       "      <td>0.0</td>\n",
       "      <td>0.0</td>\n",
       "      <td>0.0</td>\n",
       "      <td>0.0</td>\n",
       "      <td>0.0</td>\n",
       "      <td>1.0</td>\n",
       "      <td>0.0</td>\n",
       "      <td>0.0</td>\n",
       "    </tr>\n",
       "    <tr>\n",
       "      <th>2</th>\n",
       "      <td>1.500295</td>\n",
       "      <td>0.019825</td>\n",
       "      <td>0.0</td>\n",
       "      <td>0.0</td>\n",
       "      <td>0.0</td>\n",
       "      <td>0.0</td>\n",
       "      <td>0.0</td>\n",
       "      <td>1.0</td>\n",
       "      <td>0.0</td>\n",
       "      <td>0.0</td>\n",
       "      <td>0.0</td>\n",
       "      <td>1.0</td>\n",
       "      <td>0.0</td>\n",
       "      <td>0.0</td>\n",
       "      <td>0.0</td>\n",
       "      <td>0.0</td>\n",
       "      <td>0.0</td>\n",
       "    </tr>\n",
       "    <tr>\n",
       "      <th>3</th>\n",
       "      <td>0.567904</td>\n",
       "      <td>0.000000</td>\n",
       "      <td>0.0</td>\n",
       "      <td>0.0</td>\n",
       "      <td>0.0</td>\n",
       "      <td>1.0</td>\n",
       "      <td>0.0</td>\n",
       "      <td>0.0</td>\n",
       "      <td>0.0</td>\n",
       "      <td>0.0</td>\n",
       "      <td>0.0</td>\n",
       "      <td>0.0</td>\n",
       "      <td>0.0</td>\n",
       "      <td>0.0</td>\n",
       "      <td>0.0</td>\n",
       "      <td>1.0</td>\n",
       "      <td>0.0</td>\n",
       "    </tr>\n",
       "    <tr>\n",
       "      <th>4</th>\n",
       "      <td>-0.105046</td>\n",
       "      <td>0.000000</td>\n",
       "      <td>0.0</td>\n",
       "      <td>0.0</td>\n",
       "      <td>0.0</td>\n",
       "      <td>0.0</td>\n",
       "      <td>1.0</td>\n",
       "      <td>0.0</td>\n",
       "      <td>0.0</td>\n",
       "      <td>0.0</td>\n",
       "      <td>1.0</td>\n",
       "      <td>0.0</td>\n",
       "      <td>0.0</td>\n",
       "      <td>0.0</td>\n",
       "      <td>0.0</td>\n",
       "      <td>0.0</td>\n",
       "      <td>0.0</td>\n",
       "    </tr>\n",
       "  </tbody>\n",
       "</table>\n",
       "</div>"
      ],
      "text/plain": [
       "   pipeline__amount_received  columntransformer__countencoder__account  \\\n",
       "0                   1.227359                                  0.000000   \n",
       "1                  -0.099347                                  0.000000   \n",
       "2                   1.500295                                  0.019825   \n",
       "3                   0.567904                                  0.000000   \n",
       "4                  -0.105046                                  0.000000   \n",
       "\n",
       "   columntransformer__countencoder__account_1  \\\n",
       "0                                         0.0   \n",
       "1                                         0.0   \n",
       "2                                         0.0   \n",
       "3                                         0.0   \n",
       "4                                         0.0   \n",
       "\n",
       "   columntransformer__onehotencoder__payment_format_ACH  \\\n",
       "0                                                   1.0   \n",
       "1                                                   0.0   \n",
       "2                                                   0.0   \n",
       "3                                                   0.0   \n",
       "4                                                   0.0   \n",
       "\n",
       "   columntransformer__onehotencoder__payment_format_Bitcoin  \\\n",
       "0                                                       0.0   \n",
       "1                                                       0.0   \n",
       "2                                                       0.0   \n",
       "3                                                       0.0   \n",
       "4                                                       0.0   \n",
       "\n",
       "   columntransformer__onehotencoder__payment_format_Cash  \\\n",
       "0                                                    0.0   \n",
       "1                                                    1.0   \n",
       "2                                                    0.0   \n",
       "3                                                    1.0   \n",
       "4                                                    0.0   \n",
       "\n",
       "   columntransformer__onehotencoder__payment_format_Cheque  \\\n",
       "0                                                      0.0   \n",
       "1                                                      0.0   \n",
       "2                                                      0.0   \n",
       "3                                                      0.0   \n",
       "4                                                      1.0   \n",
       "\n",
       "   columntransformer__onehotencoder__payment_format_Credit Card  \\\n",
       "0                                                           0.0   \n",
       "1                                                           0.0   \n",
       "2                                                           1.0   \n",
       "3                                                           0.0   \n",
       "4                                                           0.0   \n",
       "\n",
       "   columntransformer__onehotencoder__payment_format_Reinvestment  \\\n",
       "0                                                            0.0   \n",
       "1                                                            0.0   \n",
       "2                                                            0.0   \n",
       "3                                                            0.0   \n",
       "4                                                            0.0   \n",
       "\n",
       "   columntransformer__onehotencoder__payment_format_Wire  \\\n",
       "0                                                    0.0   \n",
       "1                                                    0.0   \n",
       "2                                                    0.0   \n",
       "3                                                    0.0   \n",
       "4                                                    0.0   \n",
       "\n",
       "   columntransformer__onehotencoder__day_Friday  \\\n",
       "0                                           1.0   \n",
       "1                                           0.0   \n",
       "2                                           0.0   \n",
       "3                                           0.0   \n",
       "4                                           1.0   \n",
       "\n",
       "   columntransformer__onehotencoder__day_Monday  \\\n",
       "0                                           0.0   \n",
       "1                                           0.0   \n",
       "2                                           1.0   \n",
       "3                                           0.0   \n",
       "4                                           0.0   \n",
       "\n",
       "   columntransformer__onehotencoder__day_Saturday  \\\n",
       "0                                             0.0   \n",
       "1                                             0.0   \n",
       "2                                             0.0   \n",
       "3                                             0.0   \n",
       "4                                             0.0   \n",
       "\n",
       "   columntransformer__onehotencoder__day_Sunday  \\\n",
       "0                                           0.0   \n",
       "1                                           0.0   \n",
       "2                                           0.0   \n",
       "3                                           0.0   \n",
       "4                                           0.0   \n",
       "\n",
       "   columntransformer__onehotencoder__day_Thursday  \\\n",
       "0                                             0.0   \n",
       "1                                             1.0   \n",
       "2                                             0.0   \n",
       "3                                             0.0   \n",
       "4                                             0.0   \n",
       "\n",
       "   columntransformer__onehotencoder__day_Tuesday  \\\n",
       "0                                            0.0   \n",
       "1                                            0.0   \n",
       "2                                            0.0   \n",
       "3                                            1.0   \n",
       "4                                            0.0   \n",
       "\n",
       "   columntransformer__onehotencoder__day_Wednesday  \n",
       "0                                              0.0  \n",
       "1                                              0.0  \n",
       "2                                              0.0  \n",
       "3                                              0.0  \n",
       "4                                              0.0  "
      ]
     },
     "metadata": {},
     "output_type": "display_data"
    }
   ],
   "source": [
    "column_transformer_tn = num_cat_transformer(numerical_features, categorical_features)\n",
    "\n",
    "\n",
    "input_features_train_array = column_transformer_tn.fit_transform(input_features_train_df)\n",
    "input_features_train_array = input_features_train_array.toarray()  # Convert to dense array\n",
    "\n",
    "# Get the feature names after transformation\n",
    "feature_names = column_transformer_tn.get_feature_names_out()\n",
    "\n",
    "# Create a DataFrame with the transformed data and feature names\n",
    "input_features_train_df_transformed = pd.DataFrame(input_features_train_array, columns=feature_names)\n",
    "\n",
    "print(\"Encoded and Scaled of the Train dataset:\")\n",
    "display(input_features_train_df_transformed.head())\n",
    "\n",
    "# Transform the test data\n",
    "input_features_test_array = column_transformer_tn.transform(input_features_test_df)\n",
    "input_features_test_array = input_features_test_array.toarray()  # Convert to dense array\n",
    "\n",
    "# Create a DataFrame with the transformed test data and feature names\n",
    "input_features_test_df_transformed = pd.DataFrame(input_features_test_array, columns=feature_names)\n",
    "\n",
    "print(\"Encoded and Scaled of the Test dataset:\")\n",
    "display(input_features_test_df_transformed.head())"
   ]
  },
  {
   "cell_type": "code",
   "execution_count": 42,
   "metadata": {},
   "outputs": [
    {
     "name": "stdout",
     "output_type": "stream",
     "text": [
      "Shape of input_features_train_array: (40000, 17)\n",
      "Shape of target_feature_train_df: (40000,)\n"
     ]
    }
   ],
   "source": [
    "print(\"Shape of input_features_train_array:\", input_features_train_array.shape)\n",
    "print(\"Shape of target_feature_train_df:\", target_feature_train_df.shape)"
   ]
  },
  {
   "cell_type": "code",
   "execution_count": 43,
   "metadata": {},
   "outputs": [
    {
     "name": "stdout",
     "output_type": "stream",
     "text": [
      "Shape of input_features_test_array: (10000, 17)\n",
      "Shape of target_feature_test_df: (10000,)\n"
     ]
    }
   ],
   "source": [
    "print(\"Shape of input_features_test_array:\", input_features_test_array.shape)\n",
    "print(\"Shape of target_feature_test_df:\", target_feature_test_df.shape)"
   ]
  },
  {
   "cell_type": "code",
   "execution_count": 44,
   "metadata": {},
   "outputs": [
    {
     "name": "stdout",
     "output_type": "stream",
     "text": [
      "Shape of input_features_test_array: (40000, 1)\n",
      "Shape of target_feature_test_df: (10000, 1)\n"
     ]
    }
   ],
   "source": [
    "# Ensure target features are 2D arrays\n",
    "target_feature_train_array = np.array(target_feature_train_df).reshape(-1, 1)\n",
    "target_feature_test_array = np.array(target_feature_test_df).reshape(-1, 1)\n",
    "print(\"Shape of input_features_test_array:\", target_feature_train_array.shape)\n",
    "print(\"Shape of target_feature_test_df:\", target_feature_test_array.shape)"
   ]
  },
  {
   "cell_type": "code",
   "execution_count": 45,
   "metadata": {},
   "outputs": [],
   "source": [
    "# concatenating all input features and target feature along column wise\n",
    "train_arr = np.c_[input_features_train_array, target_feature_train_array]\n",
    "test_arr = np.c_[input_features_test_array, target_feature_test_array]"
   ]
  },
  {
   "cell_type": "markdown",
   "metadata": {},
   "source": [
    "#### Save Train and Test data array"
   ]
  },
  {
   "cell_type": "code",
   "execution_count": 46,
   "metadata": {},
   "outputs": [],
   "source": [
    "# Save the arrays separately\n",
    "np.save('train_array.npy', train_arr)\n",
    "np.save('test_array.npy', test_arr)"
   ]
  },
  {
   "cell_type": "markdown",
   "metadata": {},
   "source": [
    "#### Load Train and Test data array"
   ]
  },
  {
   "cell_type": "code",
   "execution_count": 47,
   "metadata": {},
   "outputs": [],
   "source": [
    "# Load individual arrays\n",
    "loaded_train_array = np.load('train_array.npy')\n",
    "loaded_test_array = np.load('test_array.npy')"
   ]
  },
  {
   "cell_type": "code",
   "execution_count": 48,
   "metadata": {},
   "outputs": [
    {
     "data": {
      "text/plain": [
       "array([[-1.13072593e-01,  2.50000000e-05,  2.50000000e-05, ...,\n",
       "         0.00000000e+00,  0.00000000e+00,  0.00000000e+00],\n",
       "       [ 7.32170486e+00,  2.50000000e-05,  2.50000000e-05, ...,\n",
       "         0.00000000e+00,  0.00000000e+00,  0.00000000e+00],\n",
       "       [ 6.10589071e-02,  2.50000000e-05,  2.50000000e-05, ...,\n",
       "         0.00000000e+00,  0.00000000e+00,  0.00000000e+00],\n",
       "       ...,\n",
       "       [ 1.24870826e-01,  2.50000000e-05,  2.50000000e-05, ...,\n",
       "         0.00000000e+00,  0.00000000e+00,  0.00000000e+00],\n",
       "       [-1.07730245e-01,  2.50000000e-05,  2.50000000e-05, ...,\n",
       "         0.00000000e+00,  0.00000000e+00,  0.00000000e+00],\n",
       "       [-1.46675781e-02,  5.00000000e-05,  5.00000000e-05, ...,\n",
       "         0.00000000e+00,  0.00000000e+00,  0.00000000e+00]],\n",
       "      shape=(40000, 18))"
      ]
     },
     "execution_count": 48,
     "metadata": {},
     "output_type": "execute_result"
    }
   ],
   "source": [
    "# check\n",
    "loaded_train_array"
   ]
  },
  {
   "cell_type": "code",
   "execution_count": null,
   "metadata": {},
   "outputs": [],
   "source": []
  }
 ],
 "metadata": {
  "kernelspec": {
   "display_name": "Python 3",
   "language": "python",
   "name": "python3"
  },
  "language_info": {
   "codemirror_mode": {
    "name": "ipython",
    "version": 3
   },
   "file_extension": ".py",
   "mimetype": "text/x-python",
   "name": "python",
   "nbconvert_exporter": "python",
   "pygments_lexer": "ipython3",
   "version": "3.12.9"
  }
 },
 "nbformat": 4,
 "nbformat_minor": 2
}
