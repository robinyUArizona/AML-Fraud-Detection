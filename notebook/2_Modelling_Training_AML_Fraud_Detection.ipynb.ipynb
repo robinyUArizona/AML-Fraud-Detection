{
 "cells": [
  {
   "cell_type": "code",
   "execution_count": 87,
   "metadata": {},
   "outputs": [],
   "source": [
    "import warnings\n",
    "warnings.filterwarnings(\"ignore\")\n",
    "\n",
    "import pandas as pd\n",
    "import numpy as np\n",
    "import matplotlib.pyplot as plt\n",
    "import seaborn as sns\n",
    "%matplotlib inline\n",
    "\n",
    "from xgboost import XGBClassifier\n",
    "from sklearn.ensemble import (\n",
    "    RandomForestClassifier, \n",
    "    AdaBoostClassifier,\n",
    "    GradientBoostingClassifier\n",
    ")\n",
    "from sklearn.model_selection import train_test_split, GridSearchCV\n",
    "from sklearn.model_selection import cross_val_score, StratifiedKFold, KFold\n",
    "from collections import Counter\n",
    "from imblearn.over_sampling import SMOTE\n",
    "from sklearn.metrics import make_scorer, precision_score, recall_score, f1_score\n",
    "from sklearn.metrics import classification_report, confusion_matrix, auc, roc_curve\n",
    "from sklearn.metrics import ConfusionMatrixDisplay, RocCurveDisplay"
   ]
  },
  {
   "cell_type": "markdown",
   "metadata": {},
   "source": [
    "# 5. Model Training"
   ]
  },
  {
   "cell_type": "code",
   "execution_count": 88,
   "metadata": {},
   "outputs": [],
   "source": [
    "# Load individual train and test dataset arrays\n",
    "train_array = np.load('train_array.npy')\n",
    "test_array = np.load('test_array.npy')"
   ]
  },
  {
   "cell_type": "code",
   "execution_count": 89,
   "metadata": {},
   "outputs": [],
   "source": [
    "X_train, y_train, X_test, y_test = (\n",
    "    train_array[:, :-1],\n",
    "    train_array[:, -1],\n",
    "    test_array[:, :-1],\n",
    "    test_array[:, -1]\n",
    ")"
   ]
  },
  {
   "cell_type": "code",
   "execution_count": 90,
   "metadata": {},
   "outputs": [
    {
     "name": "stdout",
     "output_type": "stream",
     "text": [
      "[[ 1.20068596e+01  1.98147472e+00 -1.13072593e-01  3.07920000e+04\n",
      "   3.54770000e+04  1.00000000e+00  1.00000000e+00  1.00000000e+00]\n",
      " [ 6.62968537e-01  8.64077258e-01  7.32170486e+00  2.23540000e+04\n",
      "   2.63190000e+04  1.20000000e+01  1.20000000e+01  0.00000000e+00]\n",
      " [ 4.66769328e+00  1.88922173e+00  6.10589071e-02  2.81690000e+04\n",
      "   3.10720000e+04  9.00000000e+00  9.00000000e+00  3.00000000e+00]\n",
      " [ 2.31617261e-01 -3.40634255e-02  8.68951820e+00  1.55240000e+04\n",
      "   1.19430000e+04  6.00000000e+00  6.00000000e+00  3.00000000e+00]\n",
      " [-3.44731040e-01  2.72490432e-02  5.01890565e-01  1.96080000e+04\n",
      "   1.64140000e+04  3.00000000e+00  3.00000000e+00  4.00000000e+00]]\n",
      "[0. 0. 0. 0. 0.]\n"
     ]
    }
   ],
   "source": [
    "print(X_train[:5])\n",
    "print(y_train[:5])"
   ]
  },
  {
   "cell_type": "markdown",
   "metadata": {},
   "source": [
    "#### Oversamplig the data and cross validating by using different models\n"
   ]
  },
  {
   "cell_type": "code",
   "execution_count": 91,
   "metadata": {},
   "outputs": [],
   "source": [
    "\"\"\"  Imbalance dataset - upsampling \"\"\"\n",
    "def upsampling_data(X, y):\n",
    "    sm = SMOTE(sampling_strategy='auto', random_state=42)\n",
    "    X_sm, y_sm = sm.fit_resample(X, y)   \n",
    "    print(f\"\\n====== Upsampled the minority class data ======\") \n",
    "    print(\"Before SMOTE: \", Counter(y))\n",
    "    print(\"After SMOTE: \", Counter(y_sm))\n",
    "    return X_sm, y_sm\n",
    "\n",
    "\n",
    "\"\"\" Evaluating Models \"\"\"\n",
    "def model_evaluation(model, X, y, num_procs):\n",
    "    # parallel cross-validate models\n",
    "    print(\"\\n===================== Beginning cross validation ========================== \")\n",
    "    # Define cross-validation method\n",
    "    cv = StratifiedKFold(n_splits=10, shuffle=True, random_state=42)\n",
    "    # Define metrics\n",
    "    metrics = {\n",
    "        'Precision': make_scorer(precision_score, average='weighted'),\n",
    "        'Recall': make_scorer(recall_score, average='weighted'),\n",
    "        'F1 score': make_scorer(f1_score, average='weighted')\n",
    "    }\n",
    "    # Perform cross-validation and evaluate using different metrics\n",
    "    metrics_results = {}\n",
    "    for name, metric in metrics.items():\n",
    "        scores = cross_val_score(model, X, y, cv=cv, scoring=metric).mean()\n",
    "        metrics_results[name] = scores\n",
    "    return metrics_results\n",
    "\n",
    "\n",
    "\"\"\" Calculate Metrics \"\"\"\n",
    "def model_metrics(y_test, y_pred):    \n",
    "    precision = precision_score(y_test, y_pred, average='weighted')\n",
    "    recall = recall_score(y_test, y_pred, average='weighted')\n",
    "    f1 = f1_score(y_test, y_pred, average='weighted')\n",
    "    # Compute confusion matrix\n",
    "    cm = confusion_matrix(y_test, y_pred) \n",
    "    return precision, recall, f1, cm"
   ]
  },
  {
   "cell_type": "markdown",
   "metadata": {},
   "source": [
    "##### Models evaluation "
   ]
  },
  {
   "cell_type": "code",
   "execution_count": 92,
   "metadata": {},
   "outputs": [
    {
     "name": "stdout",
     "output_type": "stream",
     "text": [
      "\n",
      "====== Upsampled the minority class data ======\n",
      "Before SMOTE:  Counter({0.0: 39959, 1.0: 41})\n",
      "After SMOTE:  Counter({0.0: 39959, 1.0: 39959})\n",
      "\n",
      "================ RandomForestClassifier() ==================================\n",
      "Fitting 5 folds for each of 3 candidates, totalling 15 fits\n",
      "Best parameters: {'n_estimators': 50} for RandomForestClassifier()\n",
      "Obtaining evaluation metrics for RandomForestClassifier(n_estimators=50) by using best hyperparameters\n",
      "=============================================================\n",
      "\n",
      "\n",
      "\n",
      "================ AdaBoostClassifier() ==================================\n",
      "Fitting 5 folds for each of 12 candidates, totalling 60 fits\n",
      "Best parameters: {'learning_rate': 1.0, 'n_estimators': 200} for AdaBoostClassifier()\n",
      "Obtaining evaluation metrics for AdaBoostClassifier(n_estimators=200) by using best hyperparameters\n",
      "=============================================================\n",
      "\n",
      "\n",
      "\n",
      "================ XGBClassifier(base_score=None, booster=None, callbacks=None,\n",
      "              colsample_bylevel=None, colsample_bynode=None,\n",
      "              colsample_bytree=None, device=None, early_stopping_rounds=None,\n",
      "              enable_categorical=False, eval_metric=None, feature_types=None,\n",
      "              gamma=None, grow_policy=None, importance_type=None,\n",
      "              interaction_constraints=None, learning_rate=None, max_bin=None,\n",
      "              max_cat_threshold=None, max_cat_to_onehot=None,\n",
      "              max_delta_step=None, max_depth=None, max_leaves=None,\n",
      "              min_child_weight=None, missing=nan, monotone_constraints=None,\n",
      "              multi_strategy=None, n_estimators=None, n_jobs=None,\n",
      "              num_parallel_tree=None, random_state=None, ...) ==================================\n",
      "Fitting 5 folds for each of 12 candidates, totalling 60 fits\n",
      "Best parameters: {'learning_rate': 0.1, 'n_estimators': 200} for XGBClassifier(base_score=None, booster=None, callbacks=None,\n",
      "              colsample_bylevel=None, colsample_bynode=None,\n",
      "              colsample_bytree=None, device=None, early_stopping_rounds=None,\n",
      "              enable_categorical=False, eval_metric=None, feature_types=None,\n",
      "              gamma=None, grow_policy=None, importance_type=None,\n",
      "              interaction_constraints=None, learning_rate=None, max_bin=None,\n",
      "              max_cat_threshold=None, max_cat_to_onehot=None,\n",
      "              max_delta_step=None, max_depth=None, max_leaves=None,\n",
      "              min_child_weight=None, missing=nan, monotone_constraints=None,\n",
      "              multi_strategy=None, n_estimators=None, n_jobs=None,\n",
      "              num_parallel_tree=None, random_state=None, ...)\n",
      "Obtaining evaluation metrics for XGBClassifier(base_score=None, booster=None, callbacks=None,\n",
      "              colsample_bylevel=None, colsample_bynode=None,\n",
      "              colsample_bytree=None, device=None, early_stopping_rounds=None,\n",
      "              enable_categorical=False, eval_metric=None, feature_types=None,\n",
      "              gamma=None, grow_policy=None, importance_type=None,\n",
      "              interaction_constraints=None, learning_rate=0.1, max_bin=None,\n",
      "              max_cat_threshold=None, max_cat_to_onehot=None,\n",
      "              max_delta_step=None, max_depth=None, max_leaves=None,\n",
      "              min_child_weight=None, missing=nan, monotone_constraints=None,\n",
      "              multi_strategy=None, n_estimators=200, n_jobs=None,\n",
      "              num_parallel_tree=None, random_state=None, ...) by using best hyperparameters\n",
      "=============================================================\n",
      "\n",
      "\n",
      "Model performance on Training Data: \n",
      "{'Random_Forest': [{'Precision': 0.9999874874874873, 'Recall': 0.9999874871743537, 'F1 score': 0.9999874871743517, 'Confusion Matrix': array([[39959,     0],\n",
      "       [    1, 39958]], dtype=int64)}], 'AdaBoost': [{'Precision': 0.9806111315004067, 'Recall': 0.9802047098275732, 'F1 score': 0.9802005240443007, 'Confusion Matrix': array([[38587,  1372],\n",
      "       [  210, 39749]], dtype=int64)}], 'XGBoost': [{'Precision': 0.9993748591178393, 'Recall': 0.9993743587176857, 'F1 score': 0.9993743585609542, 'Confusion Matrix': array([[39914,    45],\n",
      "       [    5, 39954]], dtype=int64)}]}\n",
      "-----------------------------------------------------\n",
      "Model performance on Test Data: \n",
      "{'Random_Forest': [{'Precision': 0.9975609427416623, 'Recall': 0.9968, 'F1 score': 0.9971758294983826, 'Confusion Matrix': array([[9967,   20],\n",
      "       [  12,    1]], dtype=int64)}], 'AdaBoost': [{'Precision': 0.998482567850168, 'Recall': 0.8742, 'F1 score': 0.9316088501602564, 'Confusion Matrix': array([[8731, 1256],\n",
      "       [   2,   11]], dtype=int64)}], 'XGBoost': [{'Precision': 0.9976235608563122, 'Recall': 0.9908, 'F1 score': 0.9941379890139337, 'Confusion Matrix': array([[9906,   81],\n",
      "       [  11,    2]], dtype=int64)}]}\n"
     ]
    }
   ],
   "source": [
    "\"\"\"\n",
    "    Evaluating Models\n",
    "    - Random_Forest\n",
    "    - AdaBoost\n",
    "    - XGBoost\n",
    "\"\"\"\n",
    "\n",
    "# Initialize the classifiers\n",
    "models = {\n",
    "    \"Random_Forest\": RandomForestClassifier(),\n",
    "    \"AdaBoost\": AdaBoostClassifier(),\n",
    "    # \"Gradient Boosting\": GradientBoostingClassifier(),\n",
    "    \"XGBoost\": XGBClassifier()\n",
    "}\n",
    "\n",
    "\n",
    "# Define the hyperparameters and their possible values\n",
    "params = {\n",
    "    \"Random_Forest\": {\n",
    "        'n_estimators': [50, 100, 200],\n",
    "        # 'criterion': ['gini', 'entropy'],\n",
    "        # 'max_depth': [None, 10, 20, 30],\n",
    "        # 'min_samples_split': [2, 5, 10],\n",
    "        # 'min_samples_leaf': [1, 2, 4],\n",
    "        # 'max_features': ['sqrt', 'log2', None]\n",
    "    },\n",
    "    \"AdaBoost\": {\n",
    "        'n_estimators': [50, 100, 200],\n",
    "        'learning_rate': [0.01, 0.1, 0.5, 1.0],\n",
    "        # 'algorithm': ['SAMME', 'SAMME.R']\n",
    "    },\n",
    "    # \"Gradient Boosting\": {\n",
    "    #     # 'n_estimators': [50, 100, 200],\n",
    "    #     # 'learning_rate': [0.01, 0.1, 0.05, 0.001],\n",
    "    #     # 'subsample': [0.6, 0.7, 0.8, 0.9],\n",
    "    #     # 'max_depth': [3, 5, 7, 9],\n",
    "    #     # 'min_samples_split': [2, 5, 10],\n",
    "    #     # 'min_samples_leaf': [1, 2, 4]\n",
    "    # },\n",
    "    \"XGBoost\": {\n",
    "        'n_estimators': [50, 100, 200],\n",
    "        'learning_rate': [0.01, 0.1, 0.05, 0.001],\n",
    "        # 'max_depth': [3, 5, 7, 9],\n",
    "        # 'min_child_weight': [1, 3, 5],\n",
    "        # 'gamma': [0, 0.1, 0.2],\n",
    "        # 'subsample': [0.6, 0.7, 0.8, 0.9],\n",
    "        # 'colsample_bytree': [0.6, 0.7, 0.8, 0.9]\n",
    "    }\n",
    "}\n",
    "\n",
    "\n",
    "# Initialize StratifiedKFold with 5 folds\n",
    "# Stratified K-Fold ensures that each fold has the same proportion of classes as the entire dataset. \n",
    "skf = StratifiedKFold(n_splits=5)\n",
    "\n",
    "# Upsampling train data\n",
    "X_train_sm, y_train_sm = upsampling_data(X_train, y_train)\n",
    "\n",
    "train_report = {}\n",
    "test_report = {}\n",
    "for i in range(len(models)):\n",
    "    model = list(models.values())[i]\n",
    "    param = params[list(models.keys())[i]]\n",
    "    print(f\"\\n================ {model} ==================================\")\n",
    "    # Initalize GridSearchCV with 5-fold stratified cross validation\n",
    "    # n_jobs is set to -1, to use all available CPU cores on the machine\n",
    "    # verbose=2 to track the progress grid search or model training.\n",
    "    grid_search = GridSearchCV(estimator=model, \n",
    "                               param_grid=param, \n",
    "                               cv=skf,\n",
    "                               n_jobs=-1,\n",
    "                               verbose=2)\n",
    "\n",
    "    # Fit the grid search model\n",
    "    grid_search.fit(X_train_sm, y_train_sm)\n",
    "    print(f\"Best parameters: {grid_search.best_params_} for {model}\")\n",
    "\n",
    "    # Set the model with best hyperparameters\n",
    "    model.set_params(**grid_search.best_params_)\n",
    "    # Fit the model\n",
    "    model.fit(X_train_sm, y_train_sm)\n",
    "\n",
    "    # Predict on Train data\n",
    "    y_train_pred = model.predict(X_train_sm)\n",
    "    # Predict on Test data\n",
    "    y_test_pred = model.predict(X_test)\n",
    "\n",
    "    # Get evaluation metrics for train and test data using best hyperparametrs\n",
    "    print(f\"Obtaining evaluation metrics for {model} by using best hyperparameters\")\n",
    "    precision_train, recall_train, f1_train, cm_train = model_metrics(y_train_sm, y_train_pred)\n",
    "    train_model_score = []\n",
    "    train_model_score.append({\n",
    "        \"Precision\" : precision_train,\n",
    "        \"Recall\" : recall_train,\n",
    "        \"F1 score\": f1_train,\n",
    "        \"Confusion Matrix\": cm_train\n",
    "    })\n",
    "    train_report[list(models.keys())[i]] = train_model_score\n",
    "\n",
    "    precision_test, recall_test, f1_test, cm_test = model_metrics(y_test, y_test_pred)\n",
    "    test_model_score = []\n",
    "    test_model_score.append({\n",
    "        \"Precision\" : precision_test,\n",
    "        \"Recall\" : recall_test,\n",
    "        \"F1 score\": f1_test,\n",
    "        \"Confusion Matrix\": cm_test\n",
    "    })\n",
    "    test_report[list(models.keys())[i]] = test_model_score\n",
    "\n",
    "    print(\"=============================================================\\n\\n\")\n",
    "\n",
    "print(f\"Model performance on Training Data: \\n{train_report}\")\n",
    "print(f\"-----------------------------------------------------\")\n",
    "print(f\"Model performance on Test Data: \\n{test_report}\")\n"
   ]
  },
  {
   "cell_type": "markdown",
   "metadata": {},
   "source": [
    "#### Models evaluation results on training data and test data"
   ]
  },
  {
   "cell_type": "code",
   "execution_count": 93,
   "metadata": {},
   "outputs": [
    {
     "name": "stdout",
     "output_type": "stream",
     "text": [
      "Model performance on Train data: \n",
      "           Model  Precision    Recall  F1 Score               Confusion Matrix\n",
      "0  Random_Forest   0.999987  0.999987  0.999987       [[39959, 0], [1, 39958]]\n",
      "1       AdaBoost   0.980611  0.980205  0.980201  [[38587, 1372], [210, 39749]]\n",
      "2        XGBoost   0.999375  0.999374  0.999374      [[39914, 45], [5, 39954]]\n",
      "\n",
      "Model performance on Test data: \n",
      "           Model  Precision  Recall  F1 Score         Confusion Matrix\n",
      "0  Random_Forest   0.997561  0.9968  0.997176    [[9967, 20], [12, 1]]\n",
      "1       AdaBoost   0.998483  0.8742  0.931609  [[8731, 1256], [2, 11]]\n",
      "2        XGBoost   0.997624  0.9908  0.994138    [[9906, 81], [11, 2]]\n"
     ]
    }
   ],
   "source": [
    "train_report_df = pd.DataFrame({\n",
    "    'Model': list(train_report.keys()),\n",
    "    'Precision': [metrics[0]['Precision'] for metrics in train_report.values()],\n",
    "    'Recall': [metrics[0]['Recall'] for metrics in train_report.values()],\n",
    "    'F1 Score': [metrics[0]['F1 score'] for metrics in train_report.values()],\n",
    "    'Confusion Matrix': [metrics[0]['Confusion Matrix'] for metrics in train_report.values()]\n",
    "})\n",
    "print(f\"Model performance on Train data: \\n{train_report_df}\\n\")\n",
    "\n",
    "test_report_df = pd.DataFrame({\n",
    "    'Model': list(test_report.keys()),\n",
    "    'Precision': [metrics[0]['Precision'] for metrics in test_report.values()],\n",
    "    'Recall': [metrics[0]['Recall'] for metrics in test_report.values()],\n",
    "    'F1 Score': [metrics[0]['F1 score'] for metrics in test_report.values()],\n",
    "    'Confusion Matrix': [metrics[0]['Confusion Matrix'] for metrics in test_report.values()]\n",
    "})\n",
    "print(f\"Model performance on Test data: \\n{test_report_df}\")\n"
   ]
  },
  {
   "cell_type": "code",
   "execution_count": 94,
   "metadata": {},
   "outputs": [
    {
     "data": {
      "text/plain": [
       "{'Random_Forest': [{'Precision': 0.9975609427416623,\n",
       "   'Recall': 0.9968,\n",
       "   'F1 score': 0.9971758294983826,\n",
       "   'Confusion Matrix': array([[9967,   20],\n",
       "          [  12,    1]], dtype=int64)}],\n",
       " 'AdaBoost': [{'Precision': 0.998482567850168,\n",
       "   'Recall': 0.8742,\n",
       "   'F1 score': 0.9316088501602564,\n",
       "   'Confusion Matrix': array([[8731, 1256],\n",
       "          [   2,   11]], dtype=int64)}],\n",
       " 'XGBoost': [{'Precision': 0.9976235608563122,\n",
       "   'Recall': 0.9908,\n",
       "   'F1 score': 0.9941379890139337,\n",
       "   'Confusion Matrix': array([[9906,   81],\n",
       "          [  11,    2]], dtype=int64)}]}"
      ]
     },
     "execution_count": 94,
     "metadata": {},
     "output_type": "execute_result"
    }
   ],
   "source": [
    "test_report"
   ]
  },
  {
   "cell_type": "markdown",
   "metadata": {},
   "source": [
    "#### Models and its corresponding Recall score from test training report"
   ]
  },
  {
   "cell_type": "code",
   "execution_count": 95,
   "metadata": {},
   "outputs": [
    {
     "name": "stdout",
     "output_type": "stream",
     "text": [
      "The models and their corresponding Recall score: \n",
      "{'Random_Forest': 0.9968, 'AdaBoost': 0.8742, 'XGBoost': 0.9908}\n"
     ]
    }
   ],
   "source": [
    "models_recall_score = {model: recall_result[0][\"Recall\"] for model, recall_result in test_report.items()}\n",
    "print(f\"The models and their corresponding Recall score: \\n{models_recall_score}\")"
   ]
  },
  {
   "cell_type": "markdown",
   "metadata": {},
   "source": [
    "#### Finding the best model and its score"
   ]
  },
  {
   "cell_type": "code",
   "execution_count": 96,
   "metadata": {},
   "outputs": [
    {
     "name": "stdout",
     "output_type": "stream",
     "text": [
      "Best Model name is Random_Forest with Recall score: 0.9968\n",
      "Best Model: RandomForestClassifier(n_estimators=50)\n"
     ]
    }
   ],
   "source": [
    "best_model_name, best_score = max(models_recall_score.items(), key=lambda item: item[1])\n",
    "print(f\"Best Model name is {best_model_name} with Recall score: {best_score}\")\n",
    "\n",
    "# Get best model\n",
    "best_model = models[best_model_name]\n",
    "print(f\"Best Model: {best_model}\")"
   ]
  },
  {
   "cell_type": "code",
   "execution_count": 97,
   "metadata": {},
   "outputs": [],
   "source": [
    "# Initialize the the best model \n",
    "best_model = RandomForestClassifier(n_estimators=200)\n",
    "# Train the model on the training data\n",
    "rfc_best = best_model.fit(X_train_sm, y_train_sm)"
   ]
  },
  {
   "cell_type": "code",
   "execution_count": 98,
   "metadata": {},
   "outputs": [
    {
     "data": {
      "text/plain": [
       "<bound method BaseEstimator.get_params of RandomForestClassifier(n_estimators=200)>"
      ]
     },
     "execution_count": 98,
     "metadata": {},
     "output_type": "execute_result"
    }
   ],
   "source": [
    "rfc_best.get_params"
   ]
  },
  {
   "cell_type": "code",
   "execution_count": 99,
   "metadata": {},
   "outputs": [
    {
     "name": "stdout",
     "output_type": "stream",
     "text": [
      "[0. 0. 0. ... 0. 1. 0.]\n"
     ]
    }
   ],
   "source": [
    "# Predict the labels for the test set\n",
    "y_pred = rfc_best.predict(X_test)\n",
    "print(y_pred)"
   ]
  },
  {
   "cell_type": "code",
   "execution_count": 100,
   "metadata": {},
   "outputs": [
    {
     "data": {
      "text/html": [
       "<div>\n",
       "<style scoped>\n",
       "    .dataframe tbody tr th:only-of-type {\n",
       "        vertical-align: middle;\n",
       "    }\n",
       "\n",
       "    .dataframe tbody tr th {\n",
       "        vertical-align: top;\n",
       "    }\n",
       "\n",
       "    .dataframe thead th {\n",
       "        text-align: right;\n",
       "    }\n",
       "</style>\n",
       "<table border=\"1\" class=\"dataframe\">\n",
       "  <thead>\n",
       "    <tr style=\"text-align: right;\">\n",
       "      <th></th>\n",
       "      <th>Final Model</th>\n",
       "      <th>Precision</th>\n",
       "      <th>Recall</th>\n",
       "      <th>F1 score</th>\n",
       "      <th>Confusion Matrix</th>\n",
       "    </tr>\n",
       "  </thead>\n",
       "  <tbody>\n",
       "    <tr>\n",
       "      <th>0</th>\n",
       "      <td>Random_Forest</td>\n",
       "      <td>0.997624</td>\n",
       "      <td>0.9908</td>\n",
       "      <td>0.994138</td>\n",
       "      <td>[[9906, 81], [11, 2]]</td>\n",
       "    </tr>\n",
       "  </tbody>\n",
       "</table>\n",
       "</div>"
      ],
      "text/plain": [
       "     Final Model  Precision  Recall  F1 score       Confusion Matrix\n",
       "0  Random_Forest   0.997624  0.9908  0.994138  [[9906, 81], [11, 2]]"
      ]
     },
     "execution_count": 100,
     "metadata": {},
     "output_type": "execute_result"
    }
   ],
   "source": [
    "precision_train, recall_train, f1_train, cm_train = model_metrics(y_test, y_pred)\n",
    "result_dict = {\"Final Model\": best_model_name,\n",
    "               \"Precision\" : precision_test,\n",
    "               \"Recall\" : recall_test,\n",
    "               \"F1 score\": f1_test,\n",
    "               \"Confusion Matrix\": cm_test}\n",
    "final_results = pd.DataFrame([result_dict])\n",
    "final_results"
   ]
  },
  {
   "cell_type": "code",
   "execution_count": 101,
   "metadata": {},
   "outputs": [
    {
     "name": "stdout",
     "output_type": "stream",
     "text": [
      "Probabilities prediction of 'Is Laundering':\n",
      " [0.22  0.    0.    ... 0.03  0.755 0.005]\n"
     ]
    },
    {
     "data": {
      "text/plain": [
       "<Figure size 400x400 with 0 Axes>"
      ]
     },
     "metadata": {},
     "output_type": "display_data"
    },
    {
     "data": {
      "image/png": "[encoded data removed]",
      "text/plain": [
       "<Figure size 640x480 with 1 Axes>"
      ]
     },
     "metadata": {},
     "output_type": "display_data"
    }
   ],
   "source": [
    "# Predict the probabilities for the test set\n",
    "test_probabilities = rfc_best.predict_proba(X_test)[:, 1]\n",
    "print(f\"Probabilities prediction of 'Is Laundering':\\n {test_probabilities}\")\n",
    "\n",
    "# Compute the ROC curve and AUC\n",
    "fpr, tpr, thresholds = roc_curve(y_test, test_probabilities)\n",
    "roc_auc = auc(fpr, tpr)\n",
    "\n",
    "# Plot the ROC curve\n",
    "plt.figure(figsize=(4,4))\n",
    "RocCurveDisplay(fpr=fpr, tpr=tpr, roc_auc=roc_auc, estimator_name=rfc_best).plot()\n",
    "plt.plot([0, 1], [0, 1], color='red', lw=2, linestyle='--')\n",
    "plt.title('ROC Curve')\n",
    "plt.show()"
   ]
  },
  {
   "cell_type": "code",
   "execution_count": 102,
   "metadata": {},
   "outputs": [
    {
     "name": "stdout",
     "output_type": "stream",
     "text": [
      "Closet threshold to get Desired TPR of around 88.0%: 0.03\n",
      "False Positive Rate (FPR): 0.329\n",
      "True Positive Rate (TPR): 0.846\n"
     ]
    },
    {
     "data": {
      "image/png": "[encoded data removed]",
      "text/plain": [
       "<Figure size 640x480 with 2 Axes>"
      ]
     },
     "metadata": {},
     "output_type": "display_data"
    },
    {
     "name": "stdout",
     "output_type": "stream",
     "text": [
      "Classification report: \n",
      "               precision    recall  f1-score   support\n",
      "\n",
      "         0.0       1.00      0.67      0.80      9987\n",
      "         1.0       0.00      0.85      0.01        13\n",
      "\n",
      "    accuracy                           0.67     10000\n",
      "   macro avg       0.50      0.76      0.40     10000\n",
      "weighted avg       1.00      0.67      0.80     10000\n",
      "\n"
     ]
    }
   ],
   "source": [
    "# Compute the True Positive Rate (tPR) and False Positive Rate (FPR) for a specific threshold value\n",
    "desired_tpr = 0.88\n",
    "closest_threshold = thresholds[np.argmin(np.abs(tpr - desired_tpr))]\n",
    "print(f\"Closet threshold to get Desired TPR of around {desired_tpr*100}%: {closest_threshold}\")\n",
    "\n",
    "y_pred = (test_probabilities >= closest_threshold).astype(int)\n",
    "tn, fp, fn, tp = confusion_matrix(y_test, y_pred).ravel()\n",
    "\n",
    "fpr_cm = fp / (fp + tn)\n",
    "tpr_cm = tp / (tp + fn)\n",
    "print(f\"False Positive Rate (FPR): {fpr_cm:.3f}\")\n",
    "print(f\"True Positive Rate (TPR): {tpr_cm:.3f}\")\n",
    "\n",
    "disp = ConfusionMatrixDisplay.from_predictions(y_test, y_pred, cmap=\"Blues\")\n",
    "plt.show()\n",
    "\n",
    "print(f\"Classification report: \\n {classification_report(y_test, y_pred)}\")"
   ]
  },
  {
   "cell_type": "code",
   "execution_count": null,
   "metadata": {},
   "outputs": [],
   "source": []
  },
  {
   "cell_type": "markdown",
   "metadata": {},
   "source": [
    "#### Best model is Random Forest with Recall (True Postive Rate) of ~99%"
   ]
  }
 ],
 "metadata": {
  "kernelspec": {
   "display_name": "Python 3",
   "language": "python",
   "name": "python3"
  },
  "language_info": {
   "codemirror_mode": {
    "name": "ipython",
    "version": 3
   },
   "file_extension": ".py",
   "mimetype": "text/x-python",
   "name": "python",
   "nbconvert_exporter": "python",
   "pygments_lexer": "ipython3",
   "version": "3.8.0"
  }
 },
 "nbformat": 4,
 "nbformat_minor": 2
}
