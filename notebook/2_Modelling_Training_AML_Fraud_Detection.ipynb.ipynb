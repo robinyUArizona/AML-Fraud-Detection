{
 "cells": [
  {
   "cell_type": "code",
   "execution_count": 11,
   "metadata": {},
   "outputs": [],
   "source": [
    "import warnings\n",
    "warnings.filterwarnings(\"ignore\")\n",
    "\n",
    "import pandas as pd\n",
    "import numpy as np\n",
    "import matplotlib.pyplot as plt\n",
    "import seaborn as sns\n",
    "%matplotlib inline\n",
    "\n",
    "from xgboost import XGBClassifier\n",
    "from sklearn.ensemble import RandomForestClassifier, ExtraTreesClassifier\n",
    "\n",
    "from collections import Counter\n",
    "from imblearn.over_sampling import SMOTE\n",
    "from sklearn.model_selection import cross_val_score, StratifiedKFold, KFold\n",
    "from sklearn.metrics import make_scorer, precision_score, recall_score, f1_score\n",
    "from sklearn.metrics import classification_report, confusion_matrix, auc, roc_curve\n",
    "from sklearn.metrics import ConfusionMatrixDisplay, RocCurveDisplay"
   ]
  },
  {
   "cell_type": "markdown",
   "metadata": {},
   "source": [
    "# 5. Model Training"
   ]
  },
  {
   "cell_type": "code",
   "execution_count": 12,
   "metadata": {},
   "outputs": [],
   "source": [
    "# Load individual train and test dataset arrays\n",
    "train_array = np.load('train_array.npy')\n",
    "test_array = np.load('test_array.npy')"
   ]
  },
  {
   "cell_type": "code",
   "execution_count": 13,
   "metadata": {},
   "outputs": [],
   "source": [
    "X_train, y_train, X_test, y_test = (\n",
    "    train_array[:, :-1],\n",
    "    train_array[:, -1],\n",
    "    test_array[:, :-1],\n",
    "    test_array[:, -1]\n",
    ")"
   ]
  },
  {
   "cell_type": "code",
   "execution_count": 14,
   "metadata": {},
   "outputs": [
    {
     "name": "stdout",
     "output_type": "stream",
     "text": [
      "[[ 1.20068596e+01  1.98147472e+00 -1.13072593e-01  3.07920000e+04\n",
      "   3.54770000e+04  1.00000000e+00  1.00000000e+00  1.00000000e+00]\n",
      " [ 6.62968537e-01  8.64077258e-01  7.32170486e+00  2.23540000e+04\n",
      "   2.63190000e+04  1.20000000e+01  1.20000000e+01  0.00000000e+00]\n",
      " [ 4.66769328e+00  1.88922173e+00  6.10589071e-02  2.81690000e+04\n",
      "   3.10720000e+04  9.00000000e+00  9.00000000e+00  3.00000000e+00]\n",
      " [ 2.31617261e-01 -3.40634255e-02  8.68951820e+00  1.55240000e+04\n",
      "   1.19430000e+04  6.00000000e+00  6.00000000e+00  3.00000000e+00]\n",
      " [-3.44731040e-01  2.72490432e-02  5.01890565e-01  1.96080000e+04\n",
      "   1.64140000e+04  3.00000000e+00  3.00000000e+00  4.00000000e+00]]\n",
      "[0. 0. 0. 0. 0.]\n"
     ]
    }
   ],
   "source": [
    "print(X_train[:5])\n",
    "print(y_train[:5])"
   ]
  },
  {
   "cell_type": "markdown",
   "metadata": {},
   "source": [
    "#### Training Base Model"
   ]
  },
  {
   "cell_type": "code",
   "execution_count": 15,
   "metadata": {},
   "outputs": [
    {
     "data": {
      "text/html": [
       "<style>#sk-container-id-2 {color: black;}#sk-container-id-2 pre{padding: 0;}#sk-container-id-2 div.sk-toggleable {background-color: white;}#sk-container-id-2 label.sk-toggleable__label {cursor: pointer;display: block;width: 100%;margin-bottom: 0;padding: 0.3em;box-sizing: border-box;text-align: center;}#sk-container-id-2 label.sk-toggleable__label-arrow:before {content: \"▸\";float: left;margin-right: 0.25em;color: #696969;}#sk-container-id-2 label.sk-toggleable__label-arrow:hover:before {color: black;}#sk-container-id-2 div.sk-estimator:hover label.sk-toggleable__label-arrow:before {color: black;}#sk-container-id-2 div.sk-toggleable__content {max-height: 0;max-width: 0;overflow: hidden;text-align: left;background-color: #f0f8ff;}#sk-container-id-2 div.sk-toggleable__content pre {margin: 0.2em;color: black;border-radius: 0.25em;background-color: #f0f8ff;}#sk-container-id-2 input.sk-toggleable__control:checked~div.sk-toggleable__content {max-height: 200px;max-width: 100%;overflow: auto;}#sk-container-id-2 input.sk-toggleable__control:checked~label.sk-toggleable__label-arrow:before {content: \"▾\";}#sk-container-id-2 div.sk-estimator input.sk-toggleable__control:checked~label.sk-toggleable__label {background-color: #d4ebff;}#sk-container-id-2 div.sk-label input.sk-toggleable__control:checked~label.sk-toggleable__label {background-color: #d4ebff;}#sk-container-id-2 input.sk-hidden--visually {border: 0;clip: rect(1px 1px 1px 1px);clip: rect(1px, 1px, 1px, 1px);height: 1px;margin: -1px;overflow: hidden;padding: 0;position: absolute;width: 1px;}#sk-container-id-2 div.sk-estimator {font-family: monospace;background-color: #f0f8ff;border: 1px dotted black;border-radius: 0.25em;box-sizing: border-box;margin-bottom: 0.5em;}#sk-container-id-2 div.sk-estimator:hover {background-color: #d4ebff;}#sk-container-id-2 div.sk-parallel-item::after {content: \"\";width: 100%;border-bottom: 1px solid gray;flex-grow: 1;}#sk-container-id-2 div.sk-label:hover label.sk-toggleable__label {background-color: #d4ebff;}#sk-container-id-2 div.sk-serial::before {content: \"\";position: absolute;border-left: 1px solid gray;box-sizing: border-box;top: 0;bottom: 0;left: 50%;z-index: 0;}#sk-container-id-2 div.sk-serial {display: flex;flex-direction: column;align-items: center;background-color: white;padding-right: 0.2em;padding-left: 0.2em;position: relative;}#sk-container-id-2 div.sk-item {position: relative;z-index: 1;}#sk-container-id-2 div.sk-parallel {display: flex;align-items: stretch;justify-content: center;background-color: white;position: relative;}#sk-container-id-2 div.sk-item::before, #sk-container-id-2 div.sk-parallel-item::before {content: \"\";position: absolute;border-left: 1px solid gray;box-sizing: border-box;top: 0;bottom: 0;left: 50%;z-index: -1;}#sk-container-id-2 div.sk-parallel-item {display: flex;flex-direction: column;z-index: 1;position: relative;background-color: white;}#sk-container-id-2 div.sk-parallel-item:first-child::after {align-self: flex-end;width: 50%;}#sk-container-id-2 div.sk-parallel-item:last-child::after {align-self: flex-start;width: 50%;}#sk-container-id-2 div.sk-parallel-item:only-child::after {width: 0;}#sk-container-id-2 div.sk-dashed-wrapped {border: 1px dashed gray;margin: 0 0.4em 0.5em 0.4em;box-sizing: border-box;padding-bottom: 0.4em;background-color: white;}#sk-container-id-2 div.sk-label label {font-family: monospace;font-weight: bold;display: inline-block;line-height: 1.2em;}#sk-container-id-2 div.sk-label-container {text-align: center;}#sk-container-id-2 div.sk-container {/* jupyter's `normalize.less` sets `[hidden] { display: none; }` but bootstrap.min.css set `[hidden] { display: none !important; }` so we also need the `!important` here to be able to override the default hidden behavior on the sphinx rendered scikit-learn.org. See: https://github.com/scikit-learn/scikit-learn/issues/21755 */display: inline-block !important;position: relative;}#sk-container-id-2 div.sk-text-repr-fallback {display: none;}</style><div id=\"sk-container-id-2\" class=\"sk-top-container\"><div class=\"sk-text-repr-fallback\"><pre>XGBClassifier(base_score=None, booster=None, callbacks=None,\n",
       "              colsample_bylevel=None, colsample_bynode=None,\n",
       "              colsample_bytree=None, device=None, early_stopping_rounds=None,\n",
       "              enable_categorical=False, eval_metric=&#x27;logloss&#x27;,\n",
       "              feature_types=None, gamma=None, grow_policy=None,\n",
       "              importance_type=None, interaction_constraints=None,\n",
       "              learning_rate=None, max_bin=None, max_cat_threshold=None,\n",
       "              max_cat_to_onehot=None, max_delta_step=None, max_depth=None,\n",
       "              max_leaves=None, min_child_weight=None, missing=nan,\n",
       "              monotone_constraints=None, multi_strategy=None, n_estimators=None,\n",
       "              n_jobs=None, num_parallel_tree=None, random_state=None, ...)</pre><b>In a Jupyter environment, please rerun this cell to show the HTML representation or trust the notebook. <br />On GitHub, the HTML representation is unable to render, please try loading this page with nbviewer.org.</b></div><div class=\"sk-container\" hidden><div class=\"sk-item\"><div class=\"sk-estimator sk-toggleable\"><input class=\"sk-toggleable__control sk-hidden--visually\" id=\"sk-estimator-id-2\" type=\"checkbox\" checked><label for=\"sk-estimator-id-2\" class=\"sk-toggleable__label sk-toggleable__label-arrow\">XGBClassifier</label><div class=\"sk-toggleable__content\"><pre>XGBClassifier(base_score=None, booster=None, callbacks=None,\n",
       "              colsample_bylevel=None, colsample_bynode=None,\n",
       "              colsample_bytree=None, device=None, early_stopping_rounds=None,\n",
       "              enable_categorical=False, eval_metric=&#x27;logloss&#x27;,\n",
       "              feature_types=None, gamma=None, grow_policy=None,\n",
       "              importance_type=None, interaction_constraints=None,\n",
       "              learning_rate=None, max_bin=None, max_cat_threshold=None,\n",
       "              max_cat_to_onehot=None, max_delta_step=None, max_depth=None,\n",
       "              max_leaves=None, min_child_weight=None, missing=nan,\n",
       "              monotone_constraints=None, multi_strategy=None, n_estimators=None,\n",
       "              n_jobs=None, num_parallel_tree=None, random_state=None, ...)</pre></div></div></div></div></div>"
      ],
      "text/plain": [
       "XGBClassifier(base_score=None, booster=None, callbacks=None,\n",
       "              colsample_bylevel=None, colsample_bynode=None,\n",
       "              colsample_bytree=None, device=None, early_stopping_rounds=None,\n",
       "              enable_categorical=False, eval_metric='logloss',\n",
       "              feature_types=None, gamma=None, grow_policy=None,\n",
       "              importance_type=None, interaction_constraints=None,\n",
       "              learning_rate=None, max_bin=None, max_cat_threshold=None,\n",
       "              max_cat_to_onehot=None, max_delta_step=None, max_depth=None,\n",
       "              max_leaves=None, min_child_weight=None, missing=nan,\n",
       "              monotone_constraints=None, multi_strategy=None, n_estimators=None,\n",
       "              n_jobs=None, num_parallel_tree=None, random_state=None, ...)"
      ]
     },
     "execution_count": 15,
     "metadata": {},
     "output_type": "execute_result"
    }
   ],
   "source": [
    "# Initialize the XGBClassifier\n",
    "xgb_base = XGBClassifier(eval_metric='logloss')\n",
    "\n",
    "# Train the model on the training data\n",
    "xgb_base.fit(X_train, y_train)"
   ]
  },
  {
   "cell_type": "code",
   "execution_count": 16,
   "metadata": {},
   "outputs": [
    {
     "name": "stdout",
     "output_type": "stream",
     "text": [
      "[0 0 0 ... 0 0 0]\n"
     ]
    }
   ],
   "source": [
    "# Predict the labels for the test set\n",
    "y_pred = xgb_base.predict(X_test)\n",
    "print(y_pred)"
   ]
  },
  {
   "cell_type": "code",
   "execution_count": 17,
   "metadata": {},
   "outputs": [
    {
     "data": {
      "text/plain": [
       "<bound method XGBModel.get_params of XGBClassifier(base_score=None, booster=None, callbacks=None,\n",
       "              colsample_bylevel=None, colsample_bynode=None,\n",
       "              colsample_bytree=None, device=None, early_stopping_rounds=None,\n",
       "              enable_categorical=False, eval_metric='logloss',\n",
       "              feature_types=None, gamma=None, grow_policy=None,\n",
       "              importance_type=None, interaction_constraints=None,\n",
       "              learning_rate=None, max_bin=None, max_cat_threshold=None,\n",
       "              max_cat_to_onehot=None, max_delta_step=None, max_depth=None,\n",
       "              max_leaves=None, min_child_weight=None, missing=nan,\n",
       "              monotone_constraints=None, multi_strategy=None, n_estimators=None,\n",
       "              n_jobs=None, num_parallel_tree=None, random_state=None, ...)>"
      ]
     },
     "execution_count": 17,
     "metadata": {},
     "output_type": "execute_result"
    }
   ],
   "source": [
    "xgb_base.get_params"
   ]
  },
  {
   "cell_type": "code",
   "execution_count": 18,
   "metadata": {},
   "outputs": [
    {
     "name": "stdout",
     "output_type": "stream",
     "text": [
      "Probabilities prediction of 'Is Laundering':\n",
      " [9.7360328e-02 1.6721950e-05 6.7091710e-03 ... 3.4099564e-02 3.6575079e-02\n",
      " 8.7480970e-05]\n"
     ]
    },
    {
     "data": {
      "text/plain": [
       "<Figure size 400x400 with 0 Axes>"
      ]
     },
     "metadata": {},
     "output_type": "display_data"
    },
    {
     "data": {
      "image/png": "[encoded data removed]",
      "text/plain": [
       "<Figure size 640x480 with 1 Axes>"
      ]
     },
     "metadata": {},
     "output_type": "display_data"
    }
   ],
   "source": [
    "# Predict the probabilities for the test set\n",
    "test_probabilities = xgb_base.predict_proba(X_test)[:, 1]\n",
    "print(f\"Probabilities prediction of 'Is Laundering':\\n {test_probabilities}\")\n",
    "\n",
    "# Compute the ROC curve and AUC\n",
    "fpr, tpr, thresholds = roc_curve(y_test, test_probabilities)\n",
    "roc_auc = auc(fpr, tpr)\n",
    "\n",
    "# Plot the ROC curve\n",
    "plt.figure(figsize=(4,4))\n",
    "RocCurveDisplay(fpr=fpr, tpr=tpr, roc_auc=roc_auc, estimator_name='XGBClassifier').plot()\n",
    "plt.plot([0, 1], [0, 1], color='red', lw=2, linestyle='--')\n",
    "plt.title('ROC Curve')\n",
    "plt.show()"
   ]
  },
  {
   "cell_type": "code",
   "execution_count": 19,
   "metadata": {},
   "outputs": [
    {
     "name": "stdout",
     "output_type": "stream",
     "text": [
      "Closet threshold to get Desired TPR of around 88.0%: 0.0020557264797389507\n",
      "False Positive Rate (FPR): 0.140\n",
      "True Positive Rate (TPR): 0.846\n"
     ]
    },
    {
     "data": {
      "image/png": "[encoded data removed]",
      "text/plain": [
       "<Figure size 640x480 with 2 Axes>"
      ]
     },
     "metadata": {},
     "output_type": "display_data"
    },
    {
     "name": "stdout",
     "output_type": "stream",
     "text": [
      "Classification report: \n",
      "               precision    recall  f1-score   support\n",
      "\n",
      "         0.0       1.00      0.86      0.92      9987\n",
      "         1.0       0.01      0.85      0.02        13\n",
      "\n",
      "    accuracy                           0.86     10000\n",
      "   macro avg       0.50      0.85      0.47     10000\n",
      "weighted avg       1.00      0.86      0.92     10000\n",
      "\n"
     ]
    }
   ],
   "source": [
    "# Compute the True Positive Rate (tPR) and False Positive Rate (FPR) for a specific threshold value\n",
    "desired_tpr = 0.88\n",
    "closest_threshold = thresholds[np.argmin(np.abs(tpr - desired_tpr))]\n",
    "print(f\"Closet threshold to get Desired TPR of around {desired_tpr*100}%: {closest_threshold}\")\n",
    "\n",
    "y_pred = (test_probabilities >= closest_threshold).astype(int)\n",
    "tn, fp, fn, tp = confusion_matrix(y_test, y_pred).ravel()\n",
    "\n",
    "fpr_cm = fp / (fp + tn)\n",
    "tpr_cm = tp / (tp + fn)\n",
    "print(f\"False Positive Rate (FPR): {fpr_cm:.3f}\")\n",
    "print(f\"True Positive Rate (TPR): {tpr_cm:.3f}\")\n",
    "\n",
    "disp = ConfusionMatrixDisplay.from_predictions(y_test, y_pred, cmap=\"Blues\")\n",
    "plt.show()\n",
    "\n",
    "print(f\"Classification report: \\n {classification_report(y_test, y_pred)}\")"
   ]
  },
  {
   "cell_type": "markdown",
   "metadata": {},
   "source": [
    "#### Oversamplig the data and cross validating by using different models\n"
   ]
  },
  {
   "cell_type": "code",
   "execution_count": 20,
   "metadata": {},
   "outputs": [],
   "source": [
    "\"\"\"  Imbalance dataset - upsampling \"\"\"\n",
    "def upsampling_data(X, y):\n",
    "    sm = SMOTE(sampling_strategy='auto', random_state=42)\n",
    "    X_sm, y_sm = sm.fit_resample(X, y)   \n",
    "    print(f\"\\n====== Upsampled the minority class data ======\") \n",
    "    print(\"Before SMOTE: \", Counter(y))\n",
    "    print(\"After SMOTE: \", Counter(y_sm))\n",
    "    return X_sm, y_sm\n",
    "\n",
    "\n",
    "\"\"\" Evaluating Models \"\"\"\n",
    "def model_evaluation(model, X, y, num_procs):\n",
    "    # parallel cross-validate models\n",
    "    print(\"\\n===================== Beginning cross validation ========================== \")\n",
    "    # Define cross-validation method\n",
    "    cv = StratifiedKFold(n_splits=10, shuffle=True, random_state=42)\n",
    "    # Define metrics\n",
    "    metrics = {\n",
    "        'Precision': make_scorer(precision_score, average='weighted'),\n",
    "        'Recall': make_scorer(recall_score, average='weighted'),\n",
    "        'F1 score': make_scorer(f1_score, average='weighted')\n",
    "    }\n",
    "    # Perform cross-validation and evaluate using different metrics\n",
    "    metrics_results = {}\n",
    "    for name, metric in metrics.items():\n",
    "        scores = cross_val_score(model, X, y, cv=cv, scoring=metric).mean()\n",
    "        metrics_results[name] = scores\n",
    "    return metrics_results\n",
    "\n",
    "\n",
    "\"\"\" Calculate Metrics \"\"\"\n",
    "def model_metrics(y_test, y_pred):    \n",
    "    precision = precision_score(y_test, y_pred, average='weighted')\n",
    "    recall = recall_score(y_test, y_pred, average='weighted')\n",
    "    f1 = f1_score(y_test, y_pred, average='weighted')\n",
    "    # Compute confusion matrix\n",
    "    cm = confusion_matrix(y_test, y_pred) \n",
    "    return precision, recall, f1, cm"
   ]
  },
  {
   "cell_type": "markdown",
   "metadata": {},
   "source": [
    "##### Models evaluation "
   ]
  },
  {
   "cell_type": "code",
   "execution_count": 21,
   "metadata": {},
   "outputs": [
    {
     "name": "stdout",
     "output_type": "stream",
     "text": [
      "\n",
      "Model: \n",
      " XGBClassifier(base_score=None, booster=None, callbacks=None,\n",
      "              colsample_bylevel=None, colsample_bynode=None,\n",
      "              colsample_bytree=None, device=None, early_stopping_rounds=None,\n",
      "              enable_categorical=False, eval_metric='logloss',\n",
      "              feature_types=None, gamma=None, grow_policy=None,\n",
      "              importance_type=None, interaction_constraints=None,\n",
      "              learning_rate=None, max_bin=None, max_cat_threshold=None,\n",
      "              max_cat_to_onehot=None, max_delta_step=None, max_depth=None,\n",
      "              max_leaves=None, min_child_weight=None, missing=nan,\n",
      "              monotone_constraints=None, multi_strategy=None, n_estimators=None,\n",
      "              n_jobs=None, num_parallel_tree=None, random_state=42, ...)\n",
      "\n",
      "====== Upsampled the minority class data ======\n",
      "Before SMOTE:  Counter({0.0: 39959, 1.0: 41})\n",
      "After SMOTE:  Counter({0.0: 39959, 1.0: 39959})\n",
      "\n",
      "===================== Beginning cross validation ========================== \n",
      "==== Model evaluation results on train data via cross-validation ====\n",
      "Precision --> 0.9987635718944874\n",
      "Recall --> 0.9987612393397025\n",
      "F1 score --> 0.9987612377009606\n",
      "\n",
      "==== Model evaluation results on test data ====\n",
      "Precision --> 0.9975109242098664\n",
      "Recall --> 0.9917\n",
      "F1 score --> 0.9945682934825951\n"
     ]
    },
    {
     "data": {
      "image/png": "[encoded data removed]",
      "text/plain": [
       "<Figure size 400x300 with 2 Axes>"
      ]
     },
     "metadata": {},
     "output_type": "display_data"
    },
    {
     "name": "stdout",
     "output_type": "stream",
     "text": [
      "==================================================================================\n",
      "\n",
      "\n",
      "Model: \n",
      " RandomForestClassifier(random_state=42)\n",
      "\n",
      "====== Upsampled the minority class data ======\n",
      "Before SMOTE:  Counter({0.0: 39959, 1.0: 41})\n",
      "After SMOTE:  Counter({0.0: 39959, 1.0: 39959})\n",
      "\n",
      "===================== Beginning cross validation ========================== \n",
      "==== Model evaluation results on train data via cross-validation ====\n",
      "Precision --> 0.9993123321924747\n",
      "Recall --> 0.9993118039826838\n",
      "F1 score --> 0.9993118037385923\n",
      "\n",
      "==== Model evaluation results on test data ====\n",
      "Precision --> 0.9975528434910451\n",
      "Recall --> 0.9965\n",
      "F1 score --> 0.9970193059863451\n"
     ]
    },
    {
     "data": {
      "image/png": "[encoded data removed]",
      "text/plain": [
       "<Figure size 400x300 with 2 Axes>"
      ]
     },
     "metadata": {},
     "output_type": "display_data"
    },
    {
     "name": "stdout",
     "output_type": "stream",
     "text": [
      "==================================================================================\n",
      "\n",
      "\n",
      "Model: \n",
      " ExtraTreesClassifier(random_state=42)\n",
      "\n",
      "====== Upsampled the minority class data ======\n",
      "Before SMOTE:  Counter({0.0: 39959, 1.0: 41})\n",
      "After SMOTE:  Counter({0.0: 39959, 1.0: 39959})\n",
      "\n",
      "===================== Beginning cross validation ========================== \n",
      "==== Model evaluation results on train data via cross-validation ====\n",
      "Precision --> 0.9994625652794161\n",
      "Recall --> 0.9994619556986596\n",
      "F1 score --> 0.9994619554434012\n",
      "\n",
      "==== Model evaluation results on test data ====\n",
      "Precision --> 0.9976389777654262\n",
      "Recall --> 0.9932\n",
      "F1 score --> 0.9953643739685089\n"
     ]
    },
    {
     "data": {
      "image/png": "[encoded data removed]",
      "text/plain": [
       "<Figure size 400x300 with 2 Axes>"
      ]
     },
     "metadata": {},
     "output_type": "display_data"
    },
    {
     "name": "stdout",
     "output_type": "stream",
     "text": [
      "==================================================================================\n",
      "\n",
      "\n",
      "Metrics based on cross validating on Train data:\n"
     ]
    },
    {
     "data": {
      "text/html": [
       "<div>\n",
       "<style scoped>\n",
       "    .dataframe tbody tr th:only-of-type {\n",
       "        vertical-align: middle;\n",
       "    }\n",
       "\n",
       "    .dataframe tbody tr th {\n",
       "        vertical-align: top;\n",
       "    }\n",
       "\n",
       "    .dataframe thead th {\n",
       "        text-align: right;\n",
       "    }\n",
       "</style>\n",
       "<table border=\"1\" class=\"dataframe\">\n",
       "  <thead>\n",
       "    <tr style=\"text-align: right;\">\n",
       "      <th></th>\n",
       "      <th>Model</th>\n",
       "      <th>Precision</th>\n",
       "      <th>Recall</th>\n",
       "      <th>F1 score</th>\n",
       "    </tr>\n",
       "  </thead>\n",
       "  <tbody>\n",
       "    <tr>\n",
       "      <th>0</th>\n",
       "      <td>XGBClassifier</td>\n",
       "      <td>0.998764</td>\n",
       "      <td>0.998761</td>\n",
       "      <td>0.998761</td>\n",
       "    </tr>\n",
       "    <tr>\n",
       "      <th>1</th>\n",
       "      <td>RandomForestClassifier</td>\n",
       "      <td>0.999312</td>\n",
       "      <td>0.999312</td>\n",
       "      <td>0.999312</td>\n",
       "    </tr>\n",
       "    <tr>\n",
       "      <th>2</th>\n",
       "      <td>ExtraTreesClassifier</td>\n",
       "      <td>0.999463</td>\n",
       "      <td>0.999462</td>\n",
       "      <td>0.999462</td>\n",
       "    </tr>\n",
       "  </tbody>\n",
       "</table>\n",
       "</div>"
      ],
      "text/plain": [
       "                    Model  Precision    Recall  F1 score\n",
       "0           XGBClassifier   0.998764  0.998761  0.998761\n",
       "1  RandomForestClassifier   0.999312  0.999312  0.999312\n",
       "2    ExtraTreesClassifier   0.999463  0.999462  0.999462"
      ]
     },
     "metadata": {},
     "output_type": "display_data"
    },
    {
     "name": "stdout",
     "output_type": "stream",
     "text": [
      "\n",
      "Metrics based on Test data:\n"
     ]
    },
    {
     "data": {
      "text/html": [
       "<div>\n",
       "<style scoped>\n",
       "    .dataframe tbody tr th:only-of-type {\n",
       "        vertical-align: middle;\n",
       "    }\n",
       "\n",
       "    .dataframe tbody tr th {\n",
       "        vertical-align: top;\n",
       "    }\n",
       "\n",
       "    .dataframe thead th {\n",
       "        text-align: right;\n",
       "    }\n",
       "</style>\n",
       "<table border=\"1\" class=\"dataframe\">\n",
       "  <thead>\n",
       "    <tr style=\"text-align: right;\">\n",
       "      <th></th>\n",
       "      <th>Model</th>\n",
       "      <th>Precision</th>\n",
       "      <th>Recall</th>\n",
       "      <th>F1 score</th>\n",
       "    </tr>\n",
       "  </thead>\n",
       "  <tbody>\n",
       "    <tr>\n",
       "      <th>0</th>\n",
       "      <td>XGBClassifier</td>\n",
       "      <td>0.997511</td>\n",
       "      <td>0.9917</td>\n",
       "      <td>0.994568</td>\n",
       "    </tr>\n",
       "    <tr>\n",
       "      <th>1</th>\n",
       "      <td>RandomForestClassifier</td>\n",
       "      <td>0.997553</td>\n",
       "      <td>0.9965</td>\n",
       "      <td>0.997019</td>\n",
       "    </tr>\n",
       "    <tr>\n",
       "      <th>2</th>\n",
       "      <td>ExtraTreesClassifier</td>\n",
       "      <td>0.997639</td>\n",
       "      <td>0.9932</td>\n",
       "      <td>0.995364</td>\n",
       "    </tr>\n",
       "  </tbody>\n",
       "</table>\n",
       "</div>"
      ],
      "text/plain": [
       "                    Model  Precision  Recall  F1 score\n",
       "0           XGBClassifier   0.997511  0.9917  0.994568\n",
       "1  RandomForestClassifier   0.997553  0.9965  0.997019\n",
       "2    ExtraTreesClassifier   0.997639  0.9932  0.995364"
      ]
     },
     "metadata": {},
     "output_type": "display_data"
    }
   ],
   "source": [
    "\"\"\"\n",
    "    Evaluating Models\n",
    "    - XGBClassifier()\n",
    "    - RandomForestClassifier()\n",
    "    - ExtraTreesClassifier()\n",
    "\"\"\"\n",
    "# intialize the model list and dicts\n",
    "models = []\n",
    "mean_score = {}\n",
    "std_dev = {}\n",
    "\n",
    "\n",
    "# define number of processes to run in parallel\n",
    "num_procs = -1\n",
    "\n",
    "# shared model parameters\n",
    "verbose_lvl = 0\n",
    "\n",
    "# Initialize the classifiers\n",
    "models = {\n",
    "    'XGBClassifier': XGBClassifier(eval_metric='logloss', random_state=42),\n",
    "    'RandomForestClassifier': RandomForestClassifier(n_estimators=100, random_state=42),\n",
    "    'ExtraTreesClassifier': ExtraTreesClassifier(n_estimators=100, random_state=42)\n",
    "}\n",
    "\n",
    "# Store performance metrics\n",
    "results_based_Train_data_cv = []\n",
    "results_based_Test_data = []\n",
    "\n",
    "\n",
    "for model_name, model in models.items():\n",
    "    print(\"\\nModel: \\n\", model)\n",
    "    # Upsampling train data\n",
    "    X_train_, y_train_ = upsampling_data(X_train, y_train)\n",
    "\n",
    "    # Models evaluation on Training Data\n",
    "    cv_scores = model_evaluation(model, X_train_, y_train_, num_procs)\n",
    "    temp_dict = {\"Model\" : model_name}\n",
    "    temp_dict.update(cv_scores)\n",
    "    results_based_Train_data_cv.append(temp_dict)\n",
    "    print(\"==== Model evaluation results on train data via cross-validation ====\")\n",
    "    for metric_name, scores in cv_scores.items():\n",
    "        print(f\"{metric_name} --> {scores}\")\n",
    "   \n",
    "    # Models training on Train data \n",
    "    model.fit(X_train_, y_train_)\n",
    "\n",
    "    # Prediction on Test data using trained model\n",
    "    y_pred = model.predict(X_test)\n",
    "\n",
    "    # Calculate evaluation metrics on Test data\n",
    "    precision, recall, f1, cm = model_metrics(y_test, y_pred)\n",
    "    print(\"\\n==== Model evaluation results on test data ====\")\n",
    "    print(f\"Precision --> {precision}\")\n",
    "    print(f\"Recall --> {recall}\")\n",
    "    print(f\"F1 score --> {f1}\")\n",
    "    # Plot confusion matrix\n",
    "    plt.figure(figsize=(4,3))\n",
    "    sns.heatmap(cm, annot=True, fmt=\"d\", cmap=\"Blues\")\n",
    "    plt.xlabel('Predicted Label')\n",
    "    plt.ylabel('True Label')\n",
    "    plt.title(f\"{model_name}\")\n",
    "    plt.show() \n",
    "\n",
    "    results_based_Test_data.append({\n",
    "        \"Model\" : model_name,\n",
    "        \"Precision\" : precision,\n",
    "        \"Recall\" : recall,\n",
    "        \"F1 score\": f1\n",
    "    })\n",
    "\n",
    "\n",
    "    print(\"==================================================================================\\n\")\n",
    "\n",
    "print(f\"\\nMetrics based on cross validating on Train data:\")\n",
    "display(pd.DataFrame(results_based_Train_data_cv))\n",
    "print(f\"\\nMetrics based on Test data:\")\n",
    "display(pd.DataFrame(results_based_Test_data))"
   ]
  },
  {
   "cell_type": "markdown",
   "metadata": {},
   "source": [
    "#### Choosing the XGBoost Model as our Final Model"
   ]
  },
  {
   "cell_type": "code",
   "execution_count": 22,
   "metadata": {},
   "outputs": [],
   "source": [
    "\n",
    "# # Upsampling train data\n",
    "# X_train_, y_train_ = upsampling_data(X_train, y_train)\n",
    "\n",
    "# # Initialize the XGBClassifier\n",
    "# xgb_base = XGBClassifier(eval_metric='logloss')\n",
    "# # Models training on Train data \n",
    "# xgb_base.fit(X_train_, y_train_)\n",
    "\n",
    "# # Prediction on Test data using trained model\n",
    "# y_pred = xgb_base.predict(X_test)\n",
    "\n",
    "# # Calculate evaluation metrics on Test data\n",
    "# precision, recall, f1 = model_metrics(y_test, y_pred)"
   ]
  },
  {
   "cell_type": "code",
   "execution_count": null,
   "metadata": {},
   "outputs": [],
   "source": []
  }
 ],
 "metadata": {
  "kernelspec": {
   "display_name": "Python 3",
   "language": "python",
   "name": "python3"
  },
  "language_info": {
   "codemirror_mode": {
    "name": "ipython",
    "version": 3
   },
   "file_extension": ".py",
   "mimetype": "text/x-python",
   "name": "python",
   "nbconvert_exporter": "python",
   "pygments_lexer": "ipython3",
   "version": "3.8.0"
  }
 },
 "nbformat": 4,
 "nbformat_minor": 2
}
