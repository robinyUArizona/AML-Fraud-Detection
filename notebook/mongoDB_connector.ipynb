{
 "cells": [
  {
   "cell_type": "code",
   "execution_count": 48,
   "metadata": {},
   "outputs": [],
   "source": [
    "import pandas as pd"
   ]
  },
  {
   "cell_type": "code",
   "execution_count": 49,
   "metadata": {},
   "outputs": [
    {
     "name": "stdout",
     "output_type": "stream",
     "text": [
      "c:\\Users\\yrobi\\Desktop\\Robin World\\Data Science - Machine Learning Prep\\01 - MLOps\\AML-Fraud-Detection\\notebook\n",
      "c:\\Users\\yrobi\\Desktop\\Robin World\\Data Science - Machine Learning Prep\\01 - MLOps\\AML-Fraud-Detection\\notebook\\data\n",
      "c:\\Users\\yrobi\\Desktop\\Robin World\\Data Science - Machine Learning Prep\\01 - MLOps\\AML-Fraud-Detection\\notebook\\data\\HI-Small_Trans.csv\n"
     ]
    }
   ],
   "source": [
    "import os\n",
    "# Get the current working directory\n",
    "cwd = os.getcwd()\n",
    "print(cwd)\n",
    "\n",
    "# Navigate to the data folder\n",
    "data_folder = os.path.abspath(os.path.join(cwd, \"data\"))\n",
    "print(data_folder)\n",
    "\n",
    "csv_file = os.path.join(data_folder, \"HI-Small_Trans.csv\")\n",
    "print(csv_file)"
   ]
  },
  {
   "cell_type": "code",
   "execution_count": 50,
   "metadata": {},
   "outputs": [
    {
     "name": "stdout",
     "output_type": "stream",
     "text": [
      "Shape of data:  \n",
      " No. of records: 50000 \n",
      " No. features: 11\n",
      "<class 'pandas.core.frame.DataFrame'>\n",
      "Index: 50000 entries, 3507139 to 3159372\n",
      "Data columns (total 11 columns):\n",
      " #   Column              Non-Null Count  Dtype  \n",
      "---  ------              --------------  -----  \n",
      " 0   Timestamp           50000 non-null  object \n",
      " 1   From Bank           50000 non-null  int64  \n",
      " 2   Account             50000 non-null  object \n",
      " 3   To Bank             50000 non-null  int64  \n",
      " 4   Account.1           50000 non-null  object \n",
      " 5   Amount Received     50000 non-null  float64\n",
      " 6   Receiving Currency  50000 non-null  object \n",
      " 7   Amount Paid         50000 non-null  float64\n",
      " 8   Payment Currency    50000 non-null  object \n",
      " 9   Payment Format      50000 non-null  object \n",
      " 10  Is Laundering       50000 non-null  int64  \n",
      "dtypes: float64(2), int64(3), object(6)\n",
      "memory usage: 4.6+ MB\n",
      "Data Information: \n",
      "None\n"
     ]
    }
   ],
   "source": [
    "# Load the CSV file into a pandas DataFrame\n",
    "aml_trans_df = pd.read_csv(csv_file)\n",
    "# Take small sample of data from the original data\n",
    "aml_trans_sm_df = aml_trans_df.sample(n=50000, random_state=6)\n",
    "print(f\"Shape of data:  \\n No. of records: {aml_trans_sm_df.shape[0]} \\n No. features: {aml_trans_sm_df.shape[1]}\")\n",
    "print(f\"Data Information: \\n{aml_trans_sm_df.info()}\")"
   ]
  },
  {
   "cell_type": "code",
   "execution_count": 51,
   "metadata": {},
   "outputs": [
    {
     "data": {
      "text/plain": [
       "Index(['Timestamp', 'From Bank', 'Account', 'To Bank', 'Account.1',\n",
       "       'Amount Received', 'Receiving Currency', 'Amount Paid',\n",
       "       'Payment Currency', 'Payment Format', 'Is Laundering'],\n",
       "      dtype='object')"
      ]
     },
     "execution_count": 51,
     "metadata": {},
     "output_type": "execute_result"
    }
   ],
   "source": [
    "aml_trans_sm_df.columns"
   ]
  },
  {
   "cell_type": "code",
   "execution_count": 52,
   "metadata": {},
   "outputs": [
    {
     "data": {
      "text/plain": [
       "Index(['timestamp', 'from_bank', 'account', 'to_bank', 'account_1',\n",
       "       'amount_received', 'receiving_currency', 'amount_paid',\n",
       "       'payment_currency', 'payment_format', 'is_laundering'],\n",
       "      dtype='object')"
      ]
     },
     "execution_count": 52,
     "metadata": {},
     "output_type": "execute_result"
    }
   ],
   "source": [
    "aml_trans_sm_df.columns = aml_trans_sm_df.columns.str.lower().str.replace(' ', '_').str.replace('.', '_')\n",
    "aml_trans_sm_df.columns "
   ]
  },
  {
   "cell_type": "code",
   "execution_count": 53,
   "metadata": {},
   "outputs": [],
   "source": [
    "data = aml_trans_sm_df.to_dict(orient=\"records\")\n",
    "# data"
   ]
  },
  {
   "cell_type": "code",
   "execution_count": 54,
   "metadata": {},
   "outputs": [
    {
     "name": "stdout",
     "output_type": "stream",
     "text": [
      "Pinged your deployment. You successfully connected to MongoDB!\n",
      "Connected to database: DB_aml_fraud_detector\n",
      "Connected to collection: collection_aml_fraud_detector\n",
      "Document inserted successfully.\n"
     ]
    }
   ],
   "source": [
    "import pymongo\n",
    "\n",
    "from notebook.key_string import mongoDB_connect_str\n",
    "connection_string = mongoDB_connect_str\n",
    "\n",
    "try:\n",
    "    # Establish connection to MongoDB\n",
    "    client = pymongo.MongoClient(connection_string)\n",
    "    client.admin.command('ping')\n",
    "    print(\"Pinged your deployment. You successfully connected to MongoDB!\")\n",
    "\n",
    "    # Create or connect to the database\n",
    "    db_name = \"DB_aml_fraud_detector\"                      \n",
    "    db = client[db_name]\n",
    "    print(f\"Connected to database: {db_name}\")\n",
    "    \n",
    "    # Create or connect to the collection\n",
    "    collection_name = \"collection_aml_fraud_detector\"\n",
    "    collection = db[collection_name]\n",
    "    print(f\"Connected to collection: {collection_name}\")\n",
    "    \n",
    "    # Inserting all records (data)\n",
    "    collection.insert_many(data)\n",
    "    print(\"Document inserted successfully.\")\n",
    "    \n",
    "except Exception as e:\n",
    "    print(e)\n",
    "\n",
    "# finally:\n",
    "#     # Close the connection\n",
    "#     client.close()"
   ]
  },
  {
   "cell_type": "code",
   "execution_count": 55,
   "metadata": {},
   "outputs": [
    {
     "data": {
      "text/plain": [
       "<pymongo.cursor.Cursor at 0x183047bdcd0>"
      ]
     },
     "execution_count": 55,
     "metadata": {},
     "output_type": "execute_result"
    }
   ],
   "source": [
    "records = collection.find().limit(5)\n",
    "records"
   ]
  },
  {
   "cell_type": "code",
   "execution_count": 56,
   "metadata": {},
   "outputs": [
    {
     "name": "stdout",
     "output_type": "stream",
     "text": [
      "0: {'_id': ObjectId('66e1e8d928d0ab00e07b850a'), 'timestamp': '2022/09/07 12:15', 'from_bank': 29, 'account': '80CF063F0', 'to_bank': 235843, 'account_1': '80CFE1EB0', 'amount_received': 386006.86, 'receiving_currency': 'Brazil Real', 'amount_paid': 386006.86, 'payment_currency': 'Brazil Real', 'payment_format': 'Cheque', 'is_laundering': 0}\n",
      "1: {'_id': ObjectId('66e1e8d928d0ab00e07b850b'), 'timestamp': '2022/09/03 21:15', 'from_bank': 70, 'account': '100428660', 'to_bank': 22732, 'account_1': '80BFEBFF0', 'amount_received': 8638.95, 'receiving_currency': 'US Dollar', 'amount_paid': 8638.95, 'payment_currency': 'US Dollar', 'payment_format': 'Cheque', 'is_laundering': 0}\n",
      "2: {'_id': ObjectId('66e1e8d928d0ab00e07b850c'), 'timestamp': '2022/09/09 19:22', 'from_bank': 338871, 'account': '8144F97F0', 'to_bank': 15964, 'account_1': '8144FEB20', 'amount_received': 80.84, 'receiving_currency': 'Euro', 'amount_paid': 80.84, 'payment_currency': 'Euro', 'payment_format': 'Credit Card', 'is_laundering': 0}\n",
      "3: {'_id': ObjectId('66e1e8d928d0ab00e07b850d'), 'timestamp': '2022/09/03 14:11', 'from_bank': 70, 'account': '1004286A8', 'to_bank': 1502, 'account_1': '812191060', 'amount_received': 46480.59, 'receiving_currency': 'Euro', 'amount_paid': 46480.59, 'payment_currency': 'Euro', 'payment_format': 'Cheque', 'is_laundering': 0}\n",
      "4: {'_id': ObjectId('66e1e8d928d0ab00e07b850e'), 'timestamp': '2022/09/01 14:46', 'from_bank': 1, 'account': '803A2CC10', 'to_bank': 130342, 'account_1': '80C982930', 'amount_received': 118.46, 'receiving_currency': 'US Dollar', 'amount_paid': 118.46, 'payment_currency': 'US Dollar', 'payment_format': 'Cheque', 'is_laundering': 0}\n"
     ]
    }
   ],
   "source": [
    "for i, j in enumerate(records):\n",
    "    print(f\"{i}: {j}\")"
   ]
  },
  {
   "cell_type": "code",
   "execution_count": 57,
   "metadata": {},
   "outputs": [
    {
     "data": {
      "text/html": [
       "<div>\n",
       "<style scoped>\n",
       "    .dataframe tbody tr th:only-of-type {\n",
       "        vertical-align: middle;\n",
       "    }\n",
       "\n",
       "    .dataframe tbody tr th {\n",
       "        vertical-align: top;\n",
       "    }\n",
       "\n",
       "    .dataframe thead th {\n",
       "        text-align: right;\n",
       "    }\n",
       "</style>\n",
       "<table border=\"1\" class=\"dataframe\">\n",
       "  <thead>\n",
       "    <tr style=\"text-align: right;\">\n",
       "      <th></th>\n",
       "      <th>_id</th>\n",
       "      <th>timestamp</th>\n",
       "      <th>from_bank</th>\n",
       "      <th>account</th>\n",
       "      <th>to_bank</th>\n",
       "      <th>account_1</th>\n",
       "      <th>amount_received</th>\n",
       "      <th>receiving_currency</th>\n",
       "      <th>amount_paid</th>\n",
       "      <th>payment_currency</th>\n",
       "      <th>payment_format</th>\n",
       "      <th>is_laundering</th>\n",
       "    </tr>\n",
       "  </thead>\n",
       "  <tbody>\n",
       "    <tr>\n",
       "      <th>0</th>\n",
       "      <td>66e1e8d928d0ab00e07b850a</td>\n",
       "      <td>2022/09/07 12:15</td>\n",
       "      <td>29</td>\n",
       "      <td>80CF063F0</td>\n",
       "      <td>235843</td>\n",
       "      <td>80CFE1EB0</td>\n",
       "      <td>386006.86</td>\n",
       "      <td>Brazil Real</td>\n",
       "      <td>386006.86</td>\n",
       "      <td>Brazil Real</td>\n",
       "      <td>Cheque</td>\n",
       "      <td>0</td>\n",
       "    </tr>\n",
       "    <tr>\n",
       "      <th>1</th>\n",
       "      <td>66e1e8d928d0ab00e07b850b</td>\n",
       "      <td>2022/09/03 21:15</td>\n",
       "      <td>70</td>\n",
       "      <td>100428660</td>\n",
       "      <td>22732</td>\n",
       "      <td>80BFEBFF0</td>\n",
       "      <td>8638.95</td>\n",
       "      <td>US Dollar</td>\n",
       "      <td>8638.95</td>\n",
       "      <td>US Dollar</td>\n",
       "      <td>Cheque</td>\n",
       "      <td>0</td>\n",
       "    </tr>\n",
       "    <tr>\n",
       "      <th>2</th>\n",
       "      <td>66e1e8d928d0ab00e07b850c</td>\n",
       "      <td>2022/09/09 19:22</td>\n",
       "      <td>338871</td>\n",
       "      <td>8144F97F0</td>\n",
       "      <td>15964</td>\n",
       "      <td>8144FEB20</td>\n",
       "      <td>80.84</td>\n",
       "      <td>Euro</td>\n",
       "      <td>80.84</td>\n",
       "      <td>Euro</td>\n",
       "      <td>Credit Card</td>\n",
       "      <td>0</td>\n",
       "    </tr>\n",
       "    <tr>\n",
       "      <th>3</th>\n",
       "      <td>66e1e8d928d0ab00e07b850d</td>\n",
       "      <td>2022/09/03 14:11</td>\n",
       "      <td>70</td>\n",
       "      <td>1004286A8</td>\n",
       "      <td>1502</td>\n",
       "      <td>812191060</td>\n",
       "      <td>46480.59</td>\n",
       "      <td>Euro</td>\n",
       "      <td>46480.59</td>\n",
       "      <td>Euro</td>\n",
       "      <td>Cheque</td>\n",
       "      <td>0</td>\n",
       "    </tr>\n",
       "    <tr>\n",
       "      <th>4</th>\n",
       "      <td>66e1e8d928d0ab00e07b850e</td>\n",
       "      <td>2022/09/01 14:46</td>\n",
       "      <td>1</td>\n",
       "      <td>803A2CC10</td>\n",
       "      <td>130342</td>\n",
       "      <td>80C982930</td>\n",
       "      <td>118.46</td>\n",
       "      <td>US Dollar</td>\n",
       "      <td>118.46</td>\n",
       "      <td>US Dollar</td>\n",
       "      <td>Cheque</td>\n",
       "      <td>0</td>\n",
       "    </tr>\n",
       "  </tbody>\n",
       "</table>\n",
       "</div>"
      ],
      "text/plain": [
       "                        _id         timestamp  from_bank    account  to_bank  \\\n",
       "0  66e1e8d928d0ab00e07b850a  2022/09/07 12:15         29  80CF063F0   235843   \n",
       "1  66e1e8d928d0ab00e07b850b  2022/09/03 21:15         70  100428660    22732   \n",
       "2  66e1e8d928d0ab00e07b850c  2022/09/09 19:22     338871  8144F97F0    15964   \n",
       "3  66e1e8d928d0ab00e07b850d  2022/09/03 14:11         70  1004286A8     1502   \n",
       "4  66e1e8d928d0ab00e07b850e  2022/09/01 14:46          1  803A2CC10   130342   \n",
       "\n",
       "   account_1  amount_received receiving_currency  amount_paid  \\\n",
       "0  80CFE1EB0        386006.86        Brazil Real    386006.86   \n",
       "1  80BFEBFF0          8638.95          US Dollar      8638.95   \n",
       "2  8144FEB20            80.84               Euro        80.84   \n",
       "3  812191060         46480.59               Euro     46480.59   \n",
       "4  80C982930           118.46          US Dollar       118.46   \n",
       "\n",
       "  payment_currency payment_format  is_laundering  \n",
       "0      Brazil Real         Cheque              0  \n",
       "1        US Dollar         Cheque              0  \n",
       "2             Euro    Credit Card              0  \n",
       "3             Euro         Cheque              0  \n",
       "4        US Dollar         Cheque              0  "
      ]
     },
     "execution_count": 57,
     "metadata": {},
     "output_type": "execute_result"
    }
   ],
   "source": [
    "df = pd.DataFrame(list(collection.find()))\n",
    "df.head()"
   ]
  },
  {
   "cell_type": "code",
   "execution_count": null,
   "metadata": {},
   "outputs": [],
   "source": []
  }
 ],
 "metadata": {
  "kernelspec": {
   "display_name": "Python 3",
   "language": "python",
   "name": "python3"
  },
  "language_info": {
   "codemirror_mode": {
    "name": "ipython",
    "version": 3
   },
   "file_extension": ".py",
   "mimetype": "text/x-python",
   "name": "python",
   "nbconvert_exporter": "python",
   "pygments_lexer": "ipython3",
   "version": "3.8.0"
  }
 },
 "nbformat": 4,
 "nbformat_minor": 2
}
