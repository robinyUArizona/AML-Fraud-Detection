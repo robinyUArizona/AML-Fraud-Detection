{
 "cells": [
  {
   "cell_type": "markdown",
   "metadata": {},
   "source": [
    "# Anti Money Laundering (AML) Fraud Detection\n",
    "\n",
    "\n",
    "        Life cycle of Machine Learning Project:\n",
    "\n",
    "            1. Understanding the Problem Statement\n",
    "\n",
    "            2. Data Collection\n",
    "\n",
    "            3. Data Checks to perform\n",
    "\n",
    "            4. Exploratory Data Analysis\n",
    "\n",
    "            5. Data Pre-Processing\n",
    "\n",
    "            6. Model Evaluation and Training\n",
    "\n",
    "            7. Choose Best Model\n"
   ]
  },
  {
   "cell_type": "markdown",
   "metadata": {},
   "source": [
    "## 1. Problem Statement\n",
    "\n",
    "Money laundering is a multi-billion dollar issue. Detection of laundering is very difficult. Most automated algorithms have a high false positive rate: legitimate transactions incorrectly flagged as laundering. The converse is also a major problem -- false negatives, i.e. undetected laundering transactions. Naturally, criminals work hard to cover their tracks.\n",
    "\n",
    "Access to real financial transaction data is highly restricted -- for both proprietary and privacy reasons. Even when access is possible, it is problematic to provide a correct tag (laundering or legitimate) to each transaction -- as noted above. This synthetic transaction data from IBM avoids these problems.\n",
    "\n",
    "The data provided here is based on a virtual world inhabited by individuals, companies, and banks."
   ]
  },
  {
   "cell_type": "markdown",
   "metadata": {},
   "source": [
    "## 2. Data Collection\n",
    "- Data source: https://www.kaggle.com/datasets/ealtman2019/ibm-transactions-for-anti-money-laundering-aml/data"
   ]
  },
  {
   "cell_type": "markdown",
   "metadata": {},
   "source": [
    "### 2.1 Import Required Packages"
   ]
  },
  {
   "cell_type": "code",
   "execution_count": 293,
   "metadata": {},
   "outputs": [],
   "source": [
    "# Import libraries\n",
    "import pandas as pd\n",
    "import numpy as np\n",
    "import matplotlib.pyplot as plt\n",
    "import seaborn as sns\n",
    "%matplotlib inline\n",
    "\n",
    "import warnings\n",
    "warnings.filterwarnings(\"ignore\")\n",
    "\n",
    "from sklearn.pipeline import make_pipeline\n",
    "from sklearn.impute import SimpleImputer\n",
    "from sklearn.preprocessing import RobustScaler, OrdinalEncoder\n",
    "from sklearn.compose import make_column_transformer\n",
    "\n",
    "from sklearn.model_selection import train_test_split\n",
    "\n",
    "from xgboost import XGBClassifier\n",
    "from sklearn.ensemble import RandomForestClassifier, ExtraTreesClassifier\n",
    "\n",
    "from collections import Counter\n",
    "from imblearn.over_sampling import SMOTE\n",
    "from sklearn.model_selection import cross_val_score, StratifiedKFold, KFold\n",
    "from sklearn.metrics import make_scorer, precision_score, recall_score, f1_score\n",
    "from sklearn.metrics import classification_report, confusion_matrix, auc, roc_curve\n",
    "from sklearn.metrics import ConfusionMatrixDisplay, RocCurveDisplay"
   ]
  },
  {
   "cell_type": "markdown",
   "metadata": {},
   "source": [
    "### 2.2 Import Data"
   ]
  },
  {
   "cell_type": "code",
   "execution_count": 294,
   "metadata": {},
   "outputs": [
    {
     "name": "stdout",
     "output_type": "stream",
     "text": [
      "c:\\Users\\yrobi\\Desktop\\Robin World\\Data Science - Machine Learning Prep\\01 - MLOps\\AML-Fraud-Detection\\notebook\n",
      "c:\\Users\\yrobi\\Desktop\\Robin World\\Data Science - Machine Learning Prep\\01 - MLOps\\AML-Fraud-Detection\\notebook\\data\n",
      "c:\\Users\\yrobi\\Desktop\\Robin World\\Data Science - Machine Learning Prep\\01 - MLOps\\AML-Fraud-Detection\\notebook\\data\\HI-Small_Trans.csv\n"
     ]
    }
   ],
   "source": [
    "import os\n",
    "# Get the current working directory\n",
    "cwd = os.getcwd()\n",
    "print(cwd)\n",
    "\n",
    "# Navigate to the data folder\n",
    "data_folder = os.path.abspath(os.path.join(cwd, \"data\"))\n",
    "print(data_folder)\n",
    "\n",
    "csv_file = os.path.join(data_folder, \"HI-Small_Trans.csv\")\n",
    "print(csv_file)"
   ]
  },
  {
   "cell_type": "code",
   "execution_count": 295,
   "metadata": {},
   "outputs": [
    {
     "name": "stdout",
     "output_type": "stream",
     "text": [
      "Shape of data:  \n",
      " No. of records: 5078345 \n",
      " No. features: 11\n"
     ]
    }
   ],
   "source": [
    "# Load the CSV file into a pandas DataFrame\n",
    "aml_trans_df = pd.read_csv(csv_file)\n",
    "# display(aml_trans_df.head())\n",
    "print(f\"Shape of data:  \\n No. of records: {aml_trans_df.shape[0]} \\n No. features: {aml_trans_df.shape[1]}\")"
   ]
  },
  {
   "cell_type": "code",
   "execution_count": 296,
   "metadata": {},
   "outputs": [
    {
     "name": "stdout",
     "output_type": "stream",
     "text": [
      "Shape of data:  \n",
      " No. of records: 50000 \n",
      " No. features: 11\n"
     ]
    }
   ],
   "source": [
    "# Take small sample of data from the original data\n",
    "aml_trans_sm_df = aml_trans_df.sample(n=50000, random_state=6)\n",
    "print(f\"Shape of data:  \\n No. of records: {aml_trans_sm_df.shape[0]} \\n No. features: {aml_trans_sm_df.shape[1]}\")"
   ]
  },
  {
   "cell_type": "markdown",
   "metadata": {},
   "source": [
    "#### Show Top 5 records"
   ]
  },
  {
   "cell_type": "code",
   "execution_count": 297,
   "metadata": {},
   "outputs": [
    {
     "data": {
      "text/html": [
       "<div>\n",
       "<style scoped>\n",
       "    .dataframe tbody tr th:only-of-type {\n",
       "        vertical-align: middle;\n",
       "    }\n",
       "\n",
       "    .dataframe tbody tr th {\n",
       "        vertical-align: top;\n",
       "    }\n",
       "\n",
       "    .dataframe thead th {\n",
       "        text-align: right;\n",
       "    }\n",
       "</style>\n",
       "<table border=\"1\" class=\"dataframe\">\n",
       "  <thead>\n",
       "    <tr style=\"text-align: right;\">\n",
       "      <th></th>\n",
       "      <th>Timestamp</th>\n",
       "      <th>From Bank</th>\n",
       "      <th>Account</th>\n",
       "      <th>To Bank</th>\n",
       "      <th>Account.1</th>\n",
       "      <th>Amount Received</th>\n",
       "      <th>Receiving Currency</th>\n",
       "      <th>Amount Paid</th>\n",
       "      <th>Payment Currency</th>\n",
       "      <th>Payment Format</th>\n",
       "      <th>Is Laundering</th>\n",
       "    </tr>\n",
       "  </thead>\n",
       "  <tbody>\n",
       "    <tr>\n",
       "      <th>3507139</th>\n",
       "      <td>2022/09/07 12:15</td>\n",
       "      <td>29</td>\n",
       "      <td>80CF063F0</td>\n",
       "      <td>235843</td>\n",
       "      <td>80CFE1EB0</td>\n",
       "      <td>386006.86</td>\n",
       "      <td>Brazil Real</td>\n",
       "      <td>386006.86</td>\n",
       "      <td>Brazil Real</td>\n",
       "      <td>Cheque</td>\n",
       "      <td>0</td>\n",
       "    </tr>\n",
       "    <tr>\n",
       "      <th>2054082</th>\n",
       "      <td>2022/09/03 21:15</td>\n",
       "      <td>70</td>\n",
       "      <td>100428660</td>\n",
       "      <td>22732</td>\n",
       "      <td>80BFEBFF0</td>\n",
       "      <td>8638.95</td>\n",
       "      <td>US Dollar</td>\n",
       "      <td>8638.95</td>\n",
       "      <td>US Dollar</td>\n",
       "      <td>Cheque</td>\n",
       "      <td>0</td>\n",
       "    </tr>\n",
       "    <tr>\n",
       "      <th>4745576</th>\n",
       "      <td>2022/09/09 19:22</td>\n",
       "      <td>338871</td>\n",
       "      <td>8144F97F0</td>\n",
       "      <td>15964</td>\n",
       "      <td>8144FEB20</td>\n",
       "      <td>80.84</td>\n",
       "      <td>Euro</td>\n",
       "      <td>80.84</td>\n",
       "      <td>Euro</td>\n",
       "      <td>Credit Card</td>\n",
       "      <td>0</td>\n",
       "    </tr>\n",
       "    <tr>\n",
       "      <th>1999193</th>\n",
       "      <td>2022/09/03 14:11</td>\n",
       "      <td>70</td>\n",
       "      <td>1004286A8</td>\n",
       "      <td>1502</td>\n",
       "      <td>812191060</td>\n",
       "      <td>46480.59</td>\n",
       "      <td>Euro</td>\n",
       "      <td>46480.59</td>\n",
       "      <td>Euro</td>\n",
       "      <td>Cheque</td>\n",
       "      <td>0</td>\n",
       "    </tr>\n",
       "    <tr>\n",
       "      <th>800550</th>\n",
       "      <td>2022/09/01 14:46</td>\n",
       "      <td>1</td>\n",
       "      <td>803A2CC10</td>\n",
       "      <td>130342</td>\n",
       "      <td>80C982930</td>\n",
       "      <td>118.46</td>\n",
       "      <td>US Dollar</td>\n",
       "      <td>118.46</td>\n",
       "      <td>US Dollar</td>\n",
       "      <td>Cheque</td>\n",
       "      <td>0</td>\n",
       "    </tr>\n",
       "  </tbody>\n",
       "</table>\n",
       "</div>"
      ],
      "text/plain": [
       "                Timestamp  From Bank    Account  To Bank  Account.1  \\\n",
       "3507139  2022/09/07 12:15         29  80CF063F0   235843  80CFE1EB0   \n",
       "2054082  2022/09/03 21:15         70  100428660    22732  80BFEBFF0   \n",
       "4745576  2022/09/09 19:22     338871  8144F97F0    15964  8144FEB20   \n",
       "1999193  2022/09/03 14:11         70  1004286A8     1502  812191060   \n",
       "800550   2022/09/01 14:46          1  803A2CC10   130342  80C982930   \n",
       "\n",
       "         Amount Received Receiving Currency  Amount Paid Payment Currency  \\\n",
       "3507139        386006.86        Brazil Real    386006.86      Brazil Real   \n",
       "2054082          8638.95          US Dollar      8638.95        US Dollar   \n",
       "4745576            80.84               Euro        80.84             Euro   \n",
       "1999193         46480.59               Euro     46480.59             Euro   \n",
       "800550            118.46          US Dollar       118.46        US Dollar   \n",
       "\n",
       "        Payment Format  Is Laundering  \n",
       "3507139         Cheque              0  \n",
       "2054082         Cheque              0  \n",
       "4745576    Credit Card              0  \n",
       "1999193         Cheque              0  \n",
       "800550          Cheque              0  "
      ]
     },
     "execution_count": 297,
     "metadata": {},
     "output_type": "execute_result"
    }
   ],
   "source": [
    "aml_trans_sm_df.head()"
   ]
  },
  {
   "cell_type": "markdown",
   "metadata": {},
   "source": [
    "### 2.2 Dataset Information\n",
    "\n",
    "- `Timestamp` - Year/Month/Day Hour/Minute\n",
    "- `From Bank` - Numeric code for bank where transaction originates\n",
    "- `Account` - Hexadecimal code for account where transaction originates\n",
    "- `To Bank` - Numeric code for bank where transaction ends\n",
    "- `Account.1` - Hexadecimal code for account where transaction ends\n",
    "- `Amount Received` - Monetary amount received in From account (in currency units of the next column)\n",
    "- `Receiving Currency` - Currency such as dollars, euros, etc of From account\n",
    "- `Amount Paid` - Monetary amount paid (in currency units of the next column)\n",
    "- `Payment Currency` - Currency such as dollars, euros, etc of From account\n",
    "- `Payement Format` - How transaction was conducted, e.g. cheque, ACH, wire, credit cards, etc.\n",
    "- `Is Laundering` - Target variable"
   ]
  },
  {
   "cell_type": "markdown",
   "metadata": {},
   "source": [
    "## 3 Data Checks to perform\n",
    "- Check Duplicates\n",
    "- Check Missing Values\n",
    "- Check Data Types\n",
    "- Check the number of unique values of each column\n",
    "- Check Statitics of Data\n",
    "- Check various categories present in the different column"
   ]
  },
  {
   "cell_type": "markdown",
   "metadata": {},
   "source": [
    "### 3.1 Check Duplicates"
   ]
  },
  {
   "cell_type": "code",
   "execution_count": 298,
   "metadata": {},
   "outputs": [
    {
     "data": {
      "text/plain": [
       "0"
      ]
     },
     "execution_count": 298,
     "metadata": {},
     "output_type": "execute_result"
    }
   ],
   "source": [
    "aml_trans_sm_df.duplicated(keep=\"first\").sum()"
   ]
  },
  {
   "cell_type": "markdown",
   "metadata": {},
   "source": [
    "### 3.2 Check Missing values"
   ]
  },
  {
   "cell_type": "code",
   "execution_count": 299,
   "metadata": {},
   "outputs": [
    {
     "data": {
      "text/plain": [
       "Timestamp             0\n",
       "From Bank             0\n",
       "Account               0\n",
       "To Bank               0\n",
       "Account.1             0\n",
       "Amount Received       0\n",
       "Receiving Currency    0\n",
       "Amount Paid           0\n",
       "Payment Currency      0\n",
       "Payment Format        0\n",
       "Is Laundering         0\n",
       "dtype: int64"
      ]
     },
     "execution_count": 299,
     "metadata": {},
     "output_type": "execute_result"
    }
   ],
   "source": [
    "aml_trans_sm_df.isna().sum()"
   ]
  },
  {
   "cell_type": "markdown",
   "metadata": {},
   "source": [
    "### 3.3 Check Data Types"
   ]
  },
  {
   "cell_type": "code",
   "execution_count": 300,
   "metadata": {},
   "outputs": [
    {
     "name": "stdout",
     "output_type": "stream",
     "text": [
      "<class 'pandas.core.frame.DataFrame'>\n",
      "Index: 50000 entries, 3507139 to 3159372\n",
      "Data columns (total 11 columns):\n",
      " #   Column              Non-Null Count  Dtype  \n",
      "---  ------              --------------  -----  \n",
      " 0   Timestamp           50000 non-null  object \n",
      " 1   From Bank           50000 non-null  int64  \n",
      " 2   Account             50000 non-null  object \n",
      " 3   To Bank             50000 non-null  int64  \n",
      " 4   Account.1           50000 non-null  object \n",
      " 5   Amount Received     50000 non-null  float64\n",
      " 6   Receiving Currency  50000 non-null  object \n",
      " 7   Amount Paid         50000 non-null  float64\n",
      " 8   Payment Currency    50000 non-null  object \n",
      " 9   Payment Format      50000 non-null  object \n",
      " 10  Is Laundering       50000 non-null  int64  \n",
      "dtypes: float64(2), int64(3), object(6)\n",
      "memory usage: 4.6+ MB\n"
     ]
    }
   ],
   "source": [
    "aml_trans_sm_df.info()"
   ]
  },
  {
   "cell_type": "markdown",
   "metadata": {},
   "source": [
    "### 3.4 Checking the number of unique values of each column"
   ]
  },
  {
   "cell_type": "code",
   "execution_count": 301,
   "metadata": {},
   "outputs": [
    {
     "data": {
      "text/plain": [
       "Timestamp             13022\n",
       "From Bank              3494\n",
       "Account               37420\n",
       "To Bank                2161\n",
       "Account.1             44258\n",
       "Amount Received       44567\n",
       "Receiving Currency       15\n",
       "Amount Paid           44618\n",
       "Payment Currency         15\n",
       "Payment Format            7\n",
       "Is Laundering             2\n",
       "dtype: int64"
      ]
     },
     "execution_count": 301,
     "metadata": {},
     "output_type": "execute_result"
    }
   ],
   "source": [
    "aml_trans_sm_df.nunique()"
   ]
  },
  {
   "cell_type": "markdown",
   "metadata": {},
   "source": [
    "### 3.5 Check Statistics of the Data set"
   ]
  },
  {
   "cell_type": "code",
   "execution_count": 302,
   "metadata": {},
   "outputs": [
    {
     "data": {
      "text/html": [
       "<div>\n",
       "<style scoped>\n",
       "    .dataframe tbody tr th:only-of-type {\n",
       "        vertical-align: middle;\n",
       "    }\n",
       "\n",
       "    .dataframe tbody tr th {\n",
       "        vertical-align: top;\n",
       "    }\n",
       "\n",
       "    .dataframe thead th {\n",
       "        text-align: right;\n",
       "    }\n",
       "</style>\n",
       "<table border=\"1\" class=\"dataframe\">\n",
       "  <thead>\n",
       "    <tr style=\"text-align: right;\">\n",
       "      <th></th>\n",
       "      <th>count</th>\n",
       "      <th>mean</th>\n",
       "      <th>std</th>\n",
       "      <th>min</th>\n",
       "      <th>25%</th>\n",
       "      <th>50%</th>\n",
       "      <th>75%</th>\n",
       "      <th>max</th>\n",
       "    </tr>\n",
       "  </thead>\n",
       "  <tbody>\n",
       "    <tr>\n",
       "      <th>From Bank</th>\n",
       "      <td>50000.0</td>\n",
       "      <td>4.634242e+04</td>\n",
       "      <td>8.244610e+04</td>\n",
       "      <td>1.000000</td>\n",
       "      <td>124.0000</td>\n",
       "      <td>10232.000</td>\n",
       "      <td>28694.0000</td>\n",
       "      <td>3.562190e+05</td>\n",
       "    </tr>\n",
       "    <tr>\n",
       "      <th>To Bank</th>\n",
       "      <td>50000.0</td>\n",
       "      <td>6.604474e+04</td>\n",
       "      <td>8.441844e+04</td>\n",
       "      <td>1.000000</td>\n",
       "      <td>4503.0000</td>\n",
       "      <td>21575.000</td>\n",
       "      <td>122352.0000</td>\n",
       "      <td>3.562190e+05</td>\n",
       "    </tr>\n",
       "    <tr>\n",
       "      <th>Amount Received</th>\n",
       "      <td>50000.0</td>\n",
       "      <td>1.598001e+07</td>\n",
       "      <td>2.129876e+09</td>\n",
       "      <td>0.000001</td>\n",
       "      <td>183.6175</td>\n",
       "      <td>1387.060</td>\n",
       "      <td>12332.7175</td>\n",
       "      <td>4.536185e+11</td>\n",
       "    </tr>\n",
       "    <tr>\n",
       "      <th>Amount Paid</th>\n",
       "      <td>50000.0</td>\n",
       "      <td>1.551440e+07</td>\n",
       "      <td>2.129498e+09</td>\n",
       "      <td>0.000001</td>\n",
       "      <td>184.4375</td>\n",
       "      <td>1391.025</td>\n",
       "      <td>12292.8175</td>\n",
       "      <td>4.536185e+11</td>\n",
       "    </tr>\n",
       "    <tr>\n",
       "      <th>Is Laundering</th>\n",
       "      <td>50000.0</td>\n",
       "      <td>1.080000e-03</td>\n",
       "      <td>3.284593e-02</td>\n",
       "      <td>0.000000</td>\n",
       "      <td>0.0000</td>\n",
       "      <td>0.000</td>\n",
       "      <td>0.0000</td>\n",
       "      <td>1.000000e+00</td>\n",
       "    </tr>\n",
       "  </tbody>\n",
       "</table>\n",
       "</div>"
      ],
      "text/plain": [
       "                   count          mean           std       min        25%  \\\n",
       "From Bank        50000.0  4.634242e+04  8.244610e+04  1.000000   124.0000   \n",
       "To Bank          50000.0  6.604474e+04  8.441844e+04  1.000000  4503.0000   \n",
       "Amount Received  50000.0  1.598001e+07  2.129876e+09  0.000001   183.6175   \n",
       "Amount Paid      50000.0  1.551440e+07  2.129498e+09  0.000001   184.4375   \n",
       "Is Laundering    50000.0  1.080000e-03  3.284593e-02  0.000000     0.0000   \n",
       "\n",
       "                       50%          75%           max  \n",
       "From Bank        10232.000   28694.0000  3.562190e+05  \n",
       "To Bank          21575.000  122352.0000  3.562190e+05  \n",
       "Amount Received   1387.060   12332.7175  4.536185e+11  \n",
       "Amount Paid       1391.025   12292.8175  4.536185e+11  \n",
       "Is Laundering        0.000       0.0000  1.000000e+00  "
      ]
     },
     "execution_count": 302,
     "metadata": {},
     "output_type": "execute_result"
    }
   ],
   "source": [
    "# Statistics of the Numerical columns\n",
    "aml_trans_sm_df.describe(include=np.number).T"
   ]
  },
  {
   "cell_type": "code",
   "execution_count": 303,
   "metadata": {},
   "outputs": [
    {
     "data": {
      "text/html": [
       "<div>\n",
       "<style scoped>\n",
       "    .dataframe tbody tr th:only-of-type {\n",
       "        vertical-align: middle;\n",
       "    }\n",
       "\n",
       "    .dataframe tbody tr th {\n",
       "        vertical-align: top;\n",
       "    }\n",
       "\n",
       "    .dataframe thead th {\n",
       "        text-align: right;\n",
       "    }\n",
       "</style>\n",
       "<table border=\"1\" class=\"dataframe\">\n",
       "  <thead>\n",
       "    <tr style=\"text-align: right;\">\n",
       "      <th></th>\n",
       "      <th>count</th>\n",
       "      <th>unique</th>\n",
       "      <th>top</th>\n",
       "      <th>freq</th>\n",
       "    </tr>\n",
       "  </thead>\n",
       "  <tbody>\n",
       "    <tr>\n",
       "      <th>Timestamp</th>\n",
       "      <td>50000</td>\n",
       "      <td>13022</td>\n",
       "      <td>2022/09/01 00:00</td>\n",
       "      <td>126</td>\n",
       "    </tr>\n",
       "    <tr>\n",
       "      <th>Account</th>\n",
       "      <td>50000</td>\n",
       "      <td>37420</td>\n",
       "      <td>100428660</td>\n",
       "      <td>1633</td>\n",
       "    </tr>\n",
       "    <tr>\n",
       "      <th>Account.1</th>\n",
       "      <td>50000</td>\n",
       "      <td>44258</td>\n",
       "      <td>100428660</td>\n",
       "      <td>18</td>\n",
       "    </tr>\n",
       "    <tr>\n",
       "      <th>Receiving Currency</th>\n",
       "      <td>50000</td>\n",
       "      <td>15</td>\n",
       "      <td>US Dollar</td>\n",
       "      <td>18577</td>\n",
       "    </tr>\n",
       "    <tr>\n",
       "      <th>Payment Currency</th>\n",
       "      <td>50000</td>\n",
       "      <td>15</td>\n",
       "      <td>US Dollar</td>\n",
       "      <td>18732</td>\n",
       "    </tr>\n",
       "    <tr>\n",
       "      <th>Payment Format</th>\n",
       "      <td>50000</td>\n",
       "      <td>7</td>\n",
       "      <td>Cheque</td>\n",
       "      <td>18194</td>\n",
       "    </tr>\n",
       "  </tbody>\n",
       "</table>\n",
       "</div>"
      ],
      "text/plain": [
       "                    count unique               top   freq\n",
       "Timestamp           50000  13022  2022/09/01 00:00    126\n",
       "Account             50000  37420         100428660   1633\n",
       "Account.1           50000  44258         100428660     18\n",
       "Receiving Currency  50000     15         US Dollar  18577\n",
       "Payment Currency    50000     15         US Dollar  18732\n",
       "Payment Format      50000      7            Cheque  18194"
      ]
     },
     "execution_count": 303,
     "metadata": {},
     "output_type": "execute_result"
    }
   ],
   "source": [
    "# Statistics of the Categorical columns\n",
    "aml_trans_sm_df.describe(include=np.object_).T"
   ]
  },
  {
   "cell_type": "code",
   "execution_count": 304,
   "metadata": {},
   "outputs": [
    {
     "data": {
      "text/plain": [
       "count                         50000\n",
       "mean     2022-09-05 07:06:18.866400\n",
       "min             2022-09-01 00:00:00\n",
       "25%             2022-09-02 03:50:00\n",
       "50%             2022-09-05 12:16:00\n",
       "75%             2022-09-08 03:16:00\n",
       "max             2022-09-14 13:27:00\n",
       "Name: Timestamp, dtype: object"
      ]
     },
     "execution_count": 304,
     "metadata": {},
     "output_type": "execute_result"
    }
   ],
   "source": [
    "pd.to_datetime(aml_trans_sm_df[\"Timestamp\"]).describe()"
   ]
  },
  {
   "cell_type": "code",
   "execution_count": 305,
   "metadata": {},
   "outputs": [
    {
     "data": {
      "text/html": [
       "<div>\n",
       "<style scoped>\n",
       "    .dataframe tbody tr th:only-of-type {\n",
       "        vertical-align: middle;\n",
       "    }\n",
       "\n",
       "    .dataframe tbody tr th {\n",
       "        vertical-align: top;\n",
       "    }\n",
       "\n",
       "    .dataframe thead th {\n",
       "        text-align: right;\n",
       "    }\n",
       "</style>\n",
       "<table border=\"1\" class=\"dataframe\">\n",
       "  <thead>\n",
       "    <tr style=\"text-align: right;\">\n",
       "      <th></th>\n",
       "      <th>Timestamp</th>\n",
       "      <th>From Bank</th>\n",
       "      <th>Account</th>\n",
       "      <th>To Bank</th>\n",
       "      <th>Account.1</th>\n",
       "      <th>Amount Received</th>\n",
       "      <th>Receiving Currency</th>\n",
       "      <th>Amount Paid</th>\n",
       "      <th>Payment Currency</th>\n",
       "      <th>Payment Format</th>\n",
       "      <th>Is Laundering</th>\n",
       "    </tr>\n",
       "  </thead>\n",
       "  <tbody>\n",
       "    <tr>\n",
       "      <th>3507139</th>\n",
       "      <td>2022/09/07 12:15</td>\n",
       "      <td>29</td>\n",
       "      <td>80CF063F0</td>\n",
       "      <td>235843</td>\n",
       "      <td>80CFE1EB0</td>\n",
       "      <td>386006.86</td>\n",
       "      <td>Brazil Real</td>\n",
       "      <td>386006.86</td>\n",
       "      <td>Brazil Real</td>\n",
       "      <td>Cheque</td>\n",
       "      <td>0</td>\n",
       "    </tr>\n",
       "    <tr>\n",
       "      <th>2054082</th>\n",
       "      <td>2022/09/03 21:15</td>\n",
       "      <td>70</td>\n",
       "      <td>100428660</td>\n",
       "      <td>22732</td>\n",
       "      <td>80BFEBFF0</td>\n",
       "      <td>8638.95</td>\n",
       "      <td>US Dollar</td>\n",
       "      <td>8638.95</td>\n",
       "      <td>US Dollar</td>\n",
       "      <td>Cheque</td>\n",
       "      <td>0</td>\n",
       "    </tr>\n",
       "  </tbody>\n",
       "</table>\n",
       "</div>"
      ],
      "text/plain": [
       "                Timestamp  From Bank    Account  To Bank  Account.1  \\\n",
       "3507139  2022/09/07 12:15         29  80CF063F0   235843  80CFE1EB0   \n",
       "2054082  2022/09/03 21:15         70  100428660    22732  80BFEBFF0   \n",
       "\n",
       "         Amount Received Receiving Currency  Amount Paid Payment Currency  \\\n",
       "3507139        386006.86        Brazil Real    386006.86      Brazil Real   \n",
       "2054082          8638.95          US Dollar      8638.95        US Dollar   \n",
       "\n",
       "        Payment Format  Is Laundering  \n",
       "3507139         Cheque              0  \n",
       "2054082         Cheque              0  "
      ]
     },
     "execution_count": 305,
     "metadata": {},
     "output_type": "execute_result"
    }
   ],
   "source": [
    "aml_trans_sm_df.head(2)"
   ]
  },
  {
   "cell_type": "markdown",
   "metadata": {},
   "source": [
    "## 4. Exploring Data (Visualization)"
   ]
  },
  {
   "cell_type": "markdown",
   "metadata": {},
   "source": [
    "### 4.1 "
   ]
  },
  {
   "cell_type": "code",
   "execution_count": 306,
   "metadata": {},
   "outputs": [
    {
     "name": "stdout",
     "output_type": "stream",
     "text": [
      "Is Laundering\n",
      "0    49946\n",
      "1       54\n",
      "Name: count, dtype: int64\n"
     ]
    },
    {
     "data": {
      "image/png": "[encoded data removed]",
      "text/plain": [
       "<Figure size 600x400 with 1 Axes>"
      ]
     },
     "metadata": {},
     "output_type": "display_data"
    }
   ],
   "source": [
    "# Exploring the target variable \"Is Laundering\"\n",
    "print(aml_trans_sm_df[\"Is Laundering\"].value_counts(dropna=False))\n",
    "\n",
    "# Bar plot\n",
    "plt.figure(figsize=(6,4))\n",
    "sns.set(style=\"whitegrid\")\n",
    "ax = sns.countplot(x=\"Is Laundering\", data=aml_trans_sm_df)\n",
    "plt.title(\"Is Laundering\")\n",
    "plt.xlabel(\"Is Laundering?\")\n",
    "plt.show()"
   ]
  },
  {
   "cell_type": "code",
   "execution_count": 307,
   "metadata": {},
   "outputs": [
    {
     "data": {
      "text/html": [
       "<div>\n",
       "<style scoped>\n",
       "    .dataframe tbody tr th:only-of-type {\n",
       "        vertical-align: middle;\n",
       "    }\n",
       "\n",
       "    .dataframe tbody tr th {\n",
       "        vertical-align: top;\n",
       "    }\n",
       "\n",
       "    .dataframe thead th {\n",
       "        text-align: right;\n",
       "    }\n",
       "</style>\n",
       "<table border=\"1\" class=\"dataframe\">\n",
       "  <thead>\n",
       "    <tr style=\"text-align: right;\">\n",
       "      <th></th>\n",
       "      <th>Timestamp</th>\n",
       "      <th>From Bank</th>\n",
       "      <th>Account</th>\n",
       "      <th>To Bank</th>\n",
       "      <th>Account.1</th>\n",
       "      <th>Amount Received</th>\n",
       "      <th>Receiving Currency</th>\n",
       "      <th>Amount Paid</th>\n",
       "      <th>Payment Currency</th>\n",
       "      <th>Payment Format</th>\n",
       "      <th>Is Laundering</th>\n",
       "    </tr>\n",
       "  </thead>\n",
       "  <tbody>\n",
       "    <tr>\n",
       "      <th>3507139</th>\n",
       "      <td>2022/09/07 12:15</td>\n",
       "      <td>29</td>\n",
       "      <td>80CF063F0</td>\n",
       "      <td>235843</td>\n",
       "      <td>80CFE1EB0</td>\n",
       "      <td>386006.86</td>\n",
       "      <td>Brazil Real</td>\n",
       "      <td>386006.86</td>\n",
       "      <td>Brazil Real</td>\n",
       "      <td>Cheque</td>\n",
       "      <td>0</td>\n",
       "    </tr>\n",
       "    <tr>\n",
       "      <th>2054082</th>\n",
       "      <td>2022/09/03 21:15</td>\n",
       "      <td>70</td>\n",
       "      <td>100428660</td>\n",
       "      <td>22732</td>\n",
       "      <td>80BFEBFF0</td>\n",
       "      <td>8638.95</td>\n",
       "      <td>US Dollar</td>\n",
       "      <td>8638.95</td>\n",
       "      <td>US Dollar</td>\n",
       "      <td>Cheque</td>\n",
       "      <td>0</td>\n",
       "    </tr>\n",
       "  </tbody>\n",
       "</table>\n",
       "</div>"
      ],
      "text/plain": [
       "                Timestamp  From Bank    Account  To Bank  Account.1  \\\n",
       "3507139  2022/09/07 12:15         29  80CF063F0   235843  80CFE1EB0   \n",
       "2054082  2022/09/03 21:15         70  100428660    22732  80BFEBFF0   \n",
       "\n",
       "         Amount Received Receiving Currency  Amount Paid Payment Currency  \\\n",
       "3507139        386006.86        Brazil Real    386006.86      Brazil Real   \n",
       "2054082          8638.95          US Dollar      8638.95        US Dollar   \n",
       "\n",
       "        Payment Format  Is Laundering  \n",
       "3507139         Cheque              0  \n",
       "2054082         Cheque              0  "
      ]
     },
     "execution_count": 307,
     "metadata": {},
     "output_type": "execute_result"
    }
   ],
   "source": [
    "aml_trans_sm_df.head(2)"
   ]
  },
  {
   "cell_type": "code",
   "execution_count": 308,
   "metadata": {},
   "outputs": [
    {
     "data": {
      "text/html": [
       "<div>\n",
       "<style scoped>\n",
       "    .dataframe tbody tr th:only-of-type {\n",
       "        vertical-align: middle;\n",
       "    }\n",
       "\n",
       "    .dataframe tbody tr th {\n",
       "        vertical-align: top;\n",
       "    }\n",
       "\n",
       "    .dataframe thead th {\n",
       "        text-align: right;\n",
       "    }\n",
       "</style>\n",
       "<table border=\"1\" class=\"dataframe\">\n",
       "  <thead>\n",
       "    <tr style=\"text-align: right;\">\n",
       "      <th></th>\n",
       "      <th>From Bank</th>\n",
       "      <th>Account</th>\n",
       "      <th>To Bank</th>\n",
       "      <th>Account.1</th>\n",
       "      <th>Amount Received</th>\n",
       "      <th>Receiving Currency</th>\n",
       "      <th>Payment Format</th>\n",
       "      <th>Is Laundering</th>\n",
       "    </tr>\n",
       "  </thead>\n",
       "  <tbody>\n",
       "    <tr>\n",
       "      <th>3507139</th>\n",
       "      <td>29</td>\n",
       "      <td>80CF063F0</td>\n",
       "      <td>235843</td>\n",
       "      <td>80CFE1EB0</td>\n",
       "      <td>386006.86</td>\n",
       "      <td>Brazil Real</td>\n",
       "      <td>Cheque</td>\n",
       "      <td>0</td>\n",
       "    </tr>\n",
       "    <tr>\n",
       "      <th>2054082</th>\n",
       "      <td>70</td>\n",
       "      <td>100428660</td>\n",
       "      <td>22732</td>\n",
       "      <td>80BFEBFF0</td>\n",
       "      <td>8638.95</td>\n",
       "      <td>US Dollar</td>\n",
       "      <td>Cheque</td>\n",
       "      <td>0</td>\n",
       "    </tr>\n",
       "  </tbody>\n",
       "</table>\n",
       "</div>"
      ],
      "text/plain": [
       "         From Bank    Account  To Bank  Account.1  Amount Received  \\\n",
       "3507139         29  80CF063F0   235843  80CFE1EB0        386006.86   \n",
       "2054082         70  100428660    22732  80BFEBFF0          8638.95   \n",
       "\n",
       "        Receiving Currency Payment Format  Is Laundering  \n",
       "3507139        Brazil Real         Cheque              0  \n",
       "2054082          US Dollar         Cheque              0  "
      ]
     },
     "execution_count": 308,
     "metadata": {},
     "output_type": "execute_result"
    }
   ],
   "source": [
    "# Dropping some columns based on domain knowledge\n",
    "aml_trans_sm_df.drop(columns=[\"Timestamp\", \"Amount Paid\", \"Payment Currency\"], inplace=True)\n",
    "aml_trans_sm_df.head(2)"
   ]
  },
  {
   "cell_type": "code",
   "execution_count": 309,
   "metadata": {},
   "outputs": [
    {
     "data": {
      "text/plain": [
       "Index(['From Bank', 'To Bank', 'Amount Received', 'Is Laundering'], dtype='object')"
      ]
     },
     "execution_count": 309,
     "metadata": {},
     "output_type": "execute_result"
    }
   ],
   "source": [
    "# Get the list of numerical columns name\n",
    "numeric_cols = aml_trans_sm_df.select_dtypes(include=np.number).columns\n",
    "numeric_cols"
   ]
  },
  {
   "cell_type": "code",
   "execution_count": 310,
   "metadata": {},
   "outputs": [
    {
     "data": {
      "text/plain": [
       "Index(['Account', 'Account.1', 'Receiving Currency', 'Payment Format'], dtype='object')"
      ]
     },
     "execution_count": 310,
     "metadata": {},
     "output_type": "execute_result"
    }
   ],
   "source": [
    "# Get the list of categorical columns name\n",
    "category_cols = aml_trans_sm_df.select_dtypes(include=object).columns\n",
    "category_cols"
   ]
  },
  {
   "cell_type": "markdown",
   "metadata": {},
   "source": [
    "# 5. Model Training"
   ]
  },
  {
   "cell_type": "markdown",
   "metadata": {},
   "source": [
    "####  Independent features and Dependent variable"
   ]
  },
  {
   "cell_type": "code",
   "execution_count": 311,
   "metadata": {},
   "outputs": [],
   "source": [
    "# Dividing into Independent and Dependent features\n",
    "X = aml_trans_sm_df.drop(columns=[\"Is Laundering\"], axis=1)\n",
    "y = aml_trans_sm_df[\"Is Laundering\"]"
   ]
  },
  {
   "cell_type": "code",
   "execution_count": 312,
   "metadata": {},
   "outputs": [
    {
     "name": "stdout",
     "output_type": "stream",
     "text": [
      "['From Bank', 'To Bank', 'Amount Received']\n",
      "['Account', 'Account.1', 'Receiving Currency', 'Payment Format']\n"
     ]
    }
   ],
   "source": [
    "numerical_features = X.select_dtypes(include=np.number).columns.tolist()\n",
    "print(numerical_features)\n",
    "categorical_features = X.select_dtypes(include=object).columns.tolist()\n",
    "print(categorical_features)"
   ]
  },
  {
   "cell_type": "markdown",
   "metadata": {},
   "source": [
    "#### Defining Pipeline"
   ]
  },
  {
   "cell_type": "code",
   "execution_count": 313,
   "metadata": {},
   "outputs": [],
   "source": [
    "\"\"\" \n",
    "    - Preprocessing datasets for modeling\n",
    "    - Imputing, Scaling and encoding  \n",
    "\"\"\"\n",
    "def num_cat_transformer(num_type, cat_object_type):\n",
    "    # Preprocessing for numerical features:\n",
    "    num_transformer = make_pipeline(SimpleImputer(strategy='median'),\n",
    "                                    RobustScaler())\n",
    "\n",
    "    # Preprocessing for categorical features:\n",
    "    cat_transformer = make_pipeline(SimpleImputer(strategy='most_frequent'),\n",
    "                                    OrdinalEncoder(handle_unknown='use_encoded_value', unknown_value=-1))\n",
    "\n",
    "    ## Transforming both numerical and catergorical columns based preprocessing above\n",
    "    column_transformer = make_column_transformer((num_transformer, numerical_features),\n",
    "                                                 (cat_transformer, categorical_features),\n",
    "                                                 remainder=\"passthrough\")\n",
    "    return column_transformer"
   ]
  },
  {
   "cell_type": "markdown",
   "metadata": {},
   "source": [
    "#### Train and Test dataset split"
   ]
  },
  {
   "cell_type": "code",
   "execution_count": 314,
   "metadata": {},
   "outputs": [],
   "source": [
    "X_train, X_test, y_train, y_test = train_test_split(X, y, test_size=0.2, random_state=42)"
   ]
  },
  {
   "cell_type": "markdown",
   "metadata": {},
   "source": [
    "#### Applying the column transformer to both Train and Test"
   ]
  },
  {
   "cell_type": "code",
   "execution_count": 315,
   "metadata": {},
   "outputs": [
    {
     "name": "stdout",
     "output_type": "stream",
     "text": [
      "Encoded and Scaled of the Train dataset \n"
     ]
    },
    {
     "data": {
      "text/html": [
       "<div>\n",
       "<style scoped>\n",
       "    .dataframe tbody tr th:only-of-type {\n",
       "        vertical-align: middle;\n",
       "    }\n",
       "\n",
       "    .dataframe tbody tr th {\n",
       "        vertical-align: top;\n",
       "    }\n",
       "\n",
       "    .dataframe thead th {\n",
       "        text-align: right;\n",
       "    }\n",
       "</style>\n",
       "<table border=\"1\" class=\"dataframe\">\n",
       "  <thead>\n",
       "    <tr style=\"text-align: right;\">\n",
       "      <th></th>\n",
       "      <th>0</th>\n",
       "      <th>1</th>\n",
       "      <th>2</th>\n",
       "      <th>3</th>\n",
       "      <th>4</th>\n",
       "      <th>5</th>\n",
       "      <th>6</th>\n",
       "    </tr>\n",
       "  </thead>\n",
       "  <tbody>\n",
       "    <tr>\n",
       "      <th>0</th>\n",
       "      <td>12.006860</td>\n",
       "      <td>1.981475</td>\n",
       "      <td>-0.113073</td>\n",
       "      <td>30792.0</td>\n",
       "      <td>35477.0</td>\n",
       "      <td>1.0</td>\n",
       "      <td>1.0</td>\n",
       "    </tr>\n",
       "    <tr>\n",
       "      <th>1</th>\n",
       "      <td>0.662969</td>\n",
       "      <td>0.864077</td>\n",
       "      <td>7.321705</td>\n",
       "      <td>22354.0</td>\n",
       "      <td>26319.0</td>\n",
       "      <td>12.0</td>\n",
       "      <td>0.0</td>\n",
       "    </tr>\n",
       "    <tr>\n",
       "      <th>2</th>\n",
       "      <td>4.667693</td>\n",
       "      <td>1.889222</td>\n",
       "      <td>0.061059</td>\n",
       "      <td>28169.0</td>\n",
       "      <td>31072.0</td>\n",
       "      <td>9.0</td>\n",
       "      <td>3.0</td>\n",
       "    </tr>\n",
       "    <tr>\n",
       "      <th>3</th>\n",
       "      <td>0.231617</td>\n",
       "      <td>-0.034063</td>\n",
       "      <td>8.689518</td>\n",
       "      <td>15524.0</td>\n",
       "      <td>11943.0</td>\n",
       "      <td>6.0</td>\n",
       "      <td>3.0</td>\n",
       "    </tr>\n",
       "    <tr>\n",
       "      <th>4</th>\n",
       "      <td>-0.344731</td>\n",
       "      <td>0.027249</td>\n",
       "      <td>0.501891</td>\n",
       "      <td>19608.0</td>\n",
       "      <td>16414.0</td>\n",
       "      <td>3.0</td>\n",
       "      <td>4.0</td>\n",
       "    </tr>\n",
       "  </tbody>\n",
       "</table>\n",
       "</div>"
      ],
      "text/plain": [
       "           0         1         2        3        4     5    6\n",
       "0  12.006860  1.981475 -0.113073  30792.0  35477.0   1.0  1.0\n",
       "1   0.662969  0.864077  7.321705  22354.0  26319.0  12.0  0.0\n",
       "2   4.667693  1.889222  0.061059  28169.0  31072.0   9.0  3.0\n",
       "3   0.231617 -0.034063  8.689518  15524.0  11943.0   6.0  3.0\n",
       "4  -0.344731  0.027249  0.501891  19608.0  16414.0   3.0  4.0"
      ]
     },
     "metadata": {},
     "output_type": "display_data"
    },
    {
     "name": "stdout",
     "output_type": "stream",
     "text": [
      "Encoded and Scaled of the Test dataset \n"
     ]
    },
    {
     "data": {
      "text/html": [
       "<div>\n",
       "<style scoped>\n",
       "    .dataframe tbody tr th:only-of-type {\n",
       "        vertical-align: middle;\n",
       "    }\n",
       "\n",
       "    .dataframe tbody tr th {\n",
       "        vertical-align: top;\n",
       "    }\n",
       "\n",
       "    .dataframe thead th {\n",
       "        text-align: right;\n",
       "    }\n",
       "</style>\n",
       "<table border=\"1\" class=\"dataframe\">\n",
       "  <thead>\n",
       "    <tr style=\"text-align: right;\">\n",
       "      <th></th>\n",
       "      <th>0</th>\n",
       "      <th>1</th>\n",
       "      <th>2</th>\n",
       "      <th>3</th>\n",
       "      <th>4</th>\n",
       "      <th>5</th>\n",
       "      <th>6</th>\n",
       "    </tr>\n",
       "  </thead>\n",
       "  <tbody>\n",
       "    <tr>\n",
       "      <th>0</th>\n",
       "      <td>0.828299</td>\n",
       "      <td>0.103183</td>\n",
       "      <td>1.227359</td>\n",
       "      <td>-1.0</td>\n",
       "      <td>-1.0</td>\n",
       "      <td>12.0</td>\n",
       "      <td>0.0</td>\n",
       "    </tr>\n",
       "    <tr>\n",
       "      <th>1</th>\n",
       "      <td>0.652154</td>\n",
       "      <td>0.853563</td>\n",
       "      <td>-0.099347</td>\n",
       "      <td>-1.0</td>\n",
       "      <td>-1.0</td>\n",
       "      <td>12.0</td>\n",
       "      <td>2.0</td>\n",
       "    </tr>\n",
       "    <tr>\n",
       "      <th>2</th>\n",
       "      <td>-0.349631</td>\n",
       "      <td>-0.072226</td>\n",
       "      <td>1.500295</td>\n",
       "      <td>1.0</td>\n",
       "      <td>-1.0</td>\n",
       "      <td>4.0</td>\n",
       "      <td>4.0</td>\n",
       "    </tr>\n",
       "    <tr>\n",
       "      <th>3</th>\n",
       "      <td>-0.351766</td>\n",
       "      <td>-0.182953</td>\n",
       "      <td>0.567904</td>\n",
       "      <td>-1.0</td>\n",
       "      <td>-1.0</td>\n",
       "      <td>6.0</td>\n",
       "      <td>2.0</td>\n",
       "    </tr>\n",
       "    <tr>\n",
       "      <th>4</th>\n",
       "      <td>-0.287229</td>\n",
       "      <td>-0.032578</td>\n",
       "      <td>-0.105046</td>\n",
       "      <td>-1.0</td>\n",
       "      <td>-1.0</td>\n",
       "      <td>12.0</td>\n",
       "      <td>3.0</td>\n",
       "    </tr>\n",
       "  </tbody>\n",
       "</table>\n",
       "</div>"
      ],
      "text/plain": [
       "          0         1         2    3    4     5    6\n",
       "0  0.828299  0.103183  1.227359 -1.0 -1.0  12.0  0.0\n",
       "1  0.652154  0.853563 -0.099347 -1.0 -1.0  12.0  2.0\n",
       "2 -0.349631 -0.072226  1.500295  1.0 -1.0   4.0  4.0\n",
       "3 -0.351766 -0.182953  0.567904 -1.0 -1.0   6.0  2.0\n",
       "4 -0.287229 -0.032578 -0.105046 -1.0 -1.0  12.0  3.0"
      ]
     },
     "metadata": {},
     "output_type": "display_data"
    }
   ],
   "source": [
    "column_transformer_tn = num_cat_transformer(numerical_features, categorical_features)\n",
    "X_train = column_transformer_tn.fit_transform(X_train)\n",
    "print(\"Encoded and Scaled of the Train dataset \")\n",
    "display(pd.DataFrame(X_train).head())\n",
    "\n",
    "X_test = column_transformer_tn.transform(X_test)\n",
    "print(\"Encoded and Scaled of the Test dataset \")\n",
    "display(pd.DataFrame(X_test).head())"
   ]
  },
  {
   "cell_type": "code",
   "execution_count": null,
   "metadata": {},
   "outputs": [],
   "source": []
  },
  {
   "cell_type": "markdown",
   "metadata": {},
   "source": [
    "#### Training Base Model"
   ]
  },
  {
   "cell_type": "code",
   "execution_count": 316,
   "metadata": {},
   "outputs": [
    {
     "data": {
      "text/html": [
       "<style>#sk-container-id-10 {color: black;}#sk-container-id-10 pre{padding: 0;}#sk-container-id-10 div.sk-toggleable {background-color: white;}#sk-container-id-10 label.sk-toggleable__label {cursor: pointer;display: block;width: 100%;margin-bottom: 0;padding: 0.3em;box-sizing: border-box;text-align: center;}#sk-container-id-10 label.sk-toggleable__label-arrow:before {content: \"▸\";float: left;margin-right: 0.25em;color: #696969;}#sk-container-id-10 label.sk-toggleable__label-arrow:hover:before {color: black;}#sk-container-id-10 div.sk-estimator:hover label.sk-toggleable__label-arrow:before {color: black;}#sk-container-id-10 div.sk-toggleable__content {max-height: 0;max-width: 0;overflow: hidden;text-align: left;background-color: #f0f8ff;}#sk-container-id-10 div.sk-toggleable__content pre {margin: 0.2em;color: black;border-radius: 0.25em;background-color: #f0f8ff;}#sk-container-id-10 input.sk-toggleable__control:checked~div.sk-toggleable__content {max-height: 200px;max-width: 100%;overflow: auto;}#sk-container-id-10 input.sk-toggleable__control:checked~label.sk-toggleable__label-arrow:before {content: \"▾\";}#sk-container-id-10 div.sk-estimator input.sk-toggleable__control:checked~label.sk-toggleable__label {background-color: #d4ebff;}#sk-container-id-10 div.sk-label input.sk-toggleable__control:checked~label.sk-toggleable__label {background-color: #d4ebff;}#sk-container-id-10 input.sk-hidden--visually {border: 0;clip: rect(1px 1px 1px 1px);clip: rect(1px, 1px, 1px, 1px);height: 1px;margin: -1px;overflow: hidden;padding: 0;position: absolute;width: 1px;}#sk-container-id-10 div.sk-estimator {font-family: monospace;background-color: #f0f8ff;border: 1px dotted black;border-radius: 0.25em;box-sizing: border-box;margin-bottom: 0.5em;}#sk-container-id-10 div.sk-estimator:hover {background-color: #d4ebff;}#sk-container-id-10 div.sk-parallel-item::after {content: \"\";width: 100%;border-bottom: 1px solid gray;flex-grow: 1;}#sk-container-id-10 div.sk-label:hover label.sk-toggleable__label {background-color: #d4ebff;}#sk-container-id-10 div.sk-serial::before {content: \"\";position: absolute;border-left: 1px solid gray;box-sizing: border-box;top: 0;bottom: 0;left: 50%;z-index: 0;}#sk-container-id-10 div.sk-serial {display: flex;flex-direction: column;align-items: center;background-color: white;padding-right: 0.2em;padding-left: 0.2em;position: relative;}#sk-container-id-10 div.sk-item {position: relative;z-index: 1;}#sk-container-id-10 div.sk-parallel {display: flex;align-items: stretch;justify-content: center;background-color: white;position: relative;}#sk-container-id-10 div.sk-item::before, #sk-container-id-10 div.sk-parallel-item::before {content: \"\";position: absolute;border-left: 1px solid gray;box-sizing: border-box;top: 0;bottom: 0;left: 50%;z-index: -1;}#sk-container-id-10 div.sk-parallel-item {display: flex;flex-direction: column;z-index: 1;position: relative;background-color: white;}#sk-container-id-10 div.sk-parallel-item:first-child::after {align-self: flex-end;width: 50%;}#sk-container-id-10 div.sk-parallel-item:last-child::after {align-self: flex-start;width: 50%;}#sk-container-id-10 div.sk-parallel-item:only-child::after {width: 0;}#sk-container-id-10 div.sk-dashed-wrapped {border: 1px dashed gray;margin: 0 0.4em 0.5em 0.4em;box-sizing: border-box;padding-bottom: 0.4em;background-color: white;}#sk-container-id-10 div.sk-label label {font-family: monospace;font-weight: bold;display: inline-block;line-height: 1.2em;}#sk-container-id-10 div.sk-label-container {text-align: center;}#sk-container-id-10 div.sk-container {/* jupyter's `normalize.less` sets `[hidden] { display: none; }` but bootstrap.min.css set `[hidden] { display: none !important; }` so we also need the `!important` here to be able to override the default hidden behavior on the sphinx rendered scikit-learn.org. See: https://github.com/scikit-learn/scikit-learn/issues/21755 */display: inline-block !important;position: relative;}#sk-container-id-10 div.sk-text-repr-fallback {display: none;}</style><div id=\"sk-container-id-10\" class=\"sk-top-container\"><div class=\"sk-text-repr-fallback\"><pre>XGBClassifier(base_score=None, booster=None, callbacks=None,\n",
       "              colsample_bylevel=None, colsample_bynode=None,\n",
       "              colsample_bytree=None, device=None, early_stopping_rounds=None,\n",
       "              enable_categorical=False, eval_metric=&#x27;logloss&#x27;,\n",
       "              feature_types=None, gamma=None, grow_policy=None,\n",
       "              importance_type=None, interaction_constraints=None,\n",
       "              learning_rate=None, max_bin=None, max_cat_threshold=None,\n",
       "              max_cat_to_onehot=None, max_delta_step=None, max_depth=None,\n",
       "              max_leaves=None, min_child_weight=None, missing=nan,\n",
       "              monotone_constraints=None, multi_strategy=None, n_estimators=None,\n",
       "              n_jobs=None, num_parallel_tree=None, random_state=None, ...)</pre><b>In a Jupyter environment, please rerun this cell to show the HTML representation or trust the notebook. <br />On GitHub, the HTML representation is unable to render, please try loading this page with nbviewer.org.</b></div><div class=\"sk-container\" hidden><div class=\"sk-item\"><div class=\"sk-estimator sk-toggleable\"><input class=\"sk-toggleable__control sk-hidden--visually\" id=\"sk-estimator-id-10\" type=\"checkbox\" checked><label for=\"sk-estimator-id-10\" class=\"sk-toggleable__label sk-toggleable__label-arrow\">XGBClassifier</label><div class=\"sk-toggleable__content\"><pre>XGBClassifier(base_score=None, booster=None, callbacks=None,\n",
       "              colsample_bylevel=None, colsample_bynode=None,\n",
       "              colsample_bytree=None, device=None, early_stopping_rounds=None,\n",
       "              enable_categorical=False, eval_metric=&#x27;logloss&#x27;,\n",
       "              feature_types=None, gamma=None, grow_policy=None,\n",
       "              importance_type=None, interaction_constraints=None,\n",
       "              learning_rate=None, max_bin=None, max_cat_threshold=None,\n",
       "              max_cat_to_onehot=None, max_delta_step=None, max_depth=None,\n",
       "              max_leaves=None, min_child_weight=None, missing=nan,\n",
       "              monotone_constraints=None, multi_strategy=None, n_estimators=None,\n",
       "              n_jobs=None, num_parallel_tree=None, random_state=None, ...)</pre></div></div></div></div></div>"
      ],
      "text/plain": [
       "XGBClassifier(base_score=None, booster=None, callbacks=None,\n",
       "              colsample_bylevel=None, colsample_bynode=None,\n",
       "              colsample_bytree=None, device=None, early_stopping_rounds=None,\n",
       "              enable_categorical=False, eval_metric='logloss',\n",
       "              feature_types=None, gamma=None, grow_policy=None,\n",
       "              importance_type=None, interaction_constraints=None,\n",
       "              learning_rate=None, max_bin=None, max_cat_threshold=None,\n",
       "              max_cat_to_onehot=None, max_delta_step=None, max_depth=None,\n",
       "              max_leaves=None, min_child_weight=None, missing=nan,\n",
       "              monotone_constraints=None, multi_strategy=None, n_estimators=None,\n",
       "              n_jobs=None, num_parallel_tree=None, random_state=None, ...)"
      ]
     },
     "execution_count": 316,
     "metadata": {},
     "output_type": "execute_result"
    }
   ],
   "source": [
    "# Initialize the XGBClassifier\n",
    "xgb_base = XGBClassifier(eval_metric='logloss')\n",
    "\n",
    "# Train the model on the training data\n",
    "xgb_base.fit(X_train, y_train)"
   ]
  },
  {
   "cell_type": "code",
   "execution_count": 317,
   "metadata": {},
   "outputs": [
    {
     "name": "stdout",
     "output_type": "stream",
     "text": [
      "[0 0 0 ... 0 0 0]\n"
     ]
    }
   ],
   "source": [
    "# Predict the labels for the test set\n",
    "y_pred = xgb_base.predict(X_test)\n",
    "print(y_pred)"
   ]
  },
  {
   "cell_type": "code",
   "execution_count": 318,
   "metadata": {},
   "outputs": [
    {
     "data": {
      "text/plain": [
       "<bound method XGBModel.get_params of XGBClassifier(base_score=None, booster=None, callbacks=None,\n",
       "              colsample_bylevel=None, colsample_bynode=None,\n",
       "              colsample_bytree=None, device=None, early_stopping_rounds=None,\n",
       "              enable_categorical=False, eval_metric='logloss',\n",
       "              feature_types=None, gamma=None, grow_policy=None,\n",
       "              importance_type=None, interaction_constraints=None,\n",
       "              learning_rate=None, max_bin=None, max_cat_threshold=None,\n",
       "              max_cat_to_onehot=None, max_delta_step=None, max_depth=None,\n",
       "              max_leaves=None, min_child_weight=None, missing=nan,\n",
       "              monotone_constraints=None, multi_strategy=None, n_estimators=None,\n",
       "              n_jobs=None, num_parallel_tree=None, random_state=None, ...)>"
      ]
     },
     "execution_count": 318,
     "metadata": {},
     "output_type": "execute_result"
    }
   ],
   "source": [
    "xgb_base.get_params"
   ]
  },
  {
   "cell_type": "code",
   "execution_count": 319,
   "metadata": {},
   "outputs": [
    {
     "name": "stdout",
     "output_type": "stream",
     "text": [
      "Probabilities prediction of 'Is Laundering':\n",
      " [6.5056674e-02 9.9523393e-05 1.0300636e-02 ... 1.5804537e-02 1.7664891e-02\n",
      " 1.6894971e-04]\n"
     ]
    },
    {
     "data": {
      "text/plain": [
       "<Figure size 400x400 with 0 Axes>"
      ]
     },
     "metadata": {},
     "output_type": "display_data"
    },
    {
     "data": {
      "image/png": "[encoded data removed]",
      "text/plain": [
       "<Figure size 640x480 with 1 Axes>"
      ]
     },
     "metadata": {},
     "output_type": "display_data"
    }
   ],
   "source": [
    "# Predict the probabilities for the test set\n",
    "test_probabilities = xgb_base.predict_proba(X_test)[:, 1]\n",
    "print(f\"Probabilities prediction of 'Is Laundering':\\n {test_probabilities}\")\n",
    "\n",
    "# Compute the ROC curve and AUC\n",
    "fpr, tpr, thresholds = roc_curve(y_test, test_probabilities)\n",
    "roc_auc = auc(fpr, tpr)\n",
    "\n",
    "# Plot the ROC curve\n",
    "plt.figure(figsize=(4,4))\n",
    "RocCurveDisplay(fpr=fpr, tpr=tpr, roc_auc=roc_auc, estimator_name='XGBClassifier').plot()\n",
    "plt.plot([0, 1], [0, 1], color='red', lw=2, linestyle='--')\n",
    "plt.title('ROC Curve')\n",
    "plt.show()"
   ]
  },
  {
   "cell_type": "code",
   "execution_count": 320,
   "metadata": {},
   "outputs": [
    {
     "name": "stdout",
     "output_type": "stream",
     "text": [
      "Closet threshold to get Desired TPR of around 88.0%: 0.0017690184758976102\n",
      "False Positive Rate (FPR): 0.153\n",
      "True Positive Rate (TPR): 0.846\n"
     ]
    },
    {
     "data": {
      "image/png": "[encoded data removed]",
      "text/plain": [
       "<Figure size 640x480 with 2 Axes>"
      ]
     },
     "metadata": {},
     "output_type": "display_data"
    },
    {
     "name": "stdout",
     "output_type": "stream",
     "text": [
      "Classification report: \n",
      "               precision    recall  f1-score   support\n",
      "\n",
      "           0       1.00      0.85      0.92      9987\n",
      "           1       0.01      0.85      0.01        13\n",
      "\n",
      "    accuracy                           0.85     10000\n",
      "   macro avg       0.50      0.85      0.47     10000\n",
      "weighted avg       1.00      0.85      0.92     10000\n",
      "\n"
     ]
    }
   ],
   "source": [
    "# Compute the True Positive Rate (tPR) and False Positive Rate (FPR) for a specific threshold value\n",
    "desired_tpr = 0.88\n",
    "closest_threshold = thresholds[np.argmin(np.abs(tpr - desired_tpr))]\n",
    "print(f\"Closet threshold to get Desired TPR of around {desired_tpr*100}%: {closest_threshold}\")\n",
    "\n",
    "y_pred = (test_probabilities >= closest_threshold).astype(int)\n",
    "tn, fp, fn, tp = confusion_matrix(y_test, y_pred).ravel()\n",
    "\n",
    "fpr_cm = fp / (fp + tn)\n",
    "tpr_cm = tp / (tp + fn)\n",
    "print(f\"False Positive Rate (FPR): {fpr_cm:.3f}\")\n",
    "print(f\"True Positive Rate (TPR): {tpr_cm:.3f}\")\n",
    "\n",
    "disp = ConfusionMatrixDisplay.from_predictions(y_test, y_pred, cmap=\"Blues\")\n",
    "plt.show()\n",
    "\n",
    "print(f\"Classification report: \\n {classification_report(y_test, y_pred)}\")"
   ]
  },
  {
   "cell_type": "markdown",
   "metadata": {},
   "source": [
    "#### Oversamplig the data and cross validating by using different models\n"
   ]
  },
  {
   "cell_type": "code",
   "execution_count": 321,
   "metadata": {},
   "outputs": [],
   "source": [
    "\"\"\"  Imbalance dataset - upsampling \"\"\"\n",
    "def upsampling_data(X, y):\n",
    "    sm = SMOTE(sampling_strategy='auto', random_state=42)\n",
    "    X_sm, y_sm = sm.fit_resample(X, y)   \n",
    "    print(f\"\\n====== Upsampled the minority class data ======\") \n",
    "    print(\"Before SMOTE: \", Counter(y))\n",
    "    print(\"After SMOTE: \", Counter(y_sm))\n",
    "    return X_sm, y_sm\n",
    "\n",
    "\n",
    "\"\"\" Evaluating Models \"\"\"\n",
    "def model_evaluation(model, X, y, num_procs):\n",
    "    # parallel cross-validate models\n",
    "    print(\"\\n===================== Beginning cross validation ========================== \")\n",
    "    # Define cross-validation method\n",
    "    cv = StratifiedKFold(n_splits=10, shuffle=True, random_state=42)\n",
    "    # Define metrics\n",
    "    metrics = {\n",
    "        'Precision': make_scorer(precision_score, average='weighted'),\n",
    "        'Recall': make_scorer(recall_score, average='weighted'),\n",
    "        'F1 score': make_scorer(f1_score, average='weighted')\n",
    "    }\n",
    "    # Perform cross-validation and evaluate using different metrics\n",
    "    metrics_results = {}\n",
    "    for name, metric in metrics.items():\n",
    "        scores = cross_val_score(model, X, y, cv=cv, scoring=metric).mean()\n",
    "        metrics_results[name] = scores\n",
    "    return metrics_results\n",
    "\n",
    "\n",
    "\"\"\" Calculate Metrics \"\"\"\n",
    "def model_metrics(y_test, y_pred):    \n",
    "    precision = precision_score(y_test, y_pred, average='weighted')\n",
    "    recall = recall_score(y_test, y_pred, average='weighted')\n",
    "    f1 = f1_score(y_test, y_pred, average='weighted')\n",
    "    # Compute confusion matrix\n",
    "    cm = confusion_matrix(y_test, y_pred) \n",
    "    return precision, recall, f1, cm"
   ]
  },
  {
   "cell_type": "markdown",
   "metadata": {},
   "source": [
    "##### Models evaluation "
   ]
  },
  {
   "cell_type": "code",
   "execution_count": 322,
   "metadata": {},
   "outputs": [
    {
     "name": "stdout",
     "output_type": "stream",
     "text": [
      "\n",
      "Model: \n",
      " XGBClassifier(base_score=None, booster=None, callbacks=None,\n",
      "              colsample_bylevel=None, colsample_bynode=None,\n",
      "              colsample_bytree=None, device=None, early_stopping_rounds=None,\n",
      "              enable_categorical=False, eval_metric='logloss',\n",
      "              feature_types=None, gamma=None, grow_policy=None,\n",
      "              importance_type=None, interaction_constraints=None,\n",
      "              learning_rate=None, max_bin=None, max_cat_threshold=None,\n",
      "              max_cat_to_onehot=None, max_delta_step=None, max_depth=None,\n",
      "              max_leaves=None, min_child_weight=None, missing=nan,\n",
      "              monotone_constraints=None, multi_strategy=None, n_estimators=None,\n",
      "              n_jobs=None, num_parallel_tree=None, random_state=42, ...)\n",
      "\n",
      "====== Upsampled the minority class data ======\n",
      "Before SMOTE:  Counter({0: 39959, 1: 41})\n",
      "After SMOTE:  Counter({0: 39959, 1: 39959})\n",
      "\n",
      "===================== Beginning cross validation ========================== \n",
      "==== Model evaluation results on train data via cross-validation ====\n",
      "Precision --> 0.9985150324308995\n",
      "Recall --> 0.998510985957801\n",
      "F1 score --> 0.9985109822272017\n",
      "\n",
      "==== Model evaluation results on test data ====\n",
      "Precision --> 0.9976186650257097\n",
      "Recall --> 0.9897\n",
      "F1 score --> 0.993577628443011\n"
     ]
    },
    {
     "data": {
      "image/png": "[encoded data removed]",
      "text/plain": [
       "<Figure size 400x300 with 2 Axes>"
      ]
     },
     "metadata": {},
     "output_type": "display_data"
    },
    {
     "name": "stdout",
     "output_type": "stream",
     "text": [
      "==================================================================================\n",
      "\n",
      "\n",
      "Model: \n",
      " RandomForestClassifier(random_state=42)\n",
      "\n",
      "====== Upsampled the minority class data ======\n",
      "Before SMOTE:  Counter({0: 39959, 1: 41})\n",
      "After SMOTE:  Counter({0: 39959, 1: 39959})\n",
      "\n",
      "===================== Beginning cross validation ========================== \n",
      "==== Model evaluation results on train data via cross-validation ====\n",
      "Precision --> 0.9988758565067697\n",
      "Recall --> 0.9988738582156177\n",
      "F1 score --> 0.9988738567725998\n",
      "\n",
      "==== Model evaluation results on test data ====\n",
      "Precision --> 0.9973990881763528\n",
      "Recall --> 0.9967\n",
      "F1 score --> 0.9970494215455503\n"
     ]
    },
    {
     "data": {
      "image/png": "[encoded data removed]",
      "text/plain": [
       "<Figure size 400x300 with 2 Axes>"
      ]
     },
     "metadata": {},
     "output_type": "display_data"
    },
    {
     "name": "stdout",
     "output_type": "stream",
     "text": [
      "==================================================================================\n",
      "\n",
      "\n",
      "Model: \n",
      " ExtraTreesClassifier(random_state=42)\n",
      "\n",
      "====== Upsampled the minority class data ======\n",
      "Before SMOTE:  Counter({0: 39959, 1: 41})\n",
      "After SMOTE:  Counter({0: 39959, 1: 39959})\n",
      "\n",
      "===================== Beginning cross validation ========================== \n",
      "==== Model evaluation results on train data via cross-validation ====\n",
      "Precision --> 0.9992754386150781\n",
      "Recall --> 0.9992742570501925\n",
      "F1 score --> 0.9992742565167136\n",
      "\n",
      "==== Model evaluation results on test data ====\n",
      "Precision --> 0.9973990881763528\n",
      "Recall --> 0.9967\n",
      "F1 score --> 0.9970494215455503\n"
     ]
    },
    {
     "data": {
      "image/png": "[encoded data removed]",
      "text/plain": [
       "<Figure size 400x300 with 2 Axes>"
      ]
     },
     "metadata": {},
     "output_type": "display_data"
    },
    {
     "name": "stdout",
     "output_type": "stream",
     "text": [
      "==================================================================================\n",
      "\n",
      "\n",
      "Metrics based on cross validating on Train data:\n"
     ]
    },
    {
     "data": {
      "text/html": [
       "<div>\n",
       "<style scoped>\n",
       "    .dataframe tbody tr th:only-of-type {\n",
       "        vertical-align: middle;\n",
       "    }\n",
       "\n",
       "    .dataframe tbody tr th {\n",
       "        vertical-align: top;\n",
       "    }\n",
       "\n",
       "    .dataframe thead th {\n",
       "        text-align: right;\n",
       "    }\n",
       "</style>\n",
       "<table border=\"1\" class=\"dataframe\">\n",
       "  <thead>\n",
       "    <tr style=\"text-align: right;\">\n",
       "      <th></th>\n",
       "      <th>Model</th>\n",
       "      <th>Precision</th>\n",
       "      <th>Recall</th>\n",
       "      <th>F1 score</th>\n",
       "    </tr>\n",
       "  </thead>\n",
       "  <tbody>\n",
       "    <tr>\n",
       "      <th>0</th>\n",
       "      <td>XGBClassifier</td>\n",
       "      <td>0.998515</td>\n",
       "      <td>0.998511</td>\n",
       "      <td>0.998511</td>\n",
       "    </tr>\n",
       "    <tr>\n",
       "      <th>1</th>\n",
       "      <td>RandomForestClassifier</td>\n",
       "      <td>0.998876</td>\n",
       "      <td>0.998874</td>\n",
       "      <td>0.998874</td>\n",
       "    </tr>\n",
       "    <tr>\n",
       "      <th>2</th>\n",
       "      <td>ExtraTreesClassifier</td>\n",
       "      <td>0.999275</td>\n",
       "      <td>0.999274</td>\n",
       "      <td>0.999274</td>\n",
       "    </tr>\n",
       "  </tbody>\n",
       "</table>\n",
       "</div>"
      ],
      "text/plain": [
       "                    Model  Precision    Recall  F1 score\n",
       "0           XGBClassifier   0.998515  0.998511  0.998511\n",
       "1  RandomForestClassifier   0.998876  0.998874  0.998874\n",
       "2    ExtraTreesClassifier   0.999275  0.999274  0.999274"
      ]
     },
     "metadata": {},
     "output_type": "display_data"
    },
    {
     "name": "stdout",
     "output_type": "stream",
     "text": [
      "\n",
      "Metrics based on Test data:\n"
     ]
    },
    {
     "data": {
      "text/html": [
       "<div>\n",
       "<style scoped>\n",
       "    .dataframe tbody tr th:only-of-type {\n",
       "        vertical-align: middle;\n",
       "    }\n",
       "\n",
       "    .dataframe tbody tr th {\n",
       "        vertical-align: top;\n",
       "    }\n",
       "\n",
       "    .dataframe thead th {\n",
       "        text-align: right;\n",
       "    }\n",
       "</style>\n",
       "<table border=\"1\" class=\"dataframe\">\n",
       "  <thead>\n",
       "    <tr style=\"text-align: right;\">\n",
       "      <th></th>\n",
       "      <th>Model</th>\n",
       "      <th>Precision</th>\n",
       "      <th>Recall</th>\n",
       "      <th>F1 score</th>\n",
       "    </tr>\n",
       "  </thead>\n",
       "  <tbody>\n",
       "    <tr>\n",
       "      <th>0</th>\n",
       "      <td>XGBClassifier</td>\n",
       "      <td>0.997619</td>\n",
       "      <td>0.9897</td>\n",
       "      <td>0.993578</td>\n",
       "    </tr>\n",
       "    <tr>\n",
       "      <th>1</th>\n",
       "      <td>RandomForestClassifier</td>\n",
       "      <td>0.997399</td>\n",
       "      <td>0.9967</td>\n",
       "      <td>0.997049</td>\n",
       "    </tr>\n",
       "    <tr>\n",
       "      <th>2</th>\n",
       "      <td>ExtraTreesClassifier</td>\n",
       "      <td>0.997399</td>\n",
       "      <td>0.9967</td>\n",
       "      <td>0.997049</td>\n",
       "    </tr>\n",
       "  </tbody>\n",
       "</table>\n",
       "</div>"
      ],
      "text/plain": [
       "                    Model  Precision  Recall  F1 score\n",
       "0           XGBClassifier   0.997619  0.9897  0.993578\n",
       "1  RandomForestClassifier   0.997399  0.9967  0.997049\n",
       "2    ExtraTreesClassifier   0.997399  0.9967  0.997049"
      ]
     },
     "metadata": {},
     "output_type": "display_data"
    }
   ],
   "source": [
    "\"\"\"\n",
    "    Evaluating Models\n",
    "    - XGBClassifier()\n",
    "    - RandomForestClassifier()\n",
    "    - ExtraTreesClassifier()\n",
    "\"\"\"\n",
    "# intialize the model list and dicts\n",
    "models = []\n",
    "mean_score = {}\n",
    "std_dev = {}\n",
    "\n",
    "\n",
    "# define number of processes to run in parallel\n",
    "num_procs = -1\n",
    "\n",
    "# shared model parameters\n",
    "verbose_lvl = 0\n",
    "\n",
    "# Initialize the classifiers\n",
    "models = {\n",
    "    'XGBClassifier': XGBClassifier(eval_metric='logloss', random_state=42),\n",
    "    'RandomForestClassifier': RandomForestClassifier(n_estimators=100, random_state=42),\n",
    "    'ExtraTreesClassifier': ExtraTreesClassifier(n_estimators=100, random_state=42)\n",
    "}\n",
    "\n",
    "# Store performance metrics\n",
    "results_based_Train_data_cv = []\n",
    "results_based_Test_data = []\n",
    "\n",
    "\n",
    "for model_name, model in models.items():\n",
    "    print(\"\\nModel: \\n\", model)\n",
    "    # Upsampling train data\n",
    "    X_train_, y_train_ = upsampling_data(X_train, y_train)\n",
    "\n",
    "    # Models evaluation on Training Data\n",
    "    cv_scores = model_evaluation(model, X_train_, y_train_, num_procs)\n",
    "    temp_dict = {\"Model\" : model_name}\n",
    "    temp_dict.update(cv_scores)\n",
    "    results_based_Train_data_cv.append(temp_dict)\n",
    "    print(\"==== Model evaluation results on train data via cross-validation ====\")\n",
    "    for metric_name, scores in cv_scores.items():\n",
    "        print(f\"{metric_name} --> {scores}\")\n",
    "   \n",
    "    # Models training on Train data \n",
    "    model.fit(X_train_, y_train_)\n",
    "\n",
    "    # Prediction on Test data using trained model\n",
    "    y_pred = model.predict(X_test)\n",
    "\n",
    "    # Calculate evaluation metrics on Test data\n",
    "    precision, recall, f1, cm = model_metrics(y_test, y_pred)\n",
    "    print(\"\\n==== Model evaluation results on test data ====\")\n",
    "    print(f\"Precision --> {precision}\")\n",
    "    print(f\"Recall --> {recall}\")\n",
    "    print(f\"F1 score --> {f1}\")\n",
    "    # Plot confusion matrix\n",
    "    plt.figure(figsize=(4,3))\n",
    "    sns.heatmap(cm, annot=True, fmt=\"d\", cmap=\"Blues\")\n",
    "    plt.xlabel('Predicted Label')\n",
    "    plt.ylabel('True Label')\n",
    "    plt.title(f\"{model_name}\")\n",
    "    plt.show() \n",
    "\n",
    "    results_based_Test_data.append({\n",
    "        \"Model\" : model_name,\n",
    "        \"Precision\" : precision,\n",
    "        \"Recall\" : recall,\n",
    "        \"F1 score\": f1\n",
    "    })\n",
    "\n",
    "\n",
    "    print(\"==================================================================================\\n\")\n",
    "\n",
    "print(f\"\\nMetrics based on cross validating on Train data:\")\n",
    "display(pd.DataFrame(results_based_Train_data_cv))\n",
    "print(f\"\\nMetrics based on Test data:\")\n",
    "display(pd.DataFrame(results_based_Test_data))"
   ]
  },
  {
   "cell_type": "markdown",
   "metadata": {},
   "source": [
    "#### Choosing the XGBoost Model as our Final Model"
   ]
  },
  {
   "cell_type": "code",
   "execution_count": 324,
   "metadata": {},
   "outputs": [],
   "source": [
    "\n",
    "\n",
    "# # Upsampling train data\n",
    "# X_train_, y_train_ = upsampling_data(X_train, y_train)\n",
    "\n",
    "# # Initialize the XGBClassifier\n",
    "# xgb_base = XGBClassifier(eval_metric='logloss')\n",
    "# # Models training on Train data \n",
    "# xgb_base.fit(X_train_, y_train_)\n",
    "\n",
    "# # Prediction on Test data using trained model\n",
    "# y_pred = xgb_base.predict(X_test)\n",
    "\n",
    "# # Calculate evaluation metrics on Test data\n",
    "# precision, recall, f1 = model_metrics(y_test, y_pred)\n",
    "\n",
    "\n",
    "\n",
    "\n"
   ]
  },
  {
   "cell_type": "code",
   "execution_count": null,
   "metadata": {},
   "outputs": [],
   "source": []
  }
 ],
 "metadata": {
  "kernelspec": {
   "display_name": "venv",
   "language": "python",
   "name": "python3"
  },
  "language_info": {
   "codemirror_mode": {
    "name": "ipython",
    "version": 3
   },
   "file_extension": ".py",
   "mimetype": "text/x-python",
   "name": "python",
   "nbconvert_exporter": "python",
   "pygments_lexer": "ipython3",
   "version": "3.8.0"
  }
 },
 "nbformat": 4,
 "nbformat_minor": 2
}
