{
 "cells": [
  {
   "cell_type": "markdown",
   "metadata": {},
   "source": [
    "# Anti Money Laundering (AML) Fraud Detection\n",
    "\n",
    "\n",
    "        Life cycle of Machine Learning Project:\n",
    "\n",
    "            1. Understanding the Problem Statement\n",
    "\n",
    "            2. Data Collection\n",
    "\n",
    "            3. Data Checks to perform\n",
    "\n",
    "            4. Exploratory Data Analysis\n",
    "\n",
    "            5. Data Pre-Processing\n",
    "\n",
    "            6. Model Evaluation and Training\n",
    "\n",
    "            7. Choose Best Model\n"
   ]
  },
  {
   "cell_type": "markdown",
   "metadata": {},
   "source": [
    "## 1. Problem Statement\n",
    "\n",
    "Money laundering is a multi-billion dollar issue. Detection of laundering is very difficult. Most automated algorithms have a high false positive rate: legitimate transactions incorrectly flagged as laundering. The converse is also a major problem -- false negatives, i.e. undetected laundering transactions. Naturally, criminals work hard to cover their tracks.\n",
    "\n",
    "Access to real financial transaction data is highly restricted -- for both proprietary and privacy reasons. Even when access is possible, it is problematic to provide a correct tag (laundering or legitimate) to each transaction -- as noted above. This synthetic transaction data from IBM avoids these problems.\n",
    "\n",
    "The data provided here is based on a virtual world inhabited by individuals, companies, and banks."
   ]
  },
  {
   "cell_type": "markdown",
   "metadata": {},
   "source": [
    "## 2. Data Collection\n",
    "- Data source: https://www.kaggle.com/datasets/ealtman2019/ibm-transactions-for-anti-money-laundering-aml/data"
   ]
  },
  {
   "cell_type": "markdown",
   "metadata": {},
   "source": [
    "### 2.1 Import Required Packages"
   ]
  },
  {
   "cell_type": "code",
   "execution_count": 1,
   "metadata": {},
   "outputs": [],
   "source": [
    "# Import libraries\n",
    "import pandas as pd\n",
    "import numpy as np\n",
    "import matplotlib.pyplot as plt\n",
    "import seaborn as sns\n",
    "%matplotlib inline\n",
    "\n",
    "from statsmodels.stats.outliers_influence import variance_inflation_factor\n",
    "from statsmodels.tools.tools import add_constant\n",
    "from scipy.stats import chi2_contingency"
   ]
  },
  {
   "cell_type": "markdown",
   "metadata": {},
   "source": [
    "### 2.2 Import Data"
   ]
  },
  {
   "cell_type": "code",
   "execution_count": 2,
   "metadata": {},
   "outputs": [
    {
     "name": "stdout",
     "output_type": "stream",
     "text": [
      "c:\\Users\\yrobi\\Desktop\\Robin World\\Data Science - Machine Learning Prep\\01 - MLOps\\AML-Fraud-Detection\\notebook\n",
      "c:\\Users\\yrobi\\Desktop\\Robin World\\Data Science - Machine Learning Prep\\01 - MLOps\\AML-Fraud-Detection\\notebook\\data\n",
      "c:\\Users\\yrobi\\Desktop\\Robin World\\Data Science - Machine Learning Prep\\01 - MLOps\\AML-Fraud-Detection\\notebook\\data\\HI-Small_Trans.csv\n"
     ]
    }
   ],
   "source": [
    "import os\n",
    "# Get the current working directory\n",
    "cwd = os.getcwd()\n",
    "print(cwd)\n",
    "\n",
    "# Navigate to the data folder\n",
    "data_folder = os.path.abspath(os.path.join(cwd, \"data\"))\n",
    "print(data_folder)\n",
    "\n",
    "csv_file = os.path.join(data_folder, \"HI-Small_Trans.csv\")\n",
    "print(csv_file)"
   ]
  },
  {
   "cell_type": "code",
   "execution_count": 3,
   "metadata": {},
   "outputs": [
    {
     "name": "stdout",
     "output_type": "stream",
     "text": [
      "Shape of data:  \n",
      " No. of records: 5078345 \n",
      " No. features: 11\n"
     ]
    }
   ],
   "source": [
    "# Load the CSV file into a pandas DataFrame\n",
    "aml_trans_df = pd.read_csv(csv_file)\n",
    "# display(aml_trans_df.head())\n",
    "print(f\"Shape of data:  \\n No. of records: {aml_trans_df.shape[0]} \\n No. features: {aml_trans_df.shape[1]}\")"
   ]
  },
  {
   "cell_type": "code",
   "execution_count": 4,
   "metadata": {},
   "outputs": [
    {
     "name": "stdout",
     "output_type": "stream",
     "text": [
      "Shape of data:  \n",
      " No. of records: 50000 \n",
      " No. features: 11\n"
     ]
    }
   ],
   "source": [
    "# Take small sample of data from the original data\n",
    "aml_trans_sm_df = aml_trans_df.sample(n=50000, random_state=6)\n",
    "print(f\"Shape of data:  \\n No. of records: {aml_trans_sm_df.shape[0]} \\n No. features: {aml_trans_sm_df.shape[1]}\")"
   ]
  },
  {
   "cell_type": "markdown",
   "metadata": {},
   "source": [
    "#### Show Top 5 records"
   ]
  },
  {
   "cell_type": "code",
   "execution_count": 5,
   "metadata": {},
   "outputs": [
    {
     "data": {
      "text/html": [
       "<div>\n",
       "<style scoped>\n",
       "    .dataframe tbody tr th:only-of-type {\n",
       "        vertical-align: middle;\n",
       "    }\n",
       "\n",
       "    .dataframe tbody tr th {\n",
       "        vertical-align: top;\n",
       "    }\n",
       "\n",
       "    .dataframe thead th {\n",
       "        text-align: right;\n",
       "    }\n",
       "</style>\n",
       "<table border=\"1\" class=\"dataframe\">\n",
       "  <thead>\n",
       "    <tr style=\"text-align: right;\">\n",
       "      <th></th>\n",
       "      <th>Timestamp</th>\n",
       "      <th>From Bank</th>\n",
       "      <th>Account</th>\n",
       "      <th>To Bank</th>\n",
       "      <th>Account.1</th>\n",
       "      <th>Amount Received</th>\n",
       "      <th>Receiving Currency</th>\n",
       "      <th>Amount Paid</th>\n",
       "      <th>Payment Currency</th>\n",
       "      <th>Payment Format</th>\n",
       "      <th>Is Laundering</th>\n",
       "    </tr>\n",
       "  </thead>\n",
       "  <tbody>\n",
       "    <tr>\n",
       "      <th>3507139</th>\n",
       "      <td>2022/09/07 12:15</td>\n",
       "      <td>29</td>\n",
       "      <td>80CF063F0</td>\n",
       "      <td>235843</td>\n",
       "      <td>80CFE1EB0</td>\n",
       "      <td>386006.86</td>\n",
       "      <td>Brazil Real</td>\n",
       "      <td>386006.86</td>\n",
       "      <td>Brazil Real</td>\n",
       "      <td>Cheque</td>\n",
       "      <td>0</td>\n",
       "    </tr>\n",
       "    <tr>\n",
       "      <th>2054082</th>\n",
       "      <td>2022/09/03 21:15</td>\n",
       "      <td>70</td>\n",
       "      <td>100428660</td>\n",
       "      <td>22732</td>\n",
       "      <td>80BFEBFF0</td>\n",
       "      <td>8638.95</td>\n",
       "      <td>US Dollar</td>\n",
       "      <td>8638.95</td>\n",
       "      <td>US Dollar</td>\n",
       "      <td>Cheque</td>\n",
       "      <td>0</td>\n",
       "    </tr>\n",
       "    <tr>\n",
       "      <th>4745576</th>\n",
       "      <td>2022/09/09 19:22</td>\n",
       "      <td>338871</td>\n",
       "      <td>8144F97F0</td>\n",
       "      <td>15964</td>\n",
       "      <td>8144FEB20</td>\n",
       "      <td>80.84</td>\n",
       "      <td>Euro</td>\n",
       "      <td>80.84</td>\n",
       "      <td>Euro</td>\n",
       "      <td>Credit Card</td>\n",
       "      <td>0</td>\n",
       "    </tr>\n",
       "    <tr>\n",
       "      <th>1999193</th>\n",
       "      <td>2022/09/03 14:11</td>\n",
       "      <td>70</td>\n",
       "      <td>1004286A8</td>\n",
       "      <td>1502</td>\n",
       "      <td>812191060</td>\n",
       "      <td>46480.59</td>\n",
       "      <td>Euro</td>\n",
       "      <td>46480.59</td>\n",
       "      <td>Euro</td>\n",
       "      <td>Cheque</td>\n",
       "      <td>0</td>\n",
       "    </tr>\n",
       "    <tr>\n",
       "      <th>800550</th>\n",
       "      <td>2022/09/01 14:46</td>\n",
       "      <td>1</td>\n",
       "      <td>803A2CC10</td>\n",
       "      <td>130342</td>\n",
       "      <td>80C982930</td>\n",
       "      <td>118.46</td>\n",
       "      <td>US Dollar</td>\n",
       "      <td>118.46</td>\n",
       "      <td>US Dollar</td>\n",
       "      <td>Cheque</td>\n",
       "      <td>0</td>\n",
       "    </tr>\n",
       "  </tbody>\n",
       "</table>\n",
       "</div>"
      ],
      "text/plain": [
       "                Timestamp  From Bank    Account  To Bank  Account.1  \\\n",
       "3507139  2022/09/07 12:15         29  80CF063F0   235843  80CFE1EB0   \n",
       "2054082  2022/09/03 21:15         70  100428660    22732  80BFEBFF0   \n",
       "4745576  2022/09/09 19:22     338871  8144F97F0    15964  8144FEB20   \n",
       "1999193  2022/09/03 14:11         70  1004286A8     1502  812191060   \n",
       "800550   2022/09/01 14:46          1  803A2CC10   130342  80C982930   \n",
       "\n",
       "         Amount Received Receiving Currency  Amount Paid Payment Currency  \\\n",
       "3507139        386006.86        Brazil Real    386006.86      Brazil Real   \n",
       "2054082          8638.95          US Dollar      8638.95        US Dollar   \n",
       "4745576            80.84               Euro        80.84             Euro   \n",
       "1999193         46480.59               Euro     46480.59             Euro   \n",
       "800550            118.46          US Dollar       118.46        US Dollar   \n",
       "\n",
       "        Payment Format  Is Laundering  \n",
       "3507139         Cheque              0  \n",
       "2054082         Cheque              0  \n",
       "4745576    Credit Card              0  \n",
       "1999193         Cheque              0  \n",
       "800550          Cheque              0  "
      ]
     },
     "execution_count": 5,
     "metadata": {},
     "output_type": "execute_result"
    }
   ],
   "source": [
    "aml_trans_sm_df.head()"
   ]
  },
  {
   "cell_type": "markdown",
   "metadata": {},
   "source": [
    "### 2.2 Dataset Information\n",
    "\n",
    "- `Timestamp` - Year/Month/Day Hour/Minute\n",
    "- `From Bank` - Numeric code for bank where transaction originates\n",
    "- `Account` - Hexadecimal code for account where transaction originates\n",
    "- `To Bank` - Numeric code for bank where transaction ends\n",
    "- `Account.1` - Hexadecimal code for account where transaction ends\n",
    "- `Amount Received` - Monetary amount received in From account (in currency units of the next column)\n",
    "- `Receiving Currency` - Currency such as dollars, euros, etc of From account\n",
    "- `Amount Paid` - Monetary amount paid (in currency units of the next column)\n",
    "- `Payment Currency` - Currency such as dollars, euros, etc of From account\n",
    "- `Payement Format` - How transaction was conducted, e.g. cheque, ACH, wire, credit cards, etc.\n",
    "- `Is Laundering` - Target variable"
   ]
  },
  {
   "cell_type": "markdown",
   "metadata": {},
   "source": [
    "## 3 Data Checks to perform\n",
    "- Check Duplicates\n",
    "- Check Missing Values\n",
    "- Check Data Types\n",
    "- Check the number of unique values of each column\n",
    "- Check Statitics of Data\n",
    "- Check various categories present in the different column"
   ]
  },
  {
   "cell_type": "markdown",
   "metadata": {},
   "source": [
    "### 3.1 Check Duplicates"
   ]
  },
  {
   "cell_type": "code",
   "execution_count": 6,
   "metadata": {},
   "outputs": [
    {
     "data": {
      "text/plain": [
       "0"
      ]
     },
     "execution_count": 6,
     "metadata": {},
     "output_type": "execute_result"
    }
   ],
   "source": [
    "aml_trans_sm_df.duplicated(keep=\"first\").sum()"
   ]
  },
  {
   "cell_type": "markdown",
   "metadata": {},
   "source": [
    "### 3.2 Check Missing values"
   ]
  },
  {
   "cell_type": "code",
   "execution_count": 7,
   "metadata": {},
   "outputs": [
    {
     "data": {
      "text/plain": [
       "Timestamp             0\n",
       "From Bank             0\n",
       "Account               0\n",
       "To Bank               0\n",
       "Account.1             0\n",
       "Amount Received       0\n",
       "Receiving Currency    0\n",
       "Amount Paid           0\n",
       "Payment Currency      0\n",
       "Payment Format        0\n",
       "Is Laundering         0\n",
       "dtype: int64"
      ]
     },
     "execution_count": 7,
     "metadata": {},
     "output_type": "execute_result"
    }
   ],
   "source": [
    "aml_trans_sm_df.isna().sum()"
   ]
  },
  {
   "cell_type": "markdown",
   "metadata": {},
   "source": [
    "### 3.3 Check Data Types"
   ]
  },
  {
   "cell_type": "code",
   "execution_count": 8,
   "metadata": {},
   "outputs": [
    {
     "name": "stdout",
     "output_type": "stream",
     "text": [
      "<class 'pandas.core.frame.DataFrame'>\n",
      "Index: 50000 entries, 3507139 to 3159372\n",
      "Data columns (total 11 columns):\n",
      " #   Column              Non-Null Count  Dtype  \n",
      "---  ------              --------------  -----  \n",
      " 0   Timestamp           50000 non-null  object \n",
      " 1   From Bank           50000 non-null  int64  \n",
      " 2   Account             50000 non-null  object \n",
      " 3   To Bank             50000 non-null  int64  \n",
      " 4   Account.1           50000 non-null  object \n",
      " 5   Amount Received     50000 non-null  float64\n",
      " 6   Receiving Currency  50000 non-null  object \n",
      " 7   Amount Paid         50000 non-null  float64\n",
      " 8   Payment Currency    50000 non-null  object \n",
      " 9   Payment Format      50000 non-null  object \n",
      " 10  Is Laundering       50000 non-null  int64  \n",
      "dtypes: float64(2), int64(3), object(6)\n",
      "memory usage: 4.6+ MB\n"
     ]
    }
   ],
   "source": [
    "aml_trans_sm_df.info()"
   ]
  },
  {
   "cell_type": "markdown",
   "metadata": {},
   "source": [
    "### 3.4 Checking the number of unique values of each column"
   ]
  },
  {
   "cell_type": "code",
   "execution_count": 9,
   "metadata": {},
   "outputs": [
    {
     "data": {
      "text/plain": [
       "Timestamp             13022\n",
       "From Bank              3494\n",
       "Account               37420\n",
       "To Bank                2161\n",
       "Account.1             44258\n",
       "Amount Received       44567\n",
       "Receiving Currency       15\n",
       "Amount Paid           44618\n",
       "Payment Currency         15\n",
       "Payment Format            7\n",
       "Is Laundering             2\n",
       "dtype: int64"
      ]
     },
     "execution_count": 9,
     "metadata": {},
     "output_type": "execute_result"
    }
   ],
   "source": [
    "aml_trans_sm_df.nunique()"
   ]
  },
  {
   "cell_type": "markdown",
   "metadata": {},
   "source": [
    "### 3.5 Check Statistics of the Data set"
   ]
  },
  {
   "cell_type": "code",
   "execution_count": 10,
   "metadata": {},
   "outputs": [
    {
     "data": {
      "text/html": [
       "<div>\n",
       "<style scoped>\n",
       "    .dataframe tbody tr th:only-of-type {\n",
       "        vertical-align: middle;\n",
       "    }\n",
       "\n",
       "    .dataframe tbody tr th {\n",
       "        vertical-align: top;\n",
       "    }\n",
       "\n",
       "    .dataframe thead th {\n",
       "        text-align: right;\n",
       "    }\n",
       "</style>\n",
       "<table border=\"1\" class=\"dataframe\">\n",
       "  <thead>\n",
       "    <tr style=\"text-align: right;\">\n",
       "      <th></th>\n",
       "      <th>count</th>\n",
       "      <th>mean</th>\n",
       "      <th>std</th>\n",
       "      <th>min</th>\n",
       "      <th>25%</th>\n",
       "      <th>50%</th>\n",
       "      <th>75%</th>\n",
       "      <th>max</th>\n",
       "    </tr>\n",
       "  </thead>\n",
       "  <tbody>\n",
       "    <tr>\n",
       "      <th>From Bank</th>\n",
       "      <td>50000.0</td>\n",
       "      <td>4.634242e+04</td>\n",
       "      <td>8.244610e+04</td>\n",
       "      <td>1.000000</td>\n",
       "      <td>124.0000</td>\n",
       "      <td>10232.000</td>\n",
       "      <td>28694.0000</td>\n",
       "      <td>3.562190e+05</td>\n",
       "    </tr>\n",
       "    <tr>\n",
       "      <th>To Bank</th>\n",
       "      <td>50000.0</td>\n",
       "      <td>6.604474e+04</td>\n",
       "      <td>8.441844e+04</td>\n",
       "      <td>1.000000</td>\n",
       "      <td>4503.0000</td>\n",
       "      <td>21575.000</td>\n",
       "      <td>122352.0000</td>\n",
       "      <td>3.562190e+05</td>\n",
       "    </tr>\n",
       "    <tr>\n",
       "      <th>Amount Received</th>\n",
       "      <td>50000.0</td>\n",
       "      <td>1.598001e+07</td>\n",
       "      <td>2.129876e+09</td>\n",
       "      <td>0.000001</td>\n",
       "      <td>183.6175</td>\n",
       "      <td>1387.060</td>\n",
       "      <td>12332.7175</td>\n",
       "      <td>4.536185e+11</td>\n",
       "    </tr>\n",
       "    <tr>\n",
       "      <th>Amount Paid</th>\n",
       "      <td>50000.0</td>\n",
       "      <td>1.551440e+07</td>\n",
       "      <td>2.129498e+09</td>\n",
       "      <td>0.000001</td>\n",
       "      <td>184.4375</td>\n",
       "      <td>1391.025</td>\n",
       "      <td>12292.8175</td>\n",
       "      <td>4.536185e+11</td>\n",
       "    </tr>\n",
       "    <tr>\n",
       "      <th>Is Laundering</th>\n",
       "      <td>50000.0</td>\n",
       "      <td>1.080000e-03</td>\n",
       "      <td>3.284593e-02</td>\n",
       "      <td>0.000000</td>\n",
       "      <td>0.0000</td>\n",
       "      <td>0.000</td>\n",
       "      <td>0.0000</td>\n",
       "      <td>1.000000e+00</td>\n",
       "    </tr>\n",
       "  </tbody>\n",
       "</table>\n",
       "</div>"
      ],
      "text/plain": [
       "                   count          mean           std       min        25%  \\\n",
       "From Bank        50000.0  4.634242e+04  8.244610e+04  1.000000   124.0000   \n",
       "To Bank          50000.0  6.604474e+04  8.441844e+04  1.000000  4503.0000   \n",
       "Amount Received  50000.0  1.598001e+07  2.129876e+09  0.000001   183.6175   \n",
       "Amount Paid      50000.0  1.551440e+07  2.129498e+09  0.000001   184.4375   \n",
       "Is Laundering    50000.0  1.080000e-03  3.284593e-02  0.000000     0.0000   \n",
       "\n",
       "                       50%          75%           max  \n",
       "From Bank        10232.000   28694.0000  3.562190e+05  \n",
       "To Bank          21575.000  122352.0000  3.562190e+05  \n",
       "Amount Received   1387.060   12332.7175  4.536185e+11  \n",
       "Amount Paid       1391.025   12292.8175  4.536185e+11  \n",
       "Is Laundering        0.000       0.0000  1.000000e+00  "
      ]
     },
     "execution_count": 10,
     "metadata": {},
     "output_type": "execute_result"
    }
   ],
   "source": [
    "# Statistics of the Numerical columns\n",
    "aml_trans_sm_df.describe(include=np.number).T"
   ]
  },
  {
   "cell_type": "code",
   "execution_count": 11,
   "metadata": {},
   "outputs": [
    {
     "data": {
      "text/html": [
       "<div>\n",
       "<style scoped>\n",
       "    .dataframe tbody tr th:only-of-type {\n",
       "        vertical-align: middle;\n",
       "    }\n",
       "\n",
       "    .dataframe tbody tr th {\n",
       "        vertical-align: top;\n",
       "    }\n",
       "\n",
       "    .dataframe thead th {\n",
       "        text-align: right;\n",
       "    }\n",
       "</style>\n",
       "<table border=\"1\" class=\"dataframe\">\n",
       "  <thead>\n",
       "    <tr style=\"text-align: right;\">\n",
       "      <th></th>\n",
       "      <th>count</th>\n",
       "      <th>unique</th>\n",
       "      <th>top</th>\n",
       "      <th>freq</th>\n",
       "    </tr>\n",
       "  </thead>\n",
       "  <tbody>\n",
       "    <tr>\n",
       "      <th>Timestamp</th>\n",
       "      <td>50000</td>\n",
       "      <td>13022</td>\n",
       "      <td>2022/09/01 00:00</td>\n",
       "      <td>126</td>\n",
       "    </tr>\n",
       "    <tr>\n",
       "      <th>Account</th>\n",
       "      <td>50000</td>\n",
       "      <td>37420</td>\n",
       "      <td>100428660</td>\n",
       "      <td>1633</td>\n",
       "    </tr>\n",
       "    <tr>\n",
       "      <th>Account.1</th>\n",
       "      <td>50000</td>\n",
       "      <td>44258</td>\n",
       "      <td>100428660</td>\n",
       "      <td>18</td>\n",
       "    </tr>\n",
       "    <tr>\n",
       "      <th>Receiving Currency</th>\n",
       "      <td>50000</td>\n",
       "      <td>15</td>\n",
       "      <td>US Dollar</td>\n",
       "      <td>18577</td>\n",
       "    </tr>\n",
       "    <tr>\n",
       "      <th>Payment Currency</th>\n",
       "      <td>50000</td>\n",
       "      <td>15</td>\n",
       "      <td>US Dollar</td>\n",
       "      <td>18732</td>\n",
       "    </tr>\n",
       "    <tr>\n",
       "      <th>Payment Format</th>\n",
       "      <td>50000</td>\n",
       "      <td>7</td>\n",
       "      <td>Cheque</td>\n",
       "      <td>18194</td>\n",
       "    </tr>\n",
       "  </tbody>\n",
       "</table>\n",
       "</div>"
      ],
      "text/plain": [
       "                    count unique               top   freq\n",
       "Timestamp           50000  13022  2022/09/01 00:00    126\n",
       "Account             50000  37420         100428660   1633\n",
       "Account.1           50000  44258         100428660     18\n",
       "Receiving Currency  50000     15         US Dollar  18577\n",
       "Payment Currency    50000     15         US Dollar  18732\n",
       "Payment Format      50000      7            Cheque  18194"
      ]
     },
     "execution_count": 11,
     "metadata": {},
     "output_type": "execute_result"
    }
   ],
   "source": [
    "# Statistics of the Categorical columns\n",
    "aml_trans_sm_df.describe(include=np.object_).T"
   ]
  },
  {
   "cell_type": "code",
   "execution_count": 12,
   "metadata": {},
   "outputs": [
    {
     "data": {
      "text/plain": [
       "count                         50000\n",
       "mean     2022-09-05 07:06:18.866400\n",
       "min             2022-09-01 00:00:00\n",
       "25%             2022-09-02 03:50:00\n",
       "50%             2022-09-05 12:16:00\n",
       "75%             2022-09-08 03:16:00\n",
       "max             2022-09-14 13:27:00\n",
       "Name: Timestamp, dtype: object"
      ]
     },
     "execution_count": 12,
     "metadata": {},
     "output_type": "execute_result"
    }
   ],
   "source": [
    "pd.to_datetime(aml_trans_sm_df[\"Timestamp\"]).describe()"
   ]
  },
  {
   "cell_type": "code",
   "execution_count": 13,
   "metadata": {},
   "outputs": [
    {
     "data": {
      "text/html": [
       "<div>\n",
       "<style scoped>\n",
       "    .dataframe tbody tr th:only-of-type {\n",
       "        vertical-align: middle;\n",
       "    }\n",
       "\n",
       "    .dataframe tbody tr th {\n",
       "        vertical-align: top;\n",
       "    }\n",
       "\n",
       "    .dataframe thead th {\n",
       "        text-align: right;\n",
       "    }\n",
       "</style>\n",
       "<table border=\"1\" class=\"dataframe\">\n",
       "  <thead>\n",
       "    <tr style=\"text-align: right;\">\n",
       "      <th></th>\n",
       "      <th>Timestamp</th>\n",
       "      <th>From Bank</th>\n",
       "      <th>Account</th>\n",
       "      <th>To Bank</th>\n",
       "      <th>Account.1</th>\n",
       "      <th>Amount Received</th>\n",
       "      <th>Receiving Currency</th>\n",
       "      <th>Amount Paid</th>\n",
       "      <th>Payment Currency</th>\n",
       "      <th>Payment Format</th>\n",
       "      <th>Is Laundering</th>\n",
       "    </tr>\n",
       "  </thead>\n",
       "  <tbody>\n",
       "    <tr>\n",
       "      <th>3507139</th>\n",
       "      <td>2022/09/07 12:15</td>\n",
       "      <td>29</td>\n",
       "      <td>80CF063F0</td>\n",
       "      <td>235843</td>\n",
       "      <td>80CFE1EB0</td>\n",
       "      <td>386006.86</td>\n",
       "      <td>Brazil Real</td>\n",
       "      <td>386006.86</td>\n",
       "      <td>Brazil Real</td>\n",
       "      <td>Cheque</td>\n",
       "      <td>0</td>\n",
       "    </tr>\n",
       "    <tr>\n",
       "      <th>2054082</th>\n",
       "      <td>2022/09/03 21:15</td>\n",
       "      <td>70</td>\n",
       "      <td>100428660</td>\n",
       "      <td>22732</td>\n",
       "      <td>80BFEBFF0</td>\n",
       "      <td>8638.95</td>\n",
       "      <td>US Dollar</td>\n",
       "      <td>8638.95</td>\n",
       "      <td>US Dollar</td>\n",
       "      <td>Cheque</td>\n",
       "      <td>0</td>\n",
       "    </tr>\n",
       "  </tbody>\n",
       "</table>\n",
       "</div>"
      ],
      "text/plain": [
       "                Timestamp  From Bank    Account  To Bank  Account.1  \\\n",
       "3507139  2022/09/07 12:15         29  80CF063F0   235843  80CFE1EB0   \n",
       "2054082  2022/09/03 21:15         70  100428660    22732  80BFEBFF0   \n",
       "\n",
       "         Amount Received Receiving Currency  Amount Paid Payment Currency  \\\n",
       "3507139        386006.86        Brazil Real    386006.86      Brazil Real   \n",
       "2054082          8638.95          US Dollar      8638.95        US Dollar   \n",
       "\n",
       "        Payment Format  Is Laundering  \n",
       "3507139         Cheque              0  \n",
       "2054082         Cheque              0  "
      ]
     },
     "execution_count": 13,
     "metadata": {},
     "output_type": "execute_result"
    }
   ],
   "source": [
    "aml_trans_sm_df.head(2)"
   ]
  },
  {
   "cell_type": "markdown",
   "metadata": {},
   "source": [
    "## 4. Exploring Data (Visualization)"
   ]
  },
  {
   "cell_type": "code",
   "execution_count": 14,
   "metadata": {},
   "outputs": [
    {
     "data": {
      "text/plain": [
       "Index(['timestamp', 'from_bank', 'account', 'to_bank', 'account_1',\n",
       "       'amount_received', 'receiving_currency', 'amount_paid',\n",
       "       'payment_currency', 'payment_format', 'is_laundering'],\n",
       "      dtype='object')"
      ]
     },
     "execution_count": 14,
     "metadata": {},
     "output_type": "execute_result"
    }
   ],
   "source": [
    "aml_trans_sm_df.columns = aml_trans_sm_df.columns.str.lower().str.replace(' ', '_').str.replace('.', '_')\n",
    "aml_trans_sm_df.columns "
   ]
  },
  {
   "cell_type": "code",
   "execution_count": 15,
   "metadata": {},
   "outputs": [
    {
     "name": "stdout",
     "output_type": "stream",
     "text": [
      "Dimension of the data: (50000, 11)\n"
     ]
    }
   ],
   "source": [
    "df = aml_trans_sm_df.copy()\n",
    "print(f\"Dimension of the data: {df.shape}\")"
   ]
  },
  {
   "cell_type": "markdown",
   "metadata": {},
   "source": [
    "### Basic exploration"
   ]
  },
  {
   "cell_type": "code",
   "execution_count": 16,
   "metadata": {},
   "outputs": [
    {
     "name": "stdout",
     "output_type": "stream",
     "text": [
      "There are 5 Numerical Features: ['from_bank', 'to_bank', 'amount_received', 'amount_paid', 'is_laundering']\n",
      "There are 6 Categorical Features: ['timestamp', 'account', 'account_1', 'receiving_currency', 'payment_currency', 'payment_format']\n"
     ]
    }
   ],
   "source": [
    "# Numerical and Categorical columns\n",
    "numeric_features = df.select_dtypes(include=np.number).columns.tolist()\n",
    "categorical_features = df.select_dtypes(include=object).columns.tolist()\n",
    "\n",
    "print(f\"There are {len(numeric_features)} Numerical Features: {numeric_features}\")\n",
    "print(f\"There are {len(categorical_features)} Categorical Features: {categorical_features}\")"
   ]
  },
  {
   "cell_type": "code",
   "execution_count": 17,
   "metadata": {},
   "outputs": [
    {
     "name": "stdout",
     "output_type": "stream",
     "text": [
      "timestamp\n",
      "2022/09/01 00:00    126\n",
      "2022/09/01 00:13    120\n",
      "2022/09/01 00:19    119\n",
      "2022/09/01 00:09    118\n",
      "2022/09/01 00:17    116\n",
      "                   ... \n",
      "2022/09/01 22:11      1\n",
      "2022/09/03 01:10      1\n",
      "2022/09/04 23:44      1\n",
      "2022/09/05 04:09      1\n",
      "2022/09/11 04:19      1\n",
      "Name: count, Length: 13022, dtype: int64\n",
      "------------------------------------\n",
      "account\n",
      "100428660    1633\n",
      "1004286A8     966\n",
      "100428978     200\n",
      "1004286F0     188\n",
      "100428810     176\n",
      "             ... \n",
      "80499C410       1\n",
      "808698560       1\n",
      "800DF1710       1\n",
      "80E0E8A50       1\n",
      "804B39FD0       1\n",
      "Name: count, Length: 37420, dtype: int64\n",
      "------------------------------------\n",
      "account_1\n",
      "100428660    18\n",
      "1004286A8     7\n",
      "802348C20     5\n",
      "803962460     5\n",
      "802C1AAC0     5\n",
      "             ..\n",
      "8086B7950     1\n",
      "808142E90     1\n",
      "804EE9800     1\n",
      "809E02110     1\n",
      "804AB4820     1\n",
      "Name: count, Length: 44258, dtype: int64\n",
      "------------------------------------\n",
      "receiving_currency\n",
      "US Dollar            18577\n",
      "Euro                 11488\n",
      "Swiss Franc           2275\n",
      "Yuan                  2098\n",
      "Shekel                1912\n",
      "Rupee                 1882\n",
      "UK Pound              1776\n",
      "Bitcoin               1539\n",
      "Yen                   1511\n",
      "Ruble                 1505\n",
      "Australian Dollar     1386\n",
      "Canadian Dollar       1362\n",
      "Mexican Peso          1075\n",
      "Saudi Riyal            871\n",
      "Brazil Real            743\n",
      "Name: count, dtype: int64\n",
      "------------------------------------\n",
      "payment_currency\n",
      "US Dollar            18732\n",
      "Euro                 11432\n",
      "Swiss Franc           2250\n",
      "Yuan                  2189\n",
      "Shekel                1875\n",
      "Rupee                 1863\n",
      "UK Pound              1779\n",
      "Bitcoin               1518\n",
      "Yen                   1495\n",
      "Ruble                 1479\n",
      "Australian Dollar     1370\n",
      "Canadian Dollar       1352\n",
      "Mexican Peso          1075\n",
      "Saudi Riyal            859\n",
      "Brazil Real            732\n",
      "Name: count, dtype: int64\n",
      "------------------------------------\n",
      "payment_format\n",
      "Cheque          18194\n",
      "Credit Card     12930\n",
      "ACH              6029\n",
      "Cash             4849\n",
      "Reinvestment     4753\n",
      "Wire             1727\n",
      "Bitcoin          1518\n",
      "Name: count, dtype: int64\n",
      "------------------------------------\n"
     ]
    }
   ],
   "source": [
    "# Proportion of count data on categorical columns\n",
    "for col in categorical_features:\n",
    "    print(f\"{df[col].value_counts(dropna=False)}\")\n",
    "    print(f\"------------------------------------\")"
   ]
  },
  {
   "cell_type": "markdown",
   "metadata": {},
   "source": [
    "##### Insights\n",
    "- `timestamp` have so many unique values - this will not add importance during model learning"
   ]
  },
  {
   "cell_type": "markdown",
   "metadata": {},
   "source": [
    "### Univariate Analysis\n",
    "- The term univariate analysis refers to the analysis of one variable prefix “uni” means “one.” The purpose of univariate analysis is to understand the distribution of values for a single variable.\n",
    "\n",
    "##### Other type of Analysis are\n",
    "- **Bivariate Analysis**: The analysis of two variables.\n",
    "- **Multivariate Analysis**: The analysis of two or more variables."
   ]
  },
  {
   "cell_type": "markdown",
   "metadata": {},
   "source": [
    "#### Numerical Features"
   ]
  },
  {
   "cell_type": "code",
   "execution_count": 18,
   "metadata": {},
   "outputs": [
    {
     "data": {
      "image/png": "[encoded data removed]",
      "text/plain": [
       "<Figure size 1500x1400 with 5 Axes>"
      ]
     },
     "metadata": {},
     "output_type": "display_data"
    }
   ],
   "source": [
    "plt.figure(figsize=(15,14))\n",
    "plt.suptitle(\"Univariate Analysis of Numerical Features\", fontsize=20, fontweight=\"bold\", alpha=0.8, y=1)\n",
    "for i in range(0, len(numeric_features)):\n",
    "    plt.subplot(3, 2, i+1)\n",
    "    sns.set_theme(style=\"whitegrid\")\n",
    "    ax = sns.kdeplot(x = df[numeric_features[i]], color='blue')\n",
    "    plt.xlabel(numeric_features[i])    "
   ]
  },
  {
   "cell_type": "markdown",
   "metadata": {},
   "source": [
    "#### Catgegorical Features"
   ]
  },
  {
   "cell_type": "code",
   "execution_count": 19,
   "metadata": {},
   "outputs": [],
   "source": [
    "\n",
    "# plt.figure(figsize=(15,15))\n",
    "# plt.suptitle(\"Univariate Analysis of Categorical Features\", fontsize=20, fontweight=\"bold\", alpha=0.8, y=1)\n",
    "# for i in range(0, len(categorical_features)):\n",
    "#     plt.subplot(3, 2, i+1)\n",
    "#     sns.set_theme(style=\"whitegrid\")\n",
    "#     ax = sns.countplot(x = df[categorical_features[i]], color='blue')\n",
    "#     plt.xlabel(categorical_features[i])\n",
    "    "
   ]
  },
  {
   "cell_type": "markdown",
   "metadata": {},
   "source": [
    "##### Insights\n",
    "- "
   ]
  },
  {
   "cell_type": "code",
   "execution_count": null,
   "metadata": {},
   "outputs": [],
   "source": []
  },
  {
   "cell_type": "markdown",
   "metadata": {},
   "source": [
    "### Multivariate Analysis"
   ]
  },
  {
   "cell_type": "markdown",
   "metadata": {},
   "source": [
    "#### Check Mutlicollinearity in Numerical features\n",
    "- VIF is used to assess the multicollinearity among the independent (predictor) variables\n",
    "- VIF measures how much the variance of a coefficient is inflated due to correlations with other predictors"
   ]
  },
  {
   "cell_type": "code",
   "execution_count": 20,
   "metadata": {},
   "outputs": [
    {
     "name": "stdout",
     "output_type": "stream",
     "text": [
      "           feature          VIF\n",
      "0            const     1.738639\n",
      "1        from_bank     1.087235\n",
      "2          to_bank     1.087288\n",
      "3  amount_received  2854.323471\n",
      "4      amount_paid  2854.319113\n"
     ]
    }
   ],
   "source": [
    "df_numeric_features = df.select_dtypes(include=[np.number]).drop(columns = [\"is_laundering\"])\n",
    "# Add a constant to the model\n",
    "X = add_constant(df_numeric_features)\n",
    "\n",
    "# Calculate VIF for each feature\n",
    "vif_data = pd.DataFrame()\n",
    "vif_data[\"feature\"] = X.columns\n",
    "vif_data[\"VIF\"] = [variance_inflation_factor(X.values, i) for i in range(X.shape[1])]\n",
    "\n",
    "print(vif_data)"
   ]
  },
  {
   "cell_type": "markdown",
   "metadata": {},
   "source": [
    "##### Insights\n",
    "- VIF = 1: No multicollinearity.\n",
    "- 1 < VIF < 5: Moderate multicollinearity.\n",
    "- VIF > 5: High multicollinearity.\n",
    "\n",
    "- `amount_received` and `amount_paid` are high correlated, therefore one of them need to be droped."
   ]
  },
  {
   "cell_type": "markdown",
   "metadata": {},
   "source": [
    "#### Check Mutlicollinearity in Categorical features\n",
    "- A chi-squared test (also chi-square or χ2 test) is a statistical hypothesis test that is valid to perform when the test statistic is chi-squared distributed under the null hypothesis, specifically Pearson's chi-squared test\n",
    "\n",
    "- A chi-square statistic is one way to show a relationship between two categorical variables.\n",
    "\n",
    "- Here we test correlation of Categorical columns with Target column i.e case_status\n",
    "\n",
    "Null Hypothesis ($H_{0}$): The Feature is independent of target column (No-Correlation)\n",
    "\n",
    "Alternative Hypothesis ($H_{1}$): The Feature and target column are not independent (Correalted)"
   ]
  },
  {
   "cell_type": "code",
   "execution_count": 21,
   "metadata": {},
   "outputs": [
    {
     "data": {
      "text/html": [
       "<div>\n",
       "<style scoped>\n",
       "    .dataframe tbody tr th:only-of-type {\n",
       "        vertical-align: middle;\n",
       "    }\n",
       "\n",
       "    .dataframe tbody tr th {\n",
       "        vertical-align: top;\n",
       "    }\n",
       "\n",
       "    .dataframe thead th {\n",
       "        text-align: right;\n",
       "    }\n",
       "</style>\n",
       "<table border=\"1\" class=\"dataframe\">\n",
       "  <thead>\n",
       "    <tr style=\"text-align: right;\">\n",
       "      <th></th>\n",
       "      <th>Column</th>\n",
       "      <th>Hypothesis Result</th>\n",
       "    </tr>\n",
       "  </thead>\n",
       "  <tbody>\n",
       "    <tr>\n",
       "      <th>0</th>\n",
       "      <td>timestamp</td>\n",
       "      <td>Reject Null Hypothesis</td>\n",
       "    </tr>\n",
       "    <tr>\n",
       "      <th>1</th>\n",
       "      <td>account</td>\n",
       "      <td>Reject Null Hypothesis</td>\n",
       "    </tr>\n",
       "    <tr>\n",
       "      <th>2</th>\n",
       "      <td>account_1</td>\n",
       "      <td>Reject Null Hypothesis</td>\n",
       "    </tr>\n",
       "    <tr>\n",
       "      <th>3</th>\n",
       "      <td>receiving_currency</td>\n",
       "      <td>Fail to Reject Null Hypothesis</td>\n",
       "    </tr>\n",
       "    <tr>\n",
       "      <th>4</th>\n",
       "      <td>payment_currency</td>\n",
       "      <td>Fail to Reject Null Hypothesis</td>\n",
       "    </tr>\n",
       "    <tr>\n",
       "      <th>5</th>\n",
       "      <td>payment_format</td>\n",
       "      <td>Reject Null Hypothesis</td>\n",
       "    </tr>\n",
       "  </tbody>\n",
       "</table>\n",
       "</div>"
      ],
      "text/plain": [
       "               Column               Hypothesis Result\n",
       "0           timestamp          Reject Null Hypothesis\n",
       "1             account          Reject Null Hypothesis\n",
       "2           account_1          Reject Null Hypothesis\n",
       "3  receiving_currency  Fail to Reject Null Hypothesis\n",
       "4    payment_currency  Fail to Reject Null Hypothesis\n",
       "5      payment_format          Reject Null Hypothesis"
      ]
     },
     "execution_count": 21,
     "metadata": {},
     "output_type": "execute_result"
    }
   ],
   "source": [
    "chi2_test = []\n",
    "for feature in categorical_features:\n",
    "    if chi2_contingency(pd.crosstab(df['is_laundering'], df[feature]))[1] < 0.05:\n",
    "        chi2_test.append('Reject Null Hypothesis')\n",
    "    else:\n",
    "        chi2_test.append('Fail to Reject Null Hypothesis')\n",
    "result = pd.DataFrame(data=[categorical_features, chi2_test]).T\n",
    "result.columns = ['Column', 'Hypothesis Result']\n",
    "result"
   ]
  },
  {
   "cell_type": "markdown",
   "metadata": {},
   "source": [
    "##### Insights\n",
    "- Here `receiving_currency` and `payement_curreny` fails to Rejects Null Hypothesis which means it doesn't correlate with target column.\n",
    "- `receiving_currency` and `payement_curreny` are important features for model trainig and predictions"
   ]
  },
  {
   "cell_type": "markdown",
   "metadata": {},
   "source": [
    "#### Distribution Numerical Features by Is Laundering?"
   ]
  },
  {
   "cell_type": "code",
   "execution_count": 22,
   "metadata": {},
   "outputs": [
    {
     "name": "stdout",
     "output_type": "stream",
     "text": [
      "Num of continues features : Index(['from_bank', 'to_bank', 'amount_received', 'amount_paid'], dtype='object')\n"
     ]
    }
   ],
   "source": [
    "# continues_features=[feature for feature in numeric_features if len(df[feature].unique())>=10]\n",
    "print('Num of continues features :', df_numeric_features.columns)"
   ]
  },
  {
   "cell_type": "code",
   "execution_count": 23,
   "metadata": {},
   "outputs": [
    {
     "data": {
      "image/png": "[encoded data removed]",
      "text/plain": [
       "<Figure size 1000x1200 with 8 Axes>"
      ]
     },
     "metadata": {},
     "output_type": "display_data"
    }
   ],
   "source": [
    "clr1 = ['#1E90FF', '#DC143C']\n",
    "fig, ax = plt.subplots(4, 2, figsize=(10,12))\n",
    "fig.suptitle('Distribution of Numerical Features By Money Laundering', color='#3C3744',\n",
    "             fontsize=20, fontweight='bold', ha='center')\n",
    "for i, col in enumerate(df_numeric_features.columns):   \n",
    "    sns.boxplot(data=df, x='is_laundering', y=col,  hue='is_laundering', palette=clr1, ax=ax[i,0])\n",
    "    ax[i,0].set_title(f'Boxplot of {col}', fontsize=12)\n",
    "    sns.histplot(data=df, x=col, hue='is_laundering', bins=20, kde=True, multiple='stack', palette=clr1, ax=ax[i,1])\n",
    "    ax[i,1].set_title(f'Histogram of {col}', fontsize=14)\n",
    "fig.tight_layout()\n",
    "fig.subplots_adjust(top=0.90)"
   ]
  },
  {
   "cell_type": "markdown",
   "metadata": {},
   "source": [
    "#### Initial Analysis Report\n",
    "- `timestamp` column can be deleted because there are so many unique values\n",
    "- `receiving_currency` and `payement_curreny` are important features for model trainig and predictions\n",
    "- `amount_received` and `amount_paid` are high correlated, therefore one of them need to be droped.\n",
    "- "
   ]
  },
  {
   "cell_type": "code",
   "execution_count": null,
   "metadata": {},
   "outputs": [],
   "source": []
  },
  {
   "cell_type": "markdown",
   "metadata": {},
   "source": [
    "### 4.1 "
   ]
  },
  {
   "cell_type": "code",
   "execution_count": 24,
   "metadata": {},
   "outputs": [
    {
     "name": "stdout",
     "output_type": "stream",
     "text": [
      "is_laundering\n",
      "0    49946\n",
      "1       54\n",
      "Name: count, dtype: int64\n"
     ]
    },
    {
     "data": {
      "image/png": "[encoded data removed]",
      "text/plain": [
       "<Figure size 600x400 with 1 Axes>"
      ]
     },
     "metadata": {},
     "output_type": "display_data"
    }
   ],
   "source": [
    "# Exploring the target variable \"Is Laundering\"\n",
    "print(aml_trans_sm_df[\"is_laundering\"].value_counts(dropna=False))\n",
    "\n",
    "# Bar plot\n",
    "plt.figure(figsize=(6,4))\n",
    "sns.set_theme(style=\"whitegrid\")\n",
    "ax = sns.countplot(x=\"is_laundering\", data=aml_trans_sm_df)\n",
    "plt.title(\"Is Laundering\")\n",
    "plt.xlabel(\"Is Laundering?\")\n",
    "plt.show()"
   ]
  },
  {
   "cell_type": "code",
   "execution_count": null,
   "metadata": {},
   "outputs": [],
   "source": []
  },
  {
   "cell_type": "markdown",
   "metadata": {},
   "source": [
    "### Final Report\n",
    "- "
   ]
  },
  {
   "cell_type": "markdown",
   "metadata": {},
   "source": [
    "## 5. Data preprocessing or Feature Engineering"
   ]
  },
  {
   "cell_type": "code",
   "execution_count": 25,
   "metadata": {},
   "outputs": [],
   "source": [
    "from sklearn.impute import SimpleImputer\n",
    "from sklearn.preprocessing import RobustScaler, OrdinalEncoder\n",
    "from sklearn.pipeline import make_pipeline\n",
    "from sklearn.compose import make_column_transformer\n",
    "\n",
    "from sklearn.model_selection import train_test_split"
   ]
  },
  {
   "cell_type": "markdown",
   "metadata": {},
   "source": [
    "#### Train and Test dataset"
   ]
  },
  {
   "cell_type": "code",
   "execution_count": 26,
   "metadata": {},
   "outputs": [
    {
     "data": {
      "text/html": [
       "<div>\n",
       "<style scoped>\n",
       "    .dataframe tbody tr th:only-of-type {\n",
       "        vertical-align: middle;\n",
       "    }\n",
       "\n",
       "    .dataframe tbody tr th {\n",
       "        vertical-align: top;\n",
       "    }\n",
       "\n",
       "    .dataframe thead th {\n",
       "        text-align: right;\n",
       "    }\n",
       "</style>\n",
       "<table border=\"1\" class=\"dataframe\">\n",
       "  <thead>\n",
       "    <tr style=\"text-align: right;\">\n",
       "      <th></th>\n",
       "      <th>timestamp</th>\n",
       "      <th>from_bank</th>\n",
       "      <th>account</th>\n",
       "      <th>to_bank</th>\n",
       "      <th>account_1</th>\n",
       "      <th>amount_received</th>\n",
       "      <th>receiving_currency</th>\n",
       "      <th>amount_paid</th>\n",
       "      <th>payment_currency</th>\n",
       "      <th>payment_format</th>\n",
       "      <th>is_laundering</th>\n",
       "    </tr>\n",
       "  </thead>\n",
       "  <tbody>\n",
       "    <tr>\n",
       "      <th>1485112</th>\n",
       "      <td>2022/09/02 11:26</td>\n",
       "      <td>353132</td>\n",
       "      <td>814282F31</td>\n",
       "      <td>255063</td>\n",
       "      <td>814282BC1</td>\n",
       "      <td>0.02664</td>\n",
       "      <td>Bitcoin</td>\n",
       "      <td>0.02664</td>\n",
       "      <td>Bitcoin</td>\n",
       "      <td>Bitcoin</td>\n",
       "      <td>0</td>\n",
       "    </tr>\n",
       "    <tr>\n",
       "      <th>1258048</th>\n",
       "      <td>2022/09/02 04:29</td>\n",
       "      <td>29003</td>\n",
       "      <td>80B58DFD0</td>\n",
       "      <td>123390</td>\n",
       "      <td>80EC2ACA0</td>\n",
       "      <td>91604.31000</td>\n",
       "      <td>US Dollar</td>\n",
       "      <td>91604.31000</td>\n",
       "      <td>US Dollar</td>\n",
       "      <td>ACH</td>\n",
       "      <td>0</td>\n",
       "    </tr>\n",
       "  </tbody>\n",
       "</table>\n",
       "</div>"
      ],
      "text/plain": [
       "                timestamp  from_bank    account  to_bank  account_1  \\\n",
       "1485112  2022/09/02 11:26     353132  814282F31   255063  814282BC1   \n",
       "1258048  2022/09/02 04:29      29003  80B58DFD0   123390  80EC2ACA0   \n",
       "\n",
       "         amount_received receiving_currency  amount_paid payment_currency  \\\n",
       "1485112          0.02664            Bitcoin      0.02664          Bitcoin   \n",
       "1258048      91604.31000          US Dollar  91604.31000        US Dollar   \n",
       "\n",
       "        payment_format  is_laundering  \n",
       "1485112        Bitcoin              0  \n",
       "1258048            ACH              0  "
      ]
     },
     "execution_count": 26,
     "metadata": {},
     "output_type": "execute_result"
    }
   ],
   "source": [
    "#### Train and Test dataset split\n",
    "train_df, test_df = train_test_split(aml_trans_sm_df, test_size=0.2, random_state=42)\n",
    "train_df.head(2)"
   ]
  },
  {
   "cell_type": "markdown",
   "metadata": {},
   "source": [
    "####  Independent features and Dependent variable"
   ]
  },
  {
   "cell_type": "code",
   "execution_count": 27,
   "metadata": {},
   "outputs": [],
   "source": [
    "# Dividing into Independent features and Dependent feature\n",
    "target_column_name = \"is_laundering\"\n",
    "drop_columns = [target_column_name, \"timestamp\", \"amount_paid\"]\n",
    "input_features_train_df = train_df.drop(columns=drop_columns, axis=1)\n",
    "target_feature_train_df = train_df[target_column_name]\n",
    "\n",
    "input_features_test_df = test_df.drop(columns=drop_columns, axis=1)\n",
    "target_feature_test_df = test_df[target_column_name]"
   ]
  },
  {
   "cell_type": "code",
   "execution_count": 28,
   "metadata": {},
   "outputs": [
    {
     "name": "stdout",
     "output_type": "stream",
     "text": [
      "['from_bank', 'to_bank', 'amount_received']\n",
      "['account', 'account_1', 'receiving_currency', 'payment_currency', 'payment_format']\n"
     ]
    }
   ],
   "source": [
    "numerical_features = input_features_train_df.select_dtypes(include=np.number).columns.tolist()\n",
    "print(numerical_features)\n",
    "categorical_features = input_features_train_df.select_dtypes(include=object).columns.tolist()\n",
    "print(categorical_features)"
   ]
  },
  {
   "cell_type": "markdown",
   "metadata": {},
   "source": [
    "#### Defining Pipeline"
   ]
  },
  {
   "cell_type": "code",
   "execution_count": 29,
   "metadata": {},
   "outputs": [],
   "source": [
    "\"\"\" \n",
    "    - Preprocessing datasets for modeling\n",
    "    - Imputing, Scaling and encoding  \n",
    "\"\"\"\n",
    "def num_cat_transformer(num_type, cat_object_type):\n",
    "    # Preprocessing for numerical features:\n",
    "    num_transformer = make_pipeline(SimpleImputer(strategy='median'),\n",
    "                                    RobustScaler())\n",
    "\n",
    "    # Preprocessing for categorical features:\n",
    "    cat_transformer = make_pipeline(SimpleImputer(strategy='most_frequent'),\n",
    "                                    OrdinalEncoder(handle_unknown='use_encoded_value', unknown_value=-1))\n",
    "\n",
    "    ## Transforming both numerical and catergorical columns based preprocessing above\n",
    "    column_transformer = make_column_transformer((num_transformer, numerical_features),\n",
    "                                                 (cat_transformer, categorical_features),\n",
    "                                                 remainder=\"passthrough\")\n",
    "    return column_transformer"
   ]
  },
  {
   "cell_type": "markdown",
   "metadata": {},
   "source": [
    "#### Applying the column transformer to both Train and Test"
   ]
  },
  {
   "cell_type": "code",
   "execution_count": 30,
   "metadata": {},
   "outputs": [
    {
     "name": "stdout",
     "output_type": "stream",
     "text": [
      "Encoded and Scaled of the Train dataset \n"
     ]
    },
    {
     "data": {
      "text/html": [
       "<div>\n",
       "<style scoped>\n",
       "    .dataframe tbody tr th:only-of-type {\n",
       "        vertical-align: middle;\n",
       "    }\n",
       "\n",
       "    .dataframe tbody tr th {\n",
       "        vertical-align: top;\n",
       "    }\n",
       "\n",
       "    .dataframe thead th {\n",
       "        text-align: right;\n",
       "    }\n",
       "</style>\n",
       "<table border=\"1\" class=\"dataframe\">\n",
       "  <thead>\n",
       "    <tr style=\"text-align: right;\">\n",
       "      <th></th>\n",
       "      <th>0</th>\n",
       "      <th>1</th>\n",
       "      <th>2</th>\n",
       "      <th>3</th>\n",
       "      <th>4</th>\n",
       "      <th>5</th>\n",
       "      <th>6</th>\n",
       "      <th>7</th>\n",
       "    </tr>\n",
       "  </thead>\n",
       "  <tbody>\n",
       "    <tr>\n",
       "      <th>0</th>\n",
       "      <td>12.006860</td>\n",
       "      <td>1.981475</td>\n",
       "      <td>-0.113073</td>\n",
       "      <td>30792.0</td>\n",
       "      <td>35477.0</td>\n",
       "      <td>1.0</td>\n",
       "      <td>1.0</td>\n",
       "      <td>1.0</td>\n",
       "    </tr>\n",
       "    <tr>\n",
       "      <th>1</th>\n",
       "      <td>0.662969</td>\n",
       "      <td>0.864077</td>\n",
       "      <td>7.321705</td>\n",
       "      <td>22354.0</td>\n",
       "      <td>26319.0</td>\n",
       "      <td>12.0</td>\n",
       "      <td>12.0</td>\n",
       "      <td>0.0</td>\n",
       "    </tr>\n",
       "    <tr>\n",
       "      <th>2</th>\n",
       "      <td>4.667693</td>\n",
       "      <td>1.889222</td>\n",
       "      <td>0.061059</td>\n",
       "      <td>28169.0</td>\n",
       "      <td>31072.0</td>\n",
       "      <td>9.0</td>\n",
       "      <td>9.0</td>\n",
       "      <td>3.0</td>\n",
       "    </tr>\n",
       "    <tr>\n",
       "      <th>3</th>\n",
       "      <td>0.231617</td>\n",
       "      <td>-0.034063</td>\n",
       "      <td>8.689518</td>\n",
       "      <td>15524.0</td>\n",
       "      <td>11943.0</td>\n",
       "      <td>6.0</td>\n",
       "      <td>6.0</td>\n",
       "      <td>3.0</td>\n",
       "    </tr>\n",
       "    <tr>\n",
       "      <th>4</th>\n",
       "      <td>-0.344731</td>\n",
       "      <td>0.027249</td>\n",
       "      <td>0.501891</td>\n",
       "      <td>19608.0</td>\n",
       "      <td>16414.0</td>\n",
       "      <td>3.0</td>\n",
       "      <td>3.0</td>\n",
       "      <td>4.0</td>\n",
       "    </tr>\n",
       "  </tbody>\n",
       "</table>\n",
       "</div>"
      ],
      "text/plain": [
       "           0         1         2        3        4     5     6    7\n",
       "0  12.006860  1.981475 -0.113073  30792.0  35477.0   1.0   1.0  1.0\n",
       "1   0.662969  0.864077  7.321705  22354.0  26319.0  12.0  12.0  0.0\n",
       "2   4.667693  1.889222  0.061059  28169.0  31072.0   9.0   9.0  3.0\n",
       "3   0.231617 -0.034063  8.689518  15524.0  11943.0   6.0   6.0  3.0\n",
       "4  -0.344731  0.027249  0.501891  19608.0  16414.0   3.0   3.0  4.0"
      ]
     },
     "metadata": {},
     "output_type": "display_data"
    },
    {
     "name": "stdout",
     "output_type": "stream",
     "text": [
      "Encoded and Scaled of the Test dataset \n"
     ]
    },
    {
     "data": {
      "text/html": [
       "<div>\n",
       "<style scoped>\n",
       "    .dataframe tbody tr th:only-of-type {\n",
       "        vertical-align: middle;\n",
       "    }\n",
       "\n",
       "    .dataframe tbody tr th {\n",
       "        vertical-align: top;\n",
       "    }\n",
       "\n",
       "    .dataframe thead th {\n",
       "        text-align: right;\n",
       "    }\n",
       "</style>\n",
       "<table border=\"1\" class=\"dataframe\">\n",
       "  <thead>\n",
       "    <tr style=\"text-align: right;\">\n",
       "      <th></th>\n",
       "      <th>0</th>\n",
       "      <th>1</th>\n",
       "      <th>2</th>\n",
       "      <th>3</th>\n",
       "      <th>4</th>\n",
       "      <th>5</th>\n",
       "      <th>6</th>\n",
       "      <th>7</th>\n",
       "    </tr>\n",
       "  </thead>\n",
       "  <tbody>\n",
       "    <tr>\n",
       "      <th>0</th>\n",
       "      <td>0.828299</td>\n",
       "      <td>0.103183</td>\n",
       "      <td>1.227359</td>\n",
       "      <td>-1.0</td>\n",
       "      <td>-1.0</td>\n",
       "      <td>12.0</td>\n",
       "      <td>5.0</td>\n",
       "      <td>0.0</td>\n",
       "    </tr>\n",
       "    <tr>\n",
       "      <th>1</th>\n",
       "      <td>0.652154</td>\n",
       "      <td>0.853563</td>\n",
       "      <td>-0.099347</td>\n",
       "      <td>-1.0</td>\n",
       "      <td>-1.0</td>\n",
       "      <td>12.0</td>\n",
       "      <td>12.0</td>\n",
       "      <td>2.0</td>\n",
       "    </tr>\n",
       "    <tr>\n",
       "      <th>2</th>\n",
       "      <td>-0.349631</td>\n",
       "      <td>-0.072226</td>\n",
       "      <td>1.500295</td>\n",
       "      <td>1.0</td>\n",
       "      <td>-1.0</td>\n",
       "      <td>4.0</td>\n",
       "      <td>4.0</td>\n",
       "      <td>4.0</td>\n",
       "    </tr>\n",
       "    <tr>\n",
       "      <th>3</th>\n",
       "      <td>-0.351766</td>\n",
       "      <td>-0.182953</td>\n",
       "      <td>0.567904</td>\n",
       "      <td>-1.0</td>\n",
       "      <td>-1.0</td>\n",
       "      <td>6.0</td>\n",
       "      <td>6.0</td>\n",
       "      <td>2.0</td>\n",
       "    </tr>\n",
       "    <tr>\n",
       "      <th>4</th>\n",
       "      <td>-0.287229</td>\n",
       "      <td>-0.032578</td>\n",
       "      <td>-0.105046</td>\n",
       "      <td>-1.0</td>\n",
       "      <td>-1.0</td>\n",
       "      <td>12.0</td>\n",
       "      <td>12.0</td>\n",
       "      <td>3.0</td>\n",
       "    </tr>\n",
       "  </tbody>\n",
       "</table>\n",
       "</div>"
      ],
      "text/plain": [
       "          0         1         2    3    4     5     6    7\n",
       "0  0.828299  0.103183  1.227359 -1.0 -1.0  12.0   5.0  0.0\n",
       "1  0.652154  0.853563 -0.099347 -1.0 -1.0  12.0  12.0  2.0\n",
       "2 -0.349631 -0.072226  1.500295  1.0 -1.0   4.0   4.0  4.0\n",
       "3 -0.351766 -0.182953  0.567904 -1.0 -1.0   6.0   6.0  2.0\n",
       "4 -0.287229 -0.032578 -0.105046 -1.0 -1.0  12.0  12.0  3.0"
      ]
     },
     "metadata": {},
     "output_type": "display_data"
    }
   ],
   "source": [
    "column_transformer_tn = num_cat_transformer(numerical_features, categorical_features)\n",
    "input_features_train_array = column_transformer_tn.fit_transform(input_features_train_df)\n",
    "print(\"Encoded and Scaled of the Train dataset \")\n",
    "display(pd.DataFrame(input_features_train_array).head())\n",
    "\n",
    "input_features_test_array = column_transformer_tn.transform(input_features_test_df)\n",
    "print(\"Encoded and Scaled of the Test dataset \")\n",
    "display(pd.DataFrame(input_features_test_array).head())"
   ]
  },
  {
   "cell_type": "code",
   "execution_count": 31,
   "metadata": {},
   "outputs": [],
   "source": [
    "# concatenating all input features and target feature along column wise\n",
    "train_arr = np.c_[input_features_train_array, np.array(target_feature_train_df)]\n",
    "test_arr = np.c_[input_features_test_array, np.array(target_feature_test_df)]"
   ]
  },
  {
   "cell_type": "markdown",
   "metadata": {},
   "source": [
    "#### Save Train and Test data array"
   ]
  },
  {
   "cell_type": "code",
   "execution_count": 32,
   "metadata": {},
   "outputs": [],
   "source": [
    "# Save the arrays separately\n",
    "np.save('train_array.npy', train_arr)\n",
    "np.save('test_array.npy', test_arr)"
   ]
  },
  {
   "cell_type": "markdown",
   "metadata": {},
   "source": [
    "#### Load Train and Test data array"
   ]
  },
  {
   "cell_type": "code",
   "execution_count": 33,
   "metadata": {},
   "outputs": [],
   "source": [
    "# Load individual arrays\n",
    "loaded_train_array = np.load('train_array.npy')\n",
    "loaded_test_array = np.load('test_array.npy')"
   ]
  },
  {
   "cell_type": "code",
   "execution_count": 34,
   "metadata": {},
   "outputs": [
    {
     "data": {
      "text/plain": [
       "array([[12.00685962,  1.98147472, -0.11307259, ...,  1.        ,\n",
       "         1.        ,  0.        ],\n",
       "       [ 0.66296854,  0.86407726,  7.32170486, ..., 12.        ,\n",
       "         0.        ,  0.        ],\n",
       "       [ 4.66769328,  1.88922173,  0.06105891, ...,  9.        ,\n",
       "         3.        ,  0.        ],\n",
       "       ...,\n",
       "       [ 0.24033178,  0.81243052,  0.12487083, ...,  6.        ,\n",
       "         2.        ,  0.        ],\n",
       "       [-0.30854303,  1.60249154, -0.10773024, ..., 12.        ,\n",
       "         6.        ,  0.        ],\n",
       "       [ 0.39190845, -0.13078862, -0.01466758, ..., 12.        ,\n",
       "         3.        ,  0.        ]])"
      ]
     },
     "execution_count": 34,
     "metadata": {},
     "output_type": "execute_result"
    }
   ],
   "source": [
    "# check\n",
    "loaded_train_array"
   ]
  },
  {
   "cell_type": "code",
   "execution_count": null,
   "metadata": {},
   "outputs": [],
   "source": []
  }
 ],
 "metadata": {
  "kernelspec": {
   "display_name": "venv",
   "language": "python",
   "name": "python3"
  },
  "language_info": {
   "codemirror_mode": {
    "name": "ipython",
    "version": 3
   },
   "file_extension": ".py",
   "mimetype": "text/x-python",
   "name": "python",
   "nbconvert_exporter": "python",
   "pygments_lexer": "ipython3",
   "version": "3.8.0"
  }
 },
 "nbformat": 4,
 "nbformat_minor": 2
}
